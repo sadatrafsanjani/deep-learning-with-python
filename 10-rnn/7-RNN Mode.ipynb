{
 "cells": [
  {
   "cell_type": "code",
   "execution_count": 13,
   "metadata": {
    "colab_type": "code"
   },
   "outputs": [],
   "source": [
    "import pandas as pd\n",
    "import numpy as np\n",
    "from matplotlib import pyplot as plt\n",
    "from tensorflow.keras.utils import timeseries_dataset_from_array\n",
    "from tensorflow.keras import Input, Model\n",
    "from tensorflow.keras.layers import SimpleRNN\n",
    "from tensorflow.keras.callbacks import ModelCheckpoint\n",
    "from tensorflow.keras.models import load_model\n",
    "import matplotlib.pyplot as plt"
   ]
  },
  {
   "cell_type": "code",
   "execution_count": 3,
   "metadata": {},
   "outputs": [],
   "source": [
    "df = pd.read_csv(\"jena_climate_2009_2016.csv\")"
   ]
  },
  {
   "cell_type": "code",
   "execution_count": 4,
   "metadata": {},
   "outputs": [],
   "source": [
    "temperature = df[\"T (degC)\"].values"
   ]
  },
  {
   "cell_type": "code",
   "execution_count": 5,
   "metadata": {},
   "outputs": [],
   "source": [
    "raw_data = df.loc[:, \"p (mbar)\":\"wd (deg)\"].values"
   ]
  },
  {
   "cell_type": "markdown",
   "metadata": {
    "colab_type": "text"
   },
   "source": [
    "**Data split**"
   ]
  },
  {
   "cell_type": "code",
   "execution_count": 6,
   "metadata": {
    "colab_type": "code"
   },
   "outputs": [],
   "source": [
    "num_train_samples = int(0.5 * len(raw_data))\n",
    "num_val_samples = int(0.25 * len(raw_data))\n",
    "num_test_samples = len(raw_data) - num_train_samples - num_val_samples"
   ]
  },
  {
   "cell_type": "markdown",
   "metadata": {
    "colab_type": "text"
   },
   "source": [
    "**Normalizing the data**"
   ]
  },
  {
   "cell_type": "code",
   "execution_count": 7,
   "metadata": {
    "colab_type": "code"
   },
   "outputs": [],
   "source": [
    "mean = raw_data[:num_train_samples].mean(axis=0)\n",
    "raw_data -= mean\n",
    "\n",
    "std = raw_data[:num_train_samples].std(axis=0)\n",
    "raw_data /= std"
   ]
  },
  {
   "cell_type": "markdown",
   "metadata": {
    "colab_type": "text"
   },
   "source": [
    "**Instantiating datasets for training, validation, and testing**"
   ]
  },
  {
   "cell_type": "code",
   "execution_count": 8,
   "metadata": {
    "colab_type": "code"
   },
   "outputs": [],
   "source": [
    "sampling_rate = 6\n",
    "sequence_length = 120\n",
    "delay = sampling_rate * (sequence_length + 24 - 1)\n",
    "batch_size = 256"
   ]
  },
  {
   "cell_type": "code",
   "execution_count": 9,
   "metadata": {},
   "outputs": [],
   "source": [
    "train_dataset = timeseries_dataset_from_array(\n",
    "    raw_data[:-delay],\n",
    "    targets=temperature[delay:],\n",
    "    sampling_rate=sampling_rate,\n",
    "    sequence_length=sequence_length,\n",
    "    shuffle=True,\n",
    "    batch_size=batch_size,\n",
    "    start_index=0,\n",
    "    end_index=num_train_samples)\n",
    "\n",
    "val_dataset = timeseries_dataset_from_array(\n",
    "    raw_data[:-delay],\n",
    "    targets=temperature[delay:],\n",
    "    sampling_rate=sampling_rate,\n",
    "    sequence_length=sequence_length,\n",
    "    shuffle=True,\n",
    "    batch_size=batch_size,\n",
    "    start_index=num_train_samples,\n",
    "    end_index=num_train_samples + num_val_samples)\n",
    "\n",
    "test_dataset = timeseries_dataset_from_array(\n",
    "    raw_data[:-delay],\n",
    "    targets=temperature[delay:],\n",
    "    sampling_rate=sampling_rate,\n",
    "    sequence_length=sequence_length,\n",
    "    shuffle=True,\n",
    "    batch_size=batch_size,\n",
    "    start_index=num_train_samples + num_val_samples)"
   ]
  },
  {
   "cell_type": "markdown",
   "metadata": {
    "colab_type": "text"
   },
   "source": [
    "**An RNN layer that can process sequences of any length**"
   ]
  },
  {
   "cell_type": "code",
   "execution_count": 19,
   "metadata": {
    "colab_type": "code"
   },
   "outputs": [
    {
     "name": "stdout",
     "output_type": "stream",
     "text": [
      "Epoch 1/10\n",
      "819/819 [==============================] - 53s 63ms/step - loss: 139.1582 - mae: 9.7176 - val_loss: 144.2467 - val_mae: 9.9276\n",
      "Epoch 2/10\n",
      "819/819 [==============================] - 52s 64ms/step - loss: 136.4020 - mae: 9.5621 - val_loss: 143.7609 - val_mae: 9.8748\n",
      "Epoch 3/10\n",
      "819/819 [==============================] - 51s 62ms/step - loss: 136.2431 - mae: 9.5495 - val_loss: 143.7359 - val_mae: 9.8776\n",
      "Epoch 4/10\n",
      "819/819 [==============================] - 51s 62ms/step - loss: 136.2158 - mae: 9.5468 - val_loss: 143.6772 - val_mae: 9.8697\n",
      "Epoch 5/10\n",
      "819/819 [==============================] - 51s 62ms/step - loss: 136.1543 - mae: 9.5397 - val_loss: 143.6290 - val_mae: 9.8628\n",
      "Epoch 6/10\n",
      "819/819 [==============================] - 54s 66ms/step - loss: 136.1160 - mae: 9.5357 - val_loss: 143.5817 - val_mae: 9.8556\n",
      "Epoch 7/10\n",
      "819/819 [==============================] - 54s 66ms/step - loss: 136.0927 - mae: 9.5341 - val_loss: 143.6300 - val_mae: 9.8637\n",
      "Epoch 8/10\n",
      "819/819 [==============================] - 53s 65ms/step - loss: 136.0905 - mae: 9.5333 - val_loss: 143.5882 - val_mae: 9.8564\n",
      "Epoch 9/10\n",
      "819/819 [==============================] - 54s 66ms/step - loss: 136.0987 - mae: 9.5332 - val_loss: 143.5522 - val_mae: 9.8527\n",
      "Epoch 10/10\n",
      "819/819 [==============================] - 55s 67ms/step - loss: 136.1008 - mae: 9.5332 - val_loss: 143.5287 - val_mae: 9.8483\n"
     ]
    }
   ],
   "source": [
    "num_features = 14\n",
    "inputs = Input(shape=(None, num_features))\n",
    "outputs = SimpleRNN(16)(inputs)\n",
    "model = Model(inputs, outputs)\n",
    "model.compile(optimizer=\"rmsprop\", loss=\"mse\", metrics=[\"mae\"])\n",
    "history = model.fit(train_dataset, epochs=10, validation_data=val_dataset)"
   ]
  },
  {
   "cell_type": "code",
   "execution_count": 20,
   "metadata": {},
   "outputs": [
    {
     "data": {
      "image/png": "[encoded data removed]",
      "text/plain": [
       "<Figure size 432x288 with 1 Axes>"
      ]
     },
     "metadata": {
      "needs_background": "light"
     },
     "output_type": "display_data"
    }
   ],
   "source": [
    "loss = history.history[\"mae\"]\n",
    "val_loss = history.history[\"val_mae\"]\n",
    "epochs = range(1, len(loss) + 1)\n",
    "plt.figure()\n",
    "plt.plot(epochs, loss, \"bo\", label=\"Training MAE\")\n",
    "plt.plot(epochs, val_loss, \"b\", label=\"Validation MAE\")\n",
    "plt.title(\"Training and validation MAE\")\n",
    "plt.legend()\n",
    "plt.show()"
   ]
  },
  {
   "cell_type": "markdown",
   "metadata": {
    "colab_type": "text"
   },
   "source": [
    "**An RNN layer that returns only its last output step**"
   ]
  },
  {
   "cell_type": "code",
   "execution_count": 21,
   "metadata": {
    "colab_type": "code"
   },
   "outputs": [
    {
     "name": "stdout",
     "output_type": "stream",
     "text": [
      "Epoch 1/10\n",
      "819/819 [==============================] - 56s 68ms/step - loss: 138.7260 - mae: 9.6865 - val_loss: 144.1446 - val_mae: 9.9151\n",
      "Epoch 2/10\n",
      "819/819 [==============================] - 56s 68ms/step - loss: 136.4657 - mae: 9.5683 - val_loss: 143.7686 - val_mae: 9.8754\n",
      "Epoch 3/10\n",
      "819/819 [==============================] - 56s 68ms/step - loss: 136.2767 - mae: 9.5515 - val_loss: 143.7369 - val_mae: 9.8696\n",
      "Epoch 4/10\n",
      "819/819 [==============================] - 55s 67ms/step - loss: 136.1825 - mae: 9.5438 - val_loss: 143.5929 - val_mae: 9.8585\n",
      "Epoch 5/10\n",
      "819/819 [==============================] - 54s 65ms/step - loss: 136.1838 - mae: 9.5418 - val_loss: 143.5914 - val_mae: 9.8553\n",
      "Epoch 6/10\n",
      "819/819 [==============================] - 55s 67ms/step - loss: 136.1385 - mae: 9.5357 - val_loss: 143.5407 - val_mae: 9.8503\n",
      "Epoch 7/10\n",
      "819/819 [==============================] - 53s 65ms/step - loss: 136.1144 - mae: 9.5333 - val_loss: 143.4966 - val_mae: 9.8457\n",
      "Epoch 8/10\n",
      "819/819 [==============================] - 55s 68ms/step - loss: 136.1028 - mae: 9.5317 - val_loss: 143.5592 - val_mae: 9.8534\n",
      "Epoch 9/10\n",
      "819/819 [==============================] - 55s 67ms/step - loss: 136.0995 - mae: 9.5318 - val_loss: 143.4837 - val_mae: 9.8447\n",
      "Epoch 10/10\n",
      "819/819 [==============================] - 54s 66ms/step - loss: 136.0851 - mae: 9.5299 - val_loss: 143.5223 - val_mae: 9.8504\n"
     ]
    }
   ],
   "source": [
    "num_features = 14\n",
    "steps = 120\n",
    "inputs = Input(shape=(steps, num_features))\n",
    "outputs = SimpleRNN(16, return_sequences=False)(inputs)\n",
    "model = Model(inputs, outputs)\n",
    "model.compile(optimizer=\"rmsprop\", loss=\"mse\", metrics=[\"mae\"])\n",
    "history1 = model.fit(train_dataset, epochs=10, validation_data=val_dataset)"
   ]
  },
  {
   "cell_type": "code",
   "execution_count": 22,
   "metadata": {},
   "outputs": [
    {
     "data": {
      "image/png": "[encoded data removed]",
      "text/plain": [
       "<Figure size 432x288 with 1 Axes>"
      ]
     },
     "metadata": {
      "needs_background": "light"
     },
     "output_type": "display_data"
    }
   ],
   "source": [
    "loss = history1.history[\"mae\"]\n",
    "val_loss = history1.history[\"val_mae\"]\n",
    "epochs = range(1, len(loss) + 1)\n",
    "plt.figure()\n",
    "plt.plot(epochs, loss, \"bo\", label=\"Training MAE\")\n",
    "plt.plot(epochs, val_loss, \"b\", label=\"Validation MAE\")\n",
    "plt.title(\"Training and validation MAE\")\n",
    "plt.legend()\n",
    "plt.show()"
   ]
  },
  {
   "cell_type": "markdown",
   "metadata": {
    "colab_type": "text"
   },
   "source": [
    "**An RNN layer that returns its full output sequence**"
   ]
  },
  {
   "cell_type": "code",
   "execution_count": 23,
   "metadata": {
    "colab_type": "code"
   },
   "outputs": [
    {
     "name": "stdout",
     "output_type": "stream",
     "text": [
      "Epoch 1/10\n",
      "819/819 [==============================] - 55s 66ms/step - loss: 136.0872 - mae: 9.5302 - val_loss: 143.4914 - val_mae: 9.8453\n",
      "Epoch 2/10\n",
      "819/819 [==============================] - 54s 66ms/step - loss: 136.0821 - mae: 9.5297 - val_loss: 143.5178 - val_mae: 9.8487\n",
      "Epoch 3/10\n",
      "819/819 [==============================] - 54s 66ms/step - loss: 136.0704 - mae: 9.5285 - val_loss: 143.4999 - val_mae: 9.8461\n",
      "Epoch 4/10\n",
      "819/819 [==============================] - 55s 68ms/step - loss: 136.0605 - mae: 9.5273 - val_loss: 143.5295 - val_mae: 9.8512\n",
      "Epoch 5/10\n",
      "819/819 [==============================] - 55s 67ms/step - loss: 136.0535 - mae: 9.5265 - val_loss: 143.4802 - val_mae: 9.8447\n",
      "Epoch 6/10\n",
      "819/819 [==============================] - 55s 67ms/step - loss: 136.0733 - mae: 9.5281 - val_loss: 143.5459 - val_mae: 9.8530\n",
      "Epoch 7/10\n",
      "819/819 [==============================] - 55s 67ms/step - loss: 136.0510 - mae: 9.5259 - val_loss: 143.4648 - val_mae: 9.8426\n",
      "Epoch 8/10\n",
      "819/819 [==============================] - 56s 68ms/step - loss: 136.0470 - mae: 9.5254 - val_loss: 143.5097 - val_mae: 9.8484\n",
      "Epoch 9/10\n",
      "819/819 [==============================] - 55s 67ms/step - loss: 136.0443 - mae: 9.5251 - val_loss: 143.4979 - val_mae: 9.8472\n",
      "Epoch 10/10\n",
      "819/819 [==============================] - 64s 78ms/step - loss: 136.0396 - mae: 9.5244 - val_loss: 143.4717 - val_mae: 9.8444\n"
     ]
    }
   ],
   "source": [
    "num_features = 14\n",
    "steps = 120\n",
    "inputs = Input(shape=(steps, num_features))\n",
    "outputs = SimpleRNN(16, return_sequences=True)(inputs)\n",
    "model.compile(optimizer=\"rmsprop\", loss=\"mse\", metrics=[\"mae\"])\n",
    "history2 = model.fit(train_dataset, epochs=10, validation_data=val_dataset)"
   ]
  },
  {
   "cell_type": "code",
   "execution_count": 24,
   "metadata": {},
   "outputs": [
    {
     "data": {
      "image/png": "[encoded data removed]",
      "text/plain": [
       "<Figure size 432x288 with 1 Axes>"
      ]
     },
     "metadata": {
      "needs_background": "light"
     },
     "output_type": "display_data"
    }
   ],
   "source": [
    "loss = history2.history[\"mae\"]\n",
    "val_loss = history2.history[\"val_mae\"]\n",
    "epochs = range(1, len(loss) + 1)\n",
    "plt.figure()\n",
    "plt.plot(epochs, loss, \"bo\", label=\"Training MAE\")\n",
    "plt.plot(epochs, val_loss, \"b\", label=\"Validation MAE\")\n",
    "plt.title(\"Training and validation MAE\")\n",
    "plt.legend()\n",
    "plt.show()"
   ]
  },
  {
   "cell_type": "markdown",
   "metadata": {
    "colab_type": "text"
   },
   "source": [
    "**Stacking RNN layers**"
   ]
  },
  {
   "cell_type": "code",
   "execution_count": 27,
   "metadata": {
    "colab_type": "code"
   },
   "outputs": [
    {
     "name": "stdout",
     "output_type": "stream",
     "text": [
      "Epoch 1/10\n",
      "819/819 [==============================] - 60s 72ms/step - loss: 136.0225 - mae: 9.5217 - val_loss: 143.5047 - val_mae: 9.8486\n",
      "Epoch 2/10\n",
      "819/819 [==============================] - 60s 73ms/step - loss: 136.0551 - mae: 9.5260 - val_loss: 143.4656 - val_mae: 9.8432\n",
      "Epoch 3/10\n",
      "819/819 [==============================] - 58s 71ms/step - loss: 136.0476 - mae: 9.5249 - val_loss: 143.4385 - val_mae: 9.8403\n",
      "Epoch 4/10\n",
      "819/819 [==============================] - 57s 70ms/step - loss: 136.0352 - mae: 9.5236 - val_loss: 143.4861 - val_mae: 9.8452\n",
      "Epoch 5/10\n",
      "819/819 [==============================] - 57s 70ms/step - loss: 136.0194 - mae: 9.5220 - val_loss: 143.4879 - val_mae: 9.8453\n",
      "Epoch 6/10\n",
      "819/819 [==============================] - 60s 73ms/step - loss: 136.0140 - mae: 9.5213 - val_loss: 143.4549 - val_mae: 9.8402\n",
      "Epoch 7/10\n",
      "819/819 [==============================] - 59s 72ms/step - loss: 136.0101 - mae: 9.5207 - val_loss: 143.4664 - val_mae: 9.8422\n",
      "Epoch 8/10\n",
      "819/819 [==============================] - 58s 71ms/step - loss: 136.0094 - mae: 9.5210 - val_loss: 143.4656 - val_mae: 9.8433\n",
      "Epoch 9/10\n",
      "819/819 [==============================] - 58s 71ms/step - loss: 136.0085 - mae: 9.5207 - val_loss: 143.4319 - val_mae: 9.8378\n",
      "Epoch 10/10\n",
      "819/819 [==============================] - 58s 70ms/step - loss: 136.0148 - mae: 9.5214 - val_loss: 143.4779 - val_mae: 9.8444\n"
     ]
    }
   ],
   "source": [
    "inputs = Input(shape=(steps, num_features))\n",
    "x = SimpleRNN(16, return_sequences=True)(inputs)\n",
    "x = SimpleRNN(16, return_sequences=True)(x)\n",
    "outputs = SimpleRNN(16)(x)\n",
    "model.compile(optimizer=\"rmsprop\", loss=\"mse\", metrics=[\"mae\"])\n",
    "history3 = model.fit(train_dataset, epochs=10, validation_data=val_dataset)"
   ]
  },
  {
   "cell_type": "code",
   "execution_count": 29,
   "metadata": {},
   "outputs": [
    {
     "data": {
      "image/png": "[encoded data removed]",
      "text/plain": [
       "<Figure size 432x288 with 1 Axes>"
      ]
     },
     "metadata": {
      "needs_background": "light"
     },
     "output_type": "display_data"
    }
   ],
   "source": [
    "loss = history3.history[\"mae\"]\n",
    "val_loss = history3.history[\"val_mae\"]\n",
    "epochs = range(1, len(loss) + 1)\n",
    "plt.figure()\n",
    "plt.plot(epochs, loss, \"bo\", label=\"Training MAE\")\n",
    "plt.plot(epochs, val_loss, \"b\", label=\"Validation MAE\")\n",
    "plt.title(\"Training and validation MAE\")\n",
    "plt.legend()\n",
    "plt.show()"
   ]
  }
 ],
 "metadata": {
  "colab": {
   "collapsed_sections": [],
   "name": "chapter10_dl-for-timeseries.i",
   "private_outputs": false,
   "provenance": [],
   "toc_visible": true
  },
  "kernelspec": {
   "display_name": "Python 3",
   "language": "python",
   "name": "python3"
  },
  "language_info": {
   "codemirror_mode": {
    "name": "ipython",
    "version": 3
   },
   "file_extension": ".py",
   "mimetype": "text/x-python",
   "name": "python",
   "nbconvert_exporter": "python",
   "pygments_lexer": "ipython3",
   "version": "3.8.8"
  }
 },
 "nbformat": 4,
 "nbformat_minor": 1
}
