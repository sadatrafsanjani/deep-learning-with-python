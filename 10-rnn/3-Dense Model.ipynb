{
 "cells": [
  {
   "cell_type": "code",
   "execution_count": 1,
   "metadata": {
    "colab_type": "code"
   },
   "outputs": [],
   "source": [
    "import pandas as pd\n",
    "import numpy as np\n",
    "from matplotlib import pyplot as plt\n",
    "from tensorflow.keras.utils import timeseries_dataset_from_array\n",
    "from tensorflow.keras import layers, Input, Model\n",
    "from tensorflow.keras.layers import Flatten, Dense \n",
    "from tensorflow.keras.callbacks import ModelCheckpoint\n",
    "from tensorflow.keras.models import load_model\n",
    "import matplotlib.pyplot as plt"
   ]
  },
  {
   "cell_type": "code",
   "execution_count": 2,
   "metadata": {},
   "outputs": [],
   "source": [
    "df = pd.read_csv(\"jena_climate_2009_2016.csv\")"
   ]
  },
  {
   "cell_type": "code",
   "execution_count": 3,
   "metadata": {},
   "outputs": [],
   "source": [
    "temperature = df[\"T (degC)\"].values"
   ]
  },
  {
   "cell_type": "code",
   "execution_count": 4,
   "metadata": {},
   "outputs": [],
   "source": [
    "raw_data = df.loc[:, \"p (mbar)\":\"wd (deg)\"].values"
   ]
  },
  {
   "cell_type": "markdown",
   "metadata": {
    "colab_type": "text"
   },
   "source": [
    "**Data split**"
   ]
  },
  {
   "cell_type": "code",
   "execution_count": 5,
   "metadata": {
    "colab_type": "code"
   },
   "outputs": [
    {
     "name": "stdout",
     "output_type": "stream",
     "text": [
      "Train samples: 210225\n",
      "Validation samples: 105112\n",
      "Testing samples: 105114\n"
     ]
    }
   ],
   "source": [
    "num_train_samples = int(0.5 * len(raw_data))\n",
    "num_val_samples = int(0.25 * len(raw_data))\n",
    "num_test_samples = len(raw_data) - num_train_samples - num_val_samples\n",
    "print(\"Train samples:\", num_train_samples)\n",
    "print(\"Validation samples:\", num_val_samples)\n",
    "print(\"Testing samples:\", num_test_samples)"
   ]
  },
  {
   "cell_type": "markdown",
   "metadata": {
    "colab_type": "text"
   },
   "source": [
    "**Normalizing the data**"
   ]
  },
  {
   "cell_type": "code",
   "execution_count": 6,
   "metadata": {
    "colab_type": "code"
   },
   "outputs": [],
   "source": [
    "mean = raw_data[:num_train_samples].mean(axis=0)\n",
    "raw_data -= mean\n",
    "\n",
    "std = raw_data[:num_train_samples].std(axis=0)\n",
    "raw_data /= std"
   ]
  },
  {
   "cell_type": "markdown",
   "metadata": {
    "colab_type": "text"
   },
   "source": [
    "**Instantiating datasets for training, validation, and testing**"
   ]
  },
  {
   "cell_type": "code",
   "execution_count": 7,
   "metadata": {
    "colab_type": "code"
   },
   "outputs": [],
   "source": [
    "sampling_rate = 6\n",
    "sequence_length = 120\n",
    "delay = sampling_rate * (sequence_length + 24 - 1)\n",
    "batch_size = 256"
   ]
  },
  {
   "cell_type": "code",
   "execution_count": 8,
   "metadata": {},
   "outputs": [],
   "source": [
    "train_dataset = timeseries_dataset_from_array(\n",
    "    raw_data[:-delay],\n",
    "    targets=temperature[delay:],\n",
    "    sampling_rate=sampling_rate,\n",
    "    sequence_length=sequence_length,\n",
    "    shuffle=True,\n",
    "    batch_size=batch_size,\n",
    "    start_index=0,\n",
    "    end_index=num_train_samples)\n",
    "\n",
    "val_dataset = timeseries_dataset_from_array(\n",
    "    raw_data[:-delay],\n",
    "    targets=temperature[delay:],\n",
    "    sampling_rate=sampling_rate,\n",
    "    sequence_length=sequence_length,\n",
    "    shuffle=True,\n",
    "    batch_size=batch_size,\n",
    "    start_index=num_train_samples,\n",
    "    end_index=num_train_samples + num_val_samples)\n",
    "\n",
    "test_dataset = timeseries_dataset_from_array(\n",
    "    raw_data[:-delay],\n",
    "    targets=temperature[delay:],\n",
    "    sampling_rate=sampling_rate,\n",
    "    sequence_length=sequence_length,\n",
    "    shuffle=True,\n",
    "    batch_size=batch_size,\n",
    "    start_index=num_train_samples + num_val_samples)"
   ]
  },
  {
   "cell_type": "markdown",
   "metadata": {
    "colab_type": "text"
   },
   "source": [
    "### Basic machine-learning model"
   ]
  },
  {
   "cell_type": "markdown",
   "metadata": {
    "colab_type": "text"
   },
   "source": [
    "**Training and evaluating a densely connected model**"
   ]
  },
  {
   "cell_type": "code",
   "execution_count": 9,
   "metadata": {
    "colab_type": "code"
   },
   "outputs": [],
   "source": [
    "inputs = Input(shape=(sequence_length, raw_data.shape[-1]))\n",
    "x = Flatten()(inputs)\n",
    "x = Dense(16, activation=\"relu\")(x)\n",
    "outputs = Dense(1)(x)\n",
    "model = Model(inputs, outputs)\n",
    "callbacks = [ModelCheckpoint(\"jena_dense.keras\", save_best_only=True)]"
   ]
  },
  {
   "cell_type": "code",
   "execution_count": 10,
   "metadata": {},
   "outputs": [
    {
     "name": "stdout",
     "output_type": "stream",
     "text": [
      "Epoch 1/10\n",
      "819/819 [==============================] - 10s 8ms/step - loss: 13.1774 - mae: 2.8120 - val_loss: 11.6660 - val_mae: 2.7112\n",
      "Epoch 2/10\n",
      "819/819 [==============================] - 7s 8ms/step - loss: 9.4700 - mae: 2.4186 - val_loss: 11.2560 - val_mae: 2.6732\n",
      "Epoch 3/10\n",
      "819/819 [==============================] - 7s 9ms/step - loss: 8.6367 - mae: 2.3094 - val_loss: 13.0877 - val_mae: 2.8835\n",
      "Epoch 4/10\n",
      "819/819 [==============================] - 7s 8ms/step - loss: 8.1391 - mae: 2.2463 - val_loss: 13.0889 - val_mae: 2.8688\n",
      "Epoch 5/10\n",
      "819/819 [==============================] - 7s 8ms/step - loss: 7.8186 - mae: 2.2028 - val_loss: 10.7655 - val_mae: 2.6074\n",
      "Epoch 6/10\n",
      "819/819 [==============================] - 7s 8ms/step - loss: 7.5432 - mae: 2.1648 - val_loss: 11.0157 - val_mae: 2.6276\n",
      "Epoch 7/10\n",
      "819/819 [==============================] - 7s 9ms/step - loss: 7.3366 - mae: 2.1338 - val_loss: 10.7367 - val_mae: 2.6030\n",
      "Epoch 8/10\n",
      "819/819 [==============================] - 7s 9ms/step - loss: 7.1675 - mae: 2.1082 - val_loss: 10.9015 - val_mae: 2.6160\n",
      "Epoch 9/10\n",
      "819/819 [==============================] - 7s 9ms/step - loss: 7.0259 - mae: 2.0881 - val_loss: 12.0299 - val_mae: 2.7401\n",
      "Epoch 10/10\n",
      "819/819 [==============================] - 7s 8ms/step - loss: 6.9199 - mae: 2.0725 - val_loss: 14.3868 - val_mae: 3.0364\n"
     ]
    }
   ],
   "source": [
    "model.compile(optimizer=\"rmsprop\", loss=\"mse\", metrics=[\"mae\"])\n",
    "history = model.fit(train_dataset, epochs=10, validation_data=val_dataset, callbacks=callbacks)"
   ]
  },
  {
   "cell_type": "code",
   "execution_count": 11,
   "metadata": {},
   "outputs": [
    {
     "name": "stdout",
     "output_type": "stream",
     "text": [
      "405/405 [==============================] - 2s 5ms/step - loss: 11.7022 - mae: 2.6984\n",
      "Test MAE: 2.70\n"
     ]
    }
   ],
   "source": [
    "model = load_model(\"jena_dense.keras\")\n",
    "print(f\"Test MAE: {model.evaluate(test_dataset)[1]:.2f}\")"
   ]
  },
  {
   "cell_type": "code",
   "execution_count": 12,
   "metadata": {},
   "outputs": [
    {
     "data": {
      "text/plain": [
       "{'loss': [13.177441596984863,\n",
       "  9.469961166381836,\n",
       "  8.636670112609863,\n",
       "  8.139066696166992,\n",
       "  7.818612575531006,\n",
       "  7.543220520019531,\n",
       "  7.336594581604004,\n",
       "  7.167516708374023,\n",
       "  7.02593469619751,\n",
       "  6.919934272766113],\n",
       " 'mae': [2.8119611740112305,\n",
       "  2.418551206588745,\n",
       "  2.3094236850738525,\n",
       "  2.2463104724884033,\n",
       "  2.2027924060821533,\n",
       "  2.1647756099700928,\n",
       "  2.133815288543701,\n",
       "  2.1082377433776855,\n",
       "  2.0880813598632812,\n",
       "  2.0725486278533936],\n",
       " 'val_loss': [11.665976524353027,\n",
       "  11.255970001220703,\n",
       "  13.087733268737793,\n",
       "  13.088922500610352,\n",
       "  10.765475273132324,\n",
       "  11.015718460083008,\n",
       "  10.736716270446777,\n",
       "  10.901495933532715,\n",
       "  12.02987003326416,\n",
       "  14.3867826461792],\n",
       " 'val_mae': [2.7111804485321045,\n",
       "  2.6731960773468018,\n",
       "  2.883472442626953,\n",
       "  2.8688175678253174,\n",
       "  2.6073758602142334,\n",
       "  2.6275510787963867,\n",
       "  2.6030256748199463,\n",
       "  2.6160435676574707,\n",
       "  2.74006986618042,\n",
       "  3.036407232284546]}"
      ]
     },
     "execution_count": 12,
     "metadata": {},
     "output_type": "execute_result"
    }
   ],
   "source": [
    "history.history"
   ]
  },
  {
   "cell_type": "markdown",
   "metadata": {
    "colab_type": "text"
   },
   "source": [
    "**Plotting results**"
   ]
  },
  {
   "cell_type": "code",
   "execution_count": 13,
   "metadata": {
    "colab_type": "code"
   },
   "outputs": [
    {
     "data": {
      "image/png": "[encoded data removed]",
      "text/plain": [
       "<Figure size 432x288 with 1 Axes>"
      ]
     },
     "metadata": {
      "needs_background": "light"
     },
     "output_type": "display_data"
    }
   ],
   "source": [
    "loss = history.history[\"mae\"]\n",
    "val_loss = history.history[\"val_mae\"]\n",
    "epochs = range(1, len(loss) + 1)\n",
    "plt.figure()\n",
    "plt.plot(epochs, loss, \"bo\", label=\"Training MAE\")\n",
    "plt.plot(epochs, val_loss, \"b\", label=\"Validation MAE\")\n",
    "plt.title(\"Training and validation MAE\")\n",
    "plt.legend()\n",
    "plt.show()"
   ]
  }
 ],
 "metadata": {
  "colab": {
   "collapsed_sections": [],
   "name": "chapter10_dl-for-timeseries.i",
   "private_outputs": false,
   "provenance": [],
   "toc_visible": true
  },
  "kernelspec": {
   "display_name": "Python 3",
   "language": "python",
   "name": "python3"
  },
  "language_info": {
   "codemirror_mode": {
    "name": "ipython",
    "version": 3
   },
   "file_extension": ".py",
   "mimetype": "text/x-python",
   "name": "python",
   "nbconvert_exporter": "python",
   "pygments_lexer": "ipython3",
   "version": "3.8.8"
  }
 },
 "nbformat": 4,
 "nbformat_minor": 1
}
