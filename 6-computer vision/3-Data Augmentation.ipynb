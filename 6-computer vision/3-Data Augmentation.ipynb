{
 "cells": [
  {
   "cell_type": "code",
   "execution_count": 57,
   "metadata": {
    "colab_type": "code"
   },
   "outputs": [],
   "source": [
    "import tensorflow as tf\n",
    "from tensorflow.keras.layers import Conv2D, MaxPooling2D, Flatten, Conv2D, Flatten, Dense, Dropout\n",
    "from tensorflow.keras.layers import Rescaling, RandomFlip, RandomRotation, RandomZoom\n",
    "from tensorflow.keras import Input, Model, Sequential\n",
    "from tensorflow.keras.utils import image_dataset_from_directory\n",
    "from tensorflow.keras.callbacks import ModelCheckpoint\n",
    "from tensorflow.keras.models import load_model\n",
    "import os, shutil, pathlib\n",
    "import numpy as np\n",
    "import matplotlib.pyplot as plt"
   ]
  },
  {
   "cell_type": "markdown",
   "metadata": {
    "colab_type": "text"
   },
   "source": [
    "## Data Augmentation"
   ]
  },
  {
   "cell_type": "markdown",
   "metadata": {
    "colab_type": "text"
   },
   "source": [
    "**Loading images**"
   ]
  },
  {
   "cell_type": "code",
   "execution_count": 40,
   "metadata": {},
   "outputs": [],
   "source": [
    "new_base_dir = pathlib.Path(\"cats_vs_dogs_small\")"
   ]
  },
  {
   "cell_type": "code",
   "execution_count": 41,
   "metadata": {
    "colab_type": "code"
   },
   "outputs": [
    {
     "name": "stdout",
     "output_type": "stream",
     "text": [
      "Found 2000 files belonging to 2 classes.\n",
      "Found 1000 files belonging to 2 classes.\n",
      "Found 2000 files belonging to 2 classes.\n"
     ]
    }
   ],
   "source": [
    "train_dataset = image_dataset_from_directory(new_base_dir / \"train\", image_size=(180, 180), batch_size=32)\n",
    "validation_dataset = image_dataset_from_directory(new_base_dir / \"validation\", image_size=(180, 180), batch_size=32)\n",
    "test_dataset = image_dataset_from_directory(new_base_dir / \"test\", image_size=(180, 180), batch_size=32)"
   ]
  },
  {
   "cell_type": "markdown",
   "metadata": {
    "colab_type": "text"
   },
   "source": [
    "### Image augmentation"
   ]
  },
  {
   "cell_type": "code",
   "execution_count": 42,
   "metadata": {
    "colab_type": "code"
   },
   "outputs": [],
   "source": [
    "augmentation = Sequential([RandomFlip(\"horizontal\"), RandomRotation(0.1), RandomZoom(0.2)])"
   ]
  },
  {
   "cell_type": "markdown",
   "metadata": {
    "colab_type": "text"
   },
   "source": [
    "**Integrating model with image augmentation and dropout**"
   ]
  },
  {
   "cell_type": "code",
   "execution_count": 43,
   "metadata": {
    "colab_type": "code"
   },
   "outputs": [],
   "source": [
    "inputs = Input(shape=(180, 180, 3))\n",
    "\n",
    "x = augmentation(inputs)\n",
    "\n",
    "x = Rescaling(1./255)(x)\n",
    "\n",
    "x = Conv2D(filters=32, kernel_size=3, activation=\"relu\")(x)\n",
    "x = MaxPooling2D(pool_size=2)(x)\n",
    "\n",
    "x = Conv2D(filters=64, kernel_size=3, activation=\"relu\")(x)\n",
    "x = MaxPooling2D(pool_size=2)(x)\n",
    "\n",
    "x = Conv2D(filters=128, kernel_size=3, activation=\"relu\")(x)\n",
    "x = MaxPooling2D(pool_size=2)(x)\n",
    "\n",
    "x = Conv2D(filters=256, kernel_size=3, activation=\"relu\")(x)\n",
    "x = MaxPooling2D(pool_size=2)(x)\n",
    "\n",
    "x = Conv2D(filters=256, kernel_size=3, activation=\"relu\")(x)\n",
    "x = Flatten()(x)\n",
    "x = Dropout(0.5)(x)\n",
    "\n",
    "outputs = Dense(1, activation=\"sigmoid\")(x)\n",
    "model = Model(inputs=inputs, outputs=outputs)\n",
    "\n",
    "model.compile(loss=\"binary_crossentropy\", optimizer=\"rmsprop\", metrics=[\"accuracy\"])"
   ]
  },
  {
   "cell_type": "markdown",
   "metadata": {
    "colab_type": "text"
   },
   "source": [
    "**Training the regularized convnet**"
   ]
  },
  {
   "cell_type": "code",
   "execution_count": 44,
   "metadata": {
    "colab_type": "code"
   },
   "outputs": [
    {
     "name": "stdout",
     "output_type": "stream",
     "text": [
      "Epoch 1/100\n",
      "WARNING:tensorflow:Using a while_loop for converting RngReadAndSkip cause there is no registered converter for this op.\n",
      "WARNING:tensorflow:Using a while_loop for converting Bitcast cause there is no registered converter for this op.\n",
      "WARNING:tensorflow:Using a while_loop for converting Bitcast cause there is no registered converter for this op.\n",
      "WARNING:tensorflow:Using a while_loop for converting StatelessRandomUniformV2 cause there is no registered converter for this op.\n",
      "WARNING:tensorflow:Using a while_loop for converting ImageProjectiveTransformV3 cause there is no registered converter for this op.\n",
      "WARNING:tensorflow:Using a while_loop for converting RngReadAndSkip cause there is no registered converter for this op.\n",
      "WARNING:tensorflow:Using a while_loop for converting Bitcast cause there is no registered converter for this op.\n",
      "WARNING:tensorflow:Using a while_loop for converting Bitcast cause there is no registered converter for this op.\n",
      "WARNING:tensorflow:Using a while_loop for converting StatelessRandomUniformV2 cause there is no registered converter for this op.\n",
      "WARNING:tensorflow:Using a while_loop for converting ImageProjectiveTransformV3 cause there is no registered converter for this op.\n",
      "WARNING:tensorflow:Using a while_loop for converting RngReadAndSkip cause there is no registered converter for this op.\n",
      "WARNING:tensorflow:Using a while_loop for converting Bitcast cause there is no registered converter for this op.\n",
      "WARNING:tensorflow:Using a while_loop for converting Bitcast cause there is no registered converter for this op.\n",
      "WARNING:tensorflow:Using a while_loop for converting StatelessRandomUniformV2 cause there is no registered converter for this op.\n",
      "WARNING:tensorflow:Using a while_loop for converting ImageProjectiveTransformV3 cause there is no registered converter for this op.\n",
      "WARNING:tensorflow:Using a while_loop for converting RngReadAndSkip cause there is no registered converter for this op.\n",
      "WARNING:tensorflow:Using a while_loop for converting Bitcast cause there is no registered converter for this op.\n",
      "WARNING:tensorflow:Using a while_loop for converting Bitcast cause there is no registered converter for this op.\n",
      "WARNING:tensorflow:Using a while_loop for converting StatelessRandomUniformV2 cause there is no registered converter for this op.\n",
      "WARNING:tensorflow:Using a while_loop for converting ImageProjectiveTransformV3 cause there is no registered converter for this op.\n",
      "63/63 [==============================] - 13s 164ms/step - loss: 0.7027 - accuracy: 0.5170 - val_loss: 0.6906 - val_accuracy: 0.6040\n",
      "Epoch 2/100\n",
      "63/63 [==============================] - 10s 158ms/step - loss: 0.7038 - accuracy: 0.5380 - val_loss: 0.6852 - val_accuracy: 0.5760\n",
      "Epoch 3/100\n",
      "63/63 [==============================] - 10s 158ms/step - loss: 0.6948 - accuracy: 0.5400 - val_loss: 0.6835 - val_accuracy: 0.5810\n",
      "Epoch 4/100\n",
      "63/63 [==============================] - 10s 158ms/step - loss: 0.6865 - accuracy: 0.5830 - val_loss: 0.6565 - val_accuracy: 0.5970\n",
      "Epoch 5/100\n",
      "63/63 [==============================] - 10s 158ms/step - loss: 0.6683 - accuracy: 0.6115 - val_loss: 0.6323 - val_accuracy: 0.6500\n",
      "Epoch 6/100\n",
      "63/63 [==============================] - 10s 159ms/step - loss: 0.6326 - accuracy: 0.6530 - val_loss: 0.6559 - val_accuracy: 0.6130\n",
      "Epoch 7/100\n",
      "63/63 [==============================] - 10s 158ms/step - loss: 0.6136 - accuracy: 0.6780 - val_loss: 0.6628 - val_accuracy: 0.6290\n",
      "Epoch 8/100\n",
      "63/63 [==============================] - 10s 159ms/step - loss: 0.6060 - accuracy: 0.6885 - val_loss: 0.6515 - val_accuracy: 0.6330\n",
      "Epoch 9/100\n",
      "63/63 [==============================] - 10s 157ms/step - loss: 0.5889 - accuracy: 0.6945 - val_loss: 1.8053 - val_accuracy: 0.5380\n",
      "Epoch 10/100\n",
      "63/63 [==============================] - 10s 154ms/step - loss: 0.5788 - accuracy: 0.7095 - val_loss: 0.6369 - val_accuracy: 0.6390\n",
      "Epoch 11/100\n",
      "63/63 [==============================] - 10s 159ms/step - loss: 0.5653 - accuracy: 0.7160 - val_loss: 0.6675 - val_accuracy: 0.6500\n",
      "Epoch 12/100\n",
      "63/63 [==============================] - 10s 157ms/step - loss: 0.5482 - accuracy: 0.7325 - val_loss: 0.5457 - val_accuracy: 0.7160\n",
      "Epoch 13/100\n",
      "63/63 [==============================] - 10s 156ms/step - loss: 0.5455 - accuracy: 0.7270 - val_loss: 0.5347 - val_accuracy: 0.7180\n",
      "Epoch 14/100\n",
      "63/63 [==============================] - 10s 158ms/step - loss: 0.5266 - accuracy: 0.7445 - val_loss: 0.6417 - val_accuracy: 0.6810\n",
      "Epoch 15/100\n",
      "63/63 [==============================] - 10s 157ms/step - loss: 0.5071 - accuracy: 0.7560 - val_loss: 0.5504 - val_accuracy: 0.7240\n",
      "Epoch 16/100\n",
      "63/63 [==============================] - 10s 156ms/step - loss: 0.5010 - accuracy: 0.7675 - val_loss: 0.5490 - val_accuracy: 0.7190\n",
      "Epoch 17/100\n",
      "63/63 [==============================] - 10s 159ms/step - loss: 0.4930 - accuracy: 0.7650 - val_loss: 0.7780 - val_accuracy: 0.6490\n",
      "Epoch 18/100\n",
      "63/63 [==============================] - 10s 156ms/step - loss: 0.4789 - accuracy: 0.7765 - val_loss: 0.6115 - val_accuracy: 0.7330\n",
      "Epoch 19/100\n",
      "63/63 [==============================] - 10s 158ms/step - loss: 0.4750 - accuracy: 0.7835 - val_loss: 0.5026 - val_accuracy: 0.7620\n",
      "Epoch 20/100\n",
      "63/63 [==============================] - 10s 158ms/step - loss: 0.4455 - accuracy: 0.7930 - val_loss: 0.5134 - val_accuracy: 0.7660\n",
      "Epoch 21/100\n",
      "63/63 [==============================] - 10s 158ms/step - loss: 0.4432 - accuracy: 0.7975 - val_loss: 0.8019 - val_accuracy: 0.6570\n",
      "Epoch 22/100\n",
      "63/63 [==============================] - 10s 156ms/step - loss: 0.4259 - accuracy: 0.8030 - val_loss: 0.5027 - val_accuracy: 0.7570\n",
      "Epoch 23/100\n",
      "63/63 [==============================] - 10s 157ms/step - loss: 0.4186 - accuracy: 0.8050 - val_loss: 0.6875 - val_accuracy: 0.7130\n",
      "Epoch 24/100\n",
      "63/63 [==============================] - 10s 156ms/step - loss: 0.4131 - accuracy: 0.8125 - val_loss: 0.5491 - val_accuracy: 0.7510\n",
      "Epoch 25/100\n",
      "63/63 [==============================] - 10s 157ms/step - loss: 0.3981 - accuracy: 0.8330 - val_loss: 1.1293 - val_accuracy: 0.6830\n",
      "Epoch 26/100\n",
      "63/63 [==============================] - 10s 159ms/step - loss: 0.3981 - accuracy: 0.8300 - val_loss: 0.5950 - val_accuracy: 0.7250\n",
      "Epoch 27/100\n",
      "63/63 [==============================] - 10s 156ms/step - loss: 0.3740 - accuracy: 0.8415 - val_loss: 0.5847 - val_accuracy: 0.7510\n",
      "Epoch 28/100\n",
      "63/63 [==============================] - 10s 157ms/step - loss: 0.3751 - accuracy: 0.8415 - val_loss: 0.5856 - val_accuracy: 0.7750\n",
      "Epoch 29/100\n",
      "63/63 [==============================] - 10s 157ms/step - loss: 0.3535 - accuracy: 0.8485 - val_loss: 0.5721 - val_accuracy: 0.7570\n",
      "Epoch 30/100\n",
      "63/63 [==============================] - 10s 161ms/step - loss: 0.3403 - accuracy: 0.8540 - val_loss: 0.6269 - val_accuracy: 0.7470\n",
      "Epoch 31/100\n",
      "63/63 [==============================] - 10s 160ms/step - loss: 0.3421 - accuracy: 0.8570 - val_loss: 0.5782 - val_accuracy: 0.7760\n",
      "Epoch 32/100\n",
      "63/63 [==============================] - 10s 161ms/step - loss: 0.3163 - accuracy: 0.8680 - val_loss: 0.5321 - val_accuracy: 0.7880\n",
      "Epoch 33/100\n",
      "63/63 [==============================] - 10s 160ms/step - loss: 0.3345 - accuracy: 0.8615 - val_loss: 0.5644 - val_accuracy: 0.7870\n",
      "Epoch 34/100\n",
      "63/63 [==============================] - 10s 157ms/step - loss: 0.3151 - accuracy: 0.8705 - val_loss: 0.5571 - val_accuracy: 0.7750\n",
      "Epoch 35/100\n",
      "63/63 [==============================] - 10s 156ms/step - loss: 0.3102 - accuracy: 0.8625 - val_loss: 0.6059 - val_accuracy: 0.7660\n",
      "Epoch 36/100\n",
      "63/63 [==============================] - 10s 156ms/step - loss: 0.2967 - accuracy: 0.8820 - val_loss: 0.6588 - val_accuracy: 0.7670\n",
      "Epoch 37/100\n",
      "63/63 [==============================] - 10s 158ms/step - loss: 0.2837 - accuracy: 0.8840 - val_loss: 0.6174 - val_accuracy: 0.7640\n",
      "Epoch 38/100\n",
      "63/63 [==============================] - 10s 158ms/step - loss: 0.2996 - accuracy: 0.8835 - val_loss: 0.5964 - val_accuracy: 0.7710\n",
      "Epoch 39/100\n",
      "63/63 [==============================] - 10s 157ms/step - loss: 0.2714 - accuracy: 0.8860 - val_loss: 0.8603 - val_accuracy: 0.7420\n",
      "Epoch 40/100\n",
      "63/63 [==============================] - 10s 158ms/step - loss: 0.2662 - accuracy: 0.8960 - val_loss: 0.5940 - val_accuracy: 0.7810\n"
     ]
    },
    {
     "name": "stdout",
     "output_type": "stream",
     "text": [
      "Epoch 41/100\n",
      "63/63 [==============================] - 10s 156ms/step - loss: 0.2749 - accuracy: 0.8915 - val_loss: 0.6368 - val_accuracy: 0.7750\n",
      "Epoch 42/100\n",
      "63/63 [==============================] - 10s 157ms/step - loss: 0.2457 - accuracy: 0.9035 - val_loss: 0.6839 - val_accuracy: 0.7890\n",
      "Epoch 43/100\n",
      "63/63 [==============================] - 10s 157ms/step - loss: 0.2504 - accuracy: 0.9010 - val_loss: 0.5834 - val_accuracy: 0.8140\n",
      "Epoch 44/100\n",
      "63/63 [==============================] - 10s 156ms/step - loss: 0.2270 - accuracy: 0.9040 - val_loss: 0.9917 - val_accuracy: 0.7450\n",
      "Epoch 45/100\n",
      "63/63 [==============================] - 10s 158ms/step - loss: 0.2647 - accuracy: 0.8935 - val_loss: 0.7334 - val_accuracy: 0.7710\n",
      "Epoch 46/100\n",
      "63/63 [==============================] - 10s 156ms/step - loss: 0.2371 - accuracy: 0.9045 - val_loss: 0.6806 - val_accuracy: 0.7970\n",
      "Epoch 47/100\n",
      "63/63 [==============================] - 10s 156ms/step - loss: 0.2235 - accuracy: 0.9090 - val_loss: 0.8570 - val_accuracy: 0.7310\n",
      "Epoch 48/100\n",
      "63/63 [==============================] - 10s 157ms/step - loss: 0.2249 - accuracy: 0.9095 - val_loss: 0.6778 - val_accuracy: 0.7700\n",
      "Epoch 49/100\n",
      "63/63 [==============================] - 10s 158ms/step - loss: 0.2142 - accuracy: 0.9140 - val_loss: 1.0280 - val_accuracy: 0.7370\n",
      "Epoch 50/100\n",
      "63/63 [==============================] - 10s 158ms/step - loss: 0.1990 - accuracy: 0.9190 - val_loss: 0.6840 - val_accuracy: 0.7850\n",
      "Epoch 51/100\n",
      "63/63 [==============================] - 10s 158ms/step - loss: 0.1784 - accuracy: 0.9385 - val_loss: 0.8450 - val_accuracy: 0.7690\n",
      "Epoch 52/100\n",
      "63/63 [==============================] - 10s 156ms/step - loss: 0.2062 - accuracy: 0.9205 - val_loss: 0.7047 - val_accuracy: 0.7960\n",
      "Epoch 53/100\n",
      "63/63 [==============================] - 10s 159ms/step - loss: 0.2008 - accuracy: 0.9185 - val_loss: 1.0270 - val_accuracy: 0.7860\n",
      "Epoch 54/100\n",
      "63/63 [==============================] - 10s 158ms/step - loss: 0.1937 - accuracy: 0.9270 - val_loss: 0.6327 - val_accuracy: 0.8110\n",
      "Epoch 55/100\n",
      "63/63 [==============================] - 10s 157ms/step - loss: 0.1775 - accuracy: 0.9380 - val_loss: 0.7211 - val_accuracy: 0.8010\n",
      "Epoch 56/100\n",
      "63/63 [==============================] - 10s 157ms/step - loss: 0.1848 - accuracy: 0.9310 - val_loss: 0.6509 - val_accuracy: 0.8070\n",
      "Epoch 57/100\n",
      "63/63 [==============================] - 10s 156ms/step - loss: 0.1840 - accuracy: 0.9290 - val_loss: 0.8717 - val_accuracy: 0.7610\n",
      "Epoch 58/100\n",
      "63/63 [==============================] - 10s 156ms/step - loss: 0.1563 - accuracy: 0.9415 - val_loss: 0.9493 - val_accuracy: 0.8060\n",
      "Epoch 59/100\n",
      "63/63 [==============================] - 10s 156ms/step - loss: 0.1885 - accuracy: 0.9305 - val_loss: 0.7040 - val_accuracy: 0.7980\n",
      "Epoch 60/100\n",
      "63/63 [==============================] - 10s 157ms/step - loss: 0.1789 - accuracy: 0.9290 - val_loss: 0.7324 - val_accuracy: 0.8050\n",
      "Epoch 61/100\n",
      "63/63 [==============================] - 10s 156ms/step - loss: 0.1859 - accuracy: 0.9295 - val_loss: 0.8117 - val_accuracy: 0.7520\n",
      "Epoch 62/100\n",
      "63/63 [==============================] - 10s 157ms/step - loss: 0.1665 - accuracy: 0.9350 - val_loss: 0.8264 - val_accuracy: 0.7820\n",
      "Epoch 63/100\n",
      "63/63 [==============================] - 10s 158ms/step - loss: 0.1573 - accuracy: 0.9425 - val_loss: 0.8179 - val_accuracy: 0.7690\n",
      "Epoch 64/100\n",
      "63/63 [==============================] - 10s 155ms/step - loss: 0.1640 - accuracy: 0.9260 - val_loss: 0.7812 - val_accuracy: 0.8110\n",
      "Epoch 65/100\n",
      "63/63 [==============================] - 10s 157ms/step - loss: 0.1697 - accuracy: 0.9410 - val_loss: 0.7242 - val_accuracy: 0.8110\n",
      "Epoch 66/100\n",
      "63/63 [==============================] - 10s 156ms/step - loss: 0.1501 - accuracy: 0.9390 - val_loss: 0.9658 - val_accuracy: 0.7990\n",
      "Epoch 67/100\n",
      "63/63 [==============================] - 10s 156ms/step - loss: 0.1567 - accuracy: 0.9470 - val_loss: 0.8368 - val_accuracy: 0.7890\n",
      "Epoch 68/100\n",
      "63/63 [==============================] - 10s 158ms/step - loss: 0.1517 - accuracy: 0.9420 - val_loss: 1.0021 - val_accuracy: 0.7450\n",
      "Epoch 69/100\n",
      "63/63 [==============================] - 10s 158ms/step - loss: 0.1529 - accuracy: 0.9490 - val_loss: 0.7229 - val_accuracy: 0.8110\n",
      "Epoch 70/100\n",
      "63/63 [==============================] - 10s 155ms/step - loss: 0.1512 - accuracy: 0.9430 - val_loss: 1.1418 - val_accuracy: 0.7720\n",
      "Epoch 71/100\n",
      "63/63 [==============================] - 10s 157ms/step - loss: 0.1592 - accuracy: 0.9455 - val_loss: 1.7302 - val_accuracy: 0.7670\n",
      "Epoch 72/100\n",
      "63/63 [==============================] - 10s 156ms/step - loss: 0.1446 - accuracy: 0.9455 - val_loss: 1.2950 - val_accuracy: 0.7620\n",
      "Epoch 73/100\n",
      "63/63 [==============================] - 10s 157ms/step - loss: 0.1744 - accuracy: 0.9415 - val_loss: 1.0192 - val_accuracy: 0.7820\n",
      "Epoch 74/100\n",
      "63/63 [==============================] - 10s 157ms/step - loss: 0.1487 - accuracy: 0.9440 - val_loss: 1.3185 - val_accuracy: 0.7560\n",
      "Epoch 75/100\n",
      "63/63 [==============================] - 10s 157ms/step - loss: 0.1440 - accuracy: 0.9545 - val_loss: 0.9733 - val_accuracy: 0.7970\n",
      "Epoch 76/100\n",
      "63/63 [==============================] - 10s 155ms/step - loss: 0.1538 - accuracy: 0.9415 - val_loss: 1.0224 - val_accuracy: 0.7900\n",
      "Epoch 77/100\n",
      "63/63 [==============================] - 10s 157ms/step - loss: 0.1285 - accuracy: 0.9510 - val_loss: 1.2032 - val_accuracy: 0.7520\n",
      "Epoch 78/100\n",
      "63/63 [==============================] - 10s 158ms/step - loss: 0.1618 - accuracy: 0.9530 - val_loss: 1.1115 - val_accuracy: 0.8060\n",
      "Epoch 79/100\n",
      "63/63 [==============================] - 10s 155ms/step - loss: 0.1510 - accuracy: 0.9540 - val_loss: 1.5496 - val_accuracy: 0.7560\n",
      "Epoch 80/100\n",
      "63/63 [==============================] - 10s 155ms/step - loss: 0.1570 - accuracy: 0.9495 - val_loss: 1.0427 - val_accuracy: 0.8130\n",
      "Epoch 81/100\n",
      "63/63 [==============================] - 10s 156ms/step - loss: 0.1342 - accuracy: 0.9525 - val_loss: 1.0111 - val_accuracy: 0.7970\n",
      "Epoch 82/100\n",
      "63/63 [==============================] - 10s 157ms/step - loss: 0.1397 - accuracy: 0.9555 - val_loss: 0.9151 - val_accuracy: 0.7960\n",
      "Epoch 83/100\n",
      "63/63 [==============================] - 10s 157ms/step - loss: 0.1362 - accuracy: 0.9520 - val_loss: 1.1104 - val_accuracy: 0.7840\n",
      "Epoch 84/100\n",
      "63/63 [==============================] - 10s 157ms/step - loss: 0.1393 - accuracy: 0.9430 - val_loss: 1.0905 - val_accuracy: 0.7860\n",
      "Epoch 85/100\n",
      "63/63 [==============================] - 10s 155ms/step - loss: 0.1150 - accuracy: 0.9610 - val_loss: 0.9638 - val_accuracy: 0.7970\n",
      "Epoch 86/100\n",
      "63/63 [==============================] - 10s 157ms/step - loss: 0.1566 - accuracy: 0.9505 - val_loss: 1.3003 - val_accuracy: 0.7570\n",
      "Epoch 87/100\n",
      "63/63 [==============================] - 10s 157ms/step - loss: 0.1479 - accuracy: 0.9510 - val_loss: 1.7037 - val_accuracy: 0.7690\n",
      "Epoch 88/100\n",
      "63/63 [==============================] - 10s 156ms/step - loss: 0.1355 - accuracy: 0.9595 - val_loss: 1.1384 - val_accuracy: 0.8150\n",
      "Epoch 89/100\n",
      "63/63 [==============================] - 10s 155ms/step - loss: 0.1268 - accuracy: 0.9550 - val_loss: 0.9829 - val_accuracy: 0.8070\n",
      "Epoch 90/100\n",
      "63/63 [==============================] - 10s 156ms/step - loss: 0.1261 - accuracy: 0.9560 - val_loss: 1.1129 - val_accuracy: 0.7990\n",
      "Epoch 91/100\n",
      "63/63 [==============================] - 10s 156ms/step - loss: 0.1174 - accuracy: 0.9570 - val_loss: 1.2173 - val_accuracy: 0.7920\n",
      "Epoch 92/100\n",
      "63/63 [==============================] - 10s 157ms/step - loss: 0.1594 - accuracy: 0.9470 - val_loss: 1.0744 - val_accuracy: 0.8000\n",
      "Epoch 93/100\n",
      "63/63 [==============================] - 10s 158ms/step - loss: 0.1408 - accuracy: 0.9530 - val_loss: 1.0063 - val_accuracy: 0.7740\n",
      "Epoch 94/100\n",
      "63/63 [==============================] - 10s 159ms/step - loss: 0.1147 - accuracy: 0.9605 - val_loss: 1.2045 - val_accuracy: 0.7870\n",
      "Epoch 95/100\n",
      "63/63 [==============================] - 10s 155ms/step - loss: 0.1266 - accuracy: 0.9565 - val_loss: 1.4095 - val_accuracy: 0.7910\n",
      "Epoch 96/100\n",
      "63/63 [==============================] - 10s 156ms/step - loss: 0.1348 - accuracy: 0.9520 - val_loss: 0.9922 - val_accuracy: 0.8110\n",
      "Epoch 97/100\n"
     ]
    },
    {
     "name": "stdout",
     "output_type": "stream",
     "text": [
      "63/63 [==============================] - 10s 156ms/step - loss: 0.1565 - accuracy: 0.9510 - val_loss: 1.5781 - val_accuracy: 0.7950\n",
      "Epoch 98/100\n",
      "63/63 [==============================] - 10s 158ms/step - loss: 0.1408 - accuracy: 0.9590 - val_loss: 1.3037 - val_accuracy: 0.7940\n",
      "Epoch 99/100\n",
      "63/63 [==============================] - 10s 158ms/step - loss: 0.1308 - accuracy: 0.9580 - val_loss: 1.2164 - val_accuracy: 0.8080\n",
      "Epoch 100/100\n",
      "63/63 [==============================] - 10s 157ms/step - loss: 0.1253 - accuracy: 0.9605 - val_loss: 1.4923 - val_accuracy: 0.8010\n"
     ]
    }
   ],
   "source": [
    "callbacks = [ModelCheckpoint(filepath=\"cat-dog-augmented.keras\", save_best_only=True, monitor=\"val_loss\")]\n",
    "history = model.fit(train_dataset, epochs=100, validation_data=validation_dataset, callbacks=callbacks)"
   ]
  },
  {
   "cell_type": "markdown",
   "metadata": {},
   "source": [
    "***Plotting***"
   ]
  },
  {
   "cell_type": "code",
   "execution_count": 46,
   "metadata": {
    "colab_type": "code"
   },
   "outputs": [
    {
     "data": {
      "image/png": "[encoded data removed]",
      "text/plain": [
       "<Figure size 432x288 with 1 Axes>"
      ]
     },
     "metadata": {
      "needs_background": "light"
     },
     "output_type": "display_data"
    },
    {
     "data": {
      "image/png": "[encoded data removed]",
      "text/plain": [
       "<Figure size 432x288 with 1 Axes>"
      ]
     },
     "metadata": {
      "needs_background": "light"
     },
     "output_type": "display_data"
    }
   ],
   "source": [
    "accuracy = history.history[\"accuracy\"]\n",
    "val_accuracy = history.history[\"val_accuracy\"]\n",
    "loss = history.history[\"loss\"]\n",
    "val_loss = history.history[\"val_loss\"]\n",
    "epochs = range(1, len(accuracy) + 1)\n",
    "plt.plot(epochs, accuracy, \"bo\", label=\"Training accuracy\")\n",
    "plt.plot(epochs, val_accuracy, \"b\", label=\"Validation accuracy\")\n",
    "plt.title(\"Training and validation accuracy\")\n",
    "plt.legend()\n",
    "plt.figure()\n",
    "plt.plot(epochs, loss, \"bo\", label=\"Training loss\")\n",
    "plt.plot(epochs, val_loss, \"b\", label=\"Validation loss\")\n",
    "plt.title(\"Training and validation loss\")\n",
    "plt.legend()\n",
    "plt.show()"
   ]
  },
  {
   "cell_type": "markdown",
   "metadata": {
    "colab_type": "text"
   },
   "source": [
    "**Evaluating the model on the test set**"
   ]
  },
  {
   "cell_type": "code",
   "execution_count": 45,
   "metadata": {
    "colab_type": "code"
   },
   "outputs": [
    {
     "name": "stdout",
     "output_type": "stream",
     "text": [
      "63/63 [==============================] - 1s 17ms/step - loss: 0.5093 - accuracy: 0.7480\n",
      "Test accuracy: 0.748\n"
     ]
    }
   ],
   "source": [
    "test_model = load_model(\"cat-dog-augmented.keras\")\n",
    "test_loss, test_acc = test_model.evaluate(test_dataset)\n",
    "print(f\"Test accuracy: {test_acc:.3f}\")"
   ]
  }
 ],
 "metadata": {
  "colab": {
   "collapsed_sections": [],
   "name": "chapter08_intro-to-dl-for-computer-vision.i",
   "private_outputs": false,
   "provenance": [],
   "toc_visible": true
  },
  "kernelspec": {
   "display_name": "Python 3",
   "language": "python",
   "name": "python3"
  },
  "language_info": {
   "codemirror_mode": {
    "name": "ipython",
    "version": 3
   },
   "file_extension": ".py",
   "mimetype": "text/x-python",
   "name": "python",
   "nbconvert_exporter": "python",
   "pygments_lexer": "ipython3",
   "version": "3.8.8"
  }
 },
 "nbformat": 4,
 "nbformat_minor": 1
}
