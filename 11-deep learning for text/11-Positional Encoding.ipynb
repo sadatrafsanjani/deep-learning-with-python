{
 "cells": [
  {
   "cell_type": "markdown",
   "metadata": {
    "colab_type": "text"
   },
   "source": [
    "## The Transformer architecture"
   ]
  },
  {
   "cell_type": "code",
   "execution_count": 18,
   "metadata": {
    "colab_type": "code"
   },
   "outputs": [],
   "source": [
    "import random\n",
    "import tensorflow as tf\n",
    "from tensorflow.keras import Input, Model, Sequential\n",
    "from tensorflow.keras.utils import text_dataset_from_directory\n",
    "from tensorflow.keras.layers import TextVectorization, Bidirectional, LSTM, Dropout, Dense, Layer, Embedding\n",
    "from tensorflow.keras.layers import MultiHeadAttention, LayerNormalization, GlobalMaxPooling1D\n",
    "from tensorflow.keras.callbacks import ModelCheckpoint\n",
    "from tensorflow.keras.models import load_model\n",
    "from tensorflow.keras.initializers import Constant\n",
    "import numpy as np"
   ]
  },
  {
   "cell_type": "code",
   "execution_count": 2,
   "metadata": {},
   "outputs": [
    {
     "name": "stdout",
     "output_type": "stream",
     "text": [
      "Found 70000 files belonging to 3 classes.\n",
      "Found 5000 files belonging to 2 classes.\n",
      "Found 25000 files belonging to 2 classes.\n"
     ]
    }
   ],
   "source": [
    "batch_size = 32\n",
    "train_ds = text_dataset_from_directory(\"aclImdb/train\", batch_size=batch_size)\n",
    "validation_ds = text_dataset_from_directory(\"aclImdb/val\", batch_size=batch_size)\n",
    "test_ds = text_dataset_from_directory(\"aclImdb/test\", batch_size=batch_size)"
   ]
  },
  {
   "cell_type": "markdown",
   "metadata": {
    "colab_type": "text"
   },
   "source": [
    "**Vectorizing the data**"
   ]
  },
  {
   "cell_type": "code",
   "execution_count": 3,
   "metadata": {},
   "outputs": [],
   "source": [
    "def clean_text(text):\n",
    "    # Convert to lowercase\n",
    "    text = tf.strings.lower(text)\n",
    "    \n",
    "    # Remove non-UTF-8 characters (ignore decoding errors)\n",
    "    text = tf.strings.regex_replace(text, r'[^\\x00-\\x7F]+', '')  \n",
    "    \n",
    "    # Keep only letters, numbers, spaces, and some punctuation\n",
    "    text = tf.strings.regex_replace(text, r\"[^a-zA-Z0-9\\s.,!?']\", \"\")\n",
    "    \n",
    "    return text\n",
    "\n",
    "def preprocess_text(text, label):\n",
    "    \n",
    "    text = clean_text(text)  # Apply cleaning function\n",
    "    \n",
    "    return text, label"
   ]
  },
  {
   "cell_type": "code",
   "execution_count": 7,
   "metadata": {
    "colab_type": "code"
   },
   "outputs": [],
   "source": [
    "train = train_ds.map(preprocess_text)\n",
    "validation = validation_ds.map(preprocess_text)\n",
    "test = test_ds.map(preprocess_text)"
   ]
  },
  {
   "cell_type": "code",
   "execution_count": 21,
   "metadata": {},
   "outputs": [],
   "source": [
    "sequence_length = 600\n",
    "max_tokens = 20000\n",
    "vectorizer = TextVectorization(max_tokens=max_tokens, output_mode=\"int\", output_sequence_length=sequence_length)"
   ]
  },
  {
   "cell_type": "code",
   "execution_count": 22,
   "metadata": {},
   "outputs": [],
   "source": [
    "train_text = train.map(lambda x, y: x)\n",
    "vectorizer.adapt(train_text)"
   ]
  },
  {
   "cell_type": "code",
   "execution_count": 23,
   "metadata": {},
   "outputs": [],
   "source": [
    "int_train_ds = train.map(lambda x, y: (vectorizer(x), y), num_parallel_calls=4)\n",
    "int_val_ds = validation.map(lambda x, y: (vectorizer(x), y), num_parallel_calls=4)\n",
    "int_test_ds = test.map(lambda x, y: (vectorizer(x), y), num_parallel_calls=4)"
   ]
  },
  {
   "cell_type": "markdown",
   "metadata": {
    "colab_type": "text"
   },
   "source": [
    "**Transformer encoder implemented as a subclassed `Layer`**"
   ]
  },
  {
   "cell_type": "code",
   "execution_count": 12,
   "metadata": {
    "colab_type": "code"
   },
   "outputs": [],
   "source": [
    "class TransformerEncoder(Layer):\n",
    "\n",
    "    def __init__(self, embed_dim, dense_dim, num_heads, **kwargs):\n",
    "        super().__init__(**kwargs)\n",
    "        self.embed_dim = embed_dim\n",
    "        self.dense_dim = dense_dim\n",
    "        self.num_heads = num_heads\n",
    "        self.attention = MultiHeadAttention(num_heads=num_heads, key_dim=embed_dim)\n",
    "        self.dense_proj = Sequential([Dense(dense_dim, activation=\"relu\"), Dense(embed_dim)])\n",
    "        self.layernorm_1 = LayerNormalization()\n",
    "        self.layernorm_2 = LayerNormalization()\n",
    "\n",
    "    def call(self, inputs, mask=None):\n",
    "        \n",
    "        if mask is not None:\n",
    "            mask = mask[:, tf.newaxis, :]\n",
    "        \n",
    "        attention_output = self.attention(inputs, inputs, attention_mask=mask)\n",
    "        proj_input = self.layernorm_1(inputs + attention_output)\n",
    "        proj_output = self.dense_proj(proj_input)\n",
    "        \n",
    "        return self.layernorm_2(proj_input + proj_output)\n",
    "\n",
    "    def get_config(self):\n",
    "        \n",
    "        config = super().get_config()\n",
    "        \n",
    "        config.update({\n",
    "            \"embed_dim\": self.embed_dim,\n",
    "            \"num_heads\": self.num_heads,\n",
    "            \"dense_dim\": self.dense_dim\n",
    "        })\n",
    "        \n",
    "        return config"
   ]
  },
  {
   "cell_type": "markdown",
   "metadata": {
    "colab_type": "text"
   },
   "source": [
    "**Using the Transformer encoder for text classification**"
   ]
  },
  {
   "cell_type": "code",
   "execution_count": 24,
   "metadata": {
    "colab_type": "code"
   },
   "outputs": [],
   "source": [
    "vocab_size = 20000\n",
    "embed_dim = 256\n",
    "num_heads = 2\n",
    "dense_dim = 32"
   ]
  },
  {
   "cell_type": "code",
   "execution_count": 25,
   "metadata": {},
   "outputs": [
    {
     "name": "stdout",
     "output_type": "stream",
     "text": [
      "Model: \"model_1\"\n",
      "_________________________________________________________________\n",
      " Layer (type)                Output Shape              Param #   \n",
      "=================================================================\n",
      " input_4 (InputLayer)        [(None, None)]            0         \n",
      "                                                                 \n",
      " embedding_2 (Embedding)     (None, None, 256)         5120000   \n",
      "                                                                 \n",
      " transformer_encoder_2 (Tran  (None, None, 256)        543776    \n",
      " sformerEncoder)                                                 \n",
      "                                                                 \n",
      " global_max_pooling1d_1 (Glo  (None, 256)              0         \n",
      " balMaxPooling1D)                                                \n",
      "                                                                 \n",
      " dropout_1 (Dropout)         (None, 256)               0         \n",
      "                                                                 \n",
      " dense_7 (Dense)             (None, 1)                 257       \n",
      "                                                                 \n",
      "=================================================================\n",
      "Total params: 5,664,033\n",
      "Trainable params: 5,664,033\n",
      "Non-trainable params: 0\n",
      "_________________________________________________________________\n"
     ]
    }
   ],
   "source": [
    "inputs = Input(shape=(None,), dtype=\"int64\")\n",
    "x = Embedding(vocab_size, embed_dim)(inputs)\n",
    "x = TransformerEncoder(embed_dim, dense_dim, num_heads)(x)\n",
    "x = GlobalMaxPooling1D()(x)\n",
    "x = Dropout(0.5)(x)\n",
    "outputs = Dense(1, activation=\"sigmoid\")(x)\n",
    "model = Model(inputs, outputs)\n",
    "model.compile(optimizer=\"rmsprop\", loss=\"binary_crossentropy\", metrics=[\"accuracy\"])\n",
    "model.summary()"
   ]
  },
  {
   "cell_type": "markdown",
   "metadata": {
    "colab_type": "text"
   },
   "source": [
    "**Training and evaluating the Transformer encoder based model**"
   ]
  },
  {
   "cell_type": "code",
   "execution_count": null,
   "metadata": {
    "colab_type": "code"
   },
   "outputs": [
    {
     "name": "stdout",
     "output_type": "stream",
     "text": [
      "Epoch 1/20\n",
      "2188/2188 [==============================] - 97s 43ms/step - loss: -2917.3035 - accuracy: 0.1428 - val_loss: 6717.3608 - val_accuracy: 0.5000\n",
      "Epoch 2/20\n",
      "2188/2188 [==============================] - 92s 42ms/step - loss: -16081.4248 - accuracy: 0.1429 - val_loss: 22966.8750 - val_accuracy: 0.5000\n",
      "Epoch 3/20\n",
      "2188/2188 [==============================] - 92s 42ms/step - loss: -40259.9844 - accuracy: 0.1429 - val_loss: 48738.9648 - val_accuracy: 0.5000\n",
      "Epoch 4/20\n",
      "2188/2188 [==============================] - 91s 42ms/step - loss: -75901.8047 - accuracy: 0.1429 - val_loss: 84664.7266 - val_accuracy: 0.5000\n",
      "Epoch 5/20\n",
      "2188/2188 [==============================] - 92s 42ms/step - loss: -123643.4062 - accuracy: 0.1429 - val_loss: 131337.4062 - val_accuracy: 0.5000\n",
      "Epoch 6/20\n",
      "2188/2188 [==============================] - 92s 42ms/step - loss: -183854.9844 - accuracy: 0.1429 - val_loss: 188788.8125 - val_accuracy: 0.5000\n",
      "Epoch 7/20\n",
      "2188/2188 [==============================] - 93s 42ms/step - loss: -256367.8281 - accuracy: 0.1429 - val_loss: 256427.1562 - val_accuracy: 0.5000\n",
      "Epoch 8/20\n",
      "2188/2188 [==============================] - 92s 42ms/step - loss: -341191.8438 - accuracy: 0.1429 - val_loss: 334101.0625 - val_accuracy: 0.5000\n",
      "Epoch 9/20\n",
      "2188/2188 [==============================] - 92s 42ms/step - loss: -438307.4062 - accuracy: 0.1429 - val_loss: 422359.5625 - val_accuracy: 0.5000\n",
      "Epoch 10/20\n",
      "2188/2188 [==============================] - 93s 42ms/step - loss: -546878.0625 - accuracy: 0.1429 - val_loss: 519283.3125 - val_accuracy: 0.5000\n",
      "Epoch 11/20\n",
      "2188/2188 [==============================] - 93s 42ms/step - loss: -668867.8750 - accuracy: 0.1429 - val_loss: 628571.0625 - val_accuracy: 0.5000\n",
      "Epoch 12/20\n",
      "2188/2188 [==============================] - 92s 42ms/step - loss: -802393.8750 - accuracy: 0.1429 - val_loss: 747252.9375 - val_accuracy: 0.5000\n",
      "Epoch 13/20\n",
      "2188/2188 [==============================] - 84s 38ms/step - loss: -948736.0000 - accuracy: 0.1429 - val_loss: 875458.6875 - val_accuracy: 0.5000\n",
      "Epoch 14/20\n",
      "2188/2188 [==============================] - 87s 40ms/step - loss: -1107856.7500 - accuracy: 0.1429 - val_loss: 1012428.3125 - val_accuracy: 0.5000\n",
      "Epoch 15/20\n",
      "2188/2188 [==============================] - 93s 43ms/step - loss: -1279213.8750 - accuracy: 0.1429 - val_loss: 1162742.1250 - val_accuracy: 0.5000\n",
      "Epoch 16/20\n",
      "2188/2188 [==============================] - 92s 42ms/step - loss: -1463233.0000 - accuracy: 0.1429 - val_loss: 1321175.0000 - val_accuracy: 0.5000\n",
      "Epoch 17/20\n",
      "2188/2188 [==============================] - 94s 43ms/step - loss: -1656755.6250 - accuracy: 0.1429 - val_loss: 1491071.0000 - val_accuracy: 0.5000\n",
      "Epoch 18/20\n",
      "2188/2188 [==============================] - 92s 42ms/step - loss: -1865161.8750 - accuracy: 0.1429 - val_loss: 1671525.6250 - val_accuracy: 0.5000\n",
      "Epoch 19/20\n",
      "2188/2188 [==============================] - 89s 41ms/step - loss: -2084869.3750 - accuracy: 0.1429 - val_loss: 1859569.2500 - val_accuracy: 0.5000\n",
      "Epoch 20/20\n",
      "2107/2188 [===========================>..] - ETA: 3s - loss: -2314093.7500 - accuracy: 0.1431"
     ]
    }
   ],
   "source": [
    "callbacks = [ModelCheckpoint(\"transformer_encoder.keras\", save_best_only=True)]\n",
    "model.fit(int_train_ds, validation_data=int_val_ds, epochs=20, callbacks=callbacks)"
   ]
  },
  {
   "cell_type": "code",
   "execution_count": null,
   "metadata": {},
   "outputs": [],
   "source": [
    "model = load_model(\"transformer_encoder.keras\", custom_objects={\"TransformerEncoder\": TransformerEncoder})\n",
    "print(f\"Test acc: {model.evaluate(int_test_ds)[1]:.3f}\")"
   ]
  }
 ],
 "metadata": {
  "colab": {
   "collapsed_sections": [],
   "name": "chapter11_part03_transformer.i",
   "private_outputs": false,
   "provenance": [],
   "toc_visible": true
  },
  "kernelspec": {
   "display_name": "Python 3",
   "language": "python",
   "name": "python3"
  },
  "language_info": {
   "codemirror_mode": {
    "name": "ipython",
    "version": 3
   },
   "file_extension": ".py",
   "mimetype": "text/x-python",
   "name": "python",
   "nbconvert_exporter": "python",
   "pygments_lexer": "ipython3",
   "version": "3.8.8"
  }
 },
 "nbformat": 4,
 "nbformat_minor": 1
}
