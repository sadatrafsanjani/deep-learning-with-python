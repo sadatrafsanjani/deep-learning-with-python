{
 "cells": [
  {
   "cell_type": "code",
   "execution_count": 24,
   "metadata": {
    "colab_type": "code"
   },
   "outputs": [],
   "source": [
    "import random\n",
    "import tensorflow as tf\n",
    "from tensorflow.keras import Input, Model\n",
    "from tensorflow.keras.utils import text_dataset_from_directory\n",
    "from tensorflow.keras.layers import TextVectorization, Bidirectional, LSTM, Dropout, Dense, Embedding\n",
    "from tensorflow.keras.callbacks import ModelCheckpoint\n",
    "from tensorflow.keras.models import load_model\n",
    "from tensorflow.keras.initializers import Constant\n",
    "import numpy as np"
   ]
  },
  {
   "cell_type": "code",
   "execution_count": 25,
   "metadata": {},
   "outputs": [],
   "source": [
    "batch_size = 16"
   ]
  },
  {
   "cell_type": "code",
   "execution_count": 26,
   "metadata": {},
   "outputs": [
    {
     "name": "stdout",
     "output_type": "stream",
     "text": [
      "Found 70000 files belonging to 3 classes.\n",
      "Found 5000 files belonging to 2 classes.\n",
      "Found 25000 files belonging to 2 classes.\n"
     ]
    }
   ],
   "source": [
    "train_ds = text_dataset_from_directory(\"aclImdb/train\", batch_size=batch_size)\n",
    "validation_ds = text_dataset_from_directory(\"aclImdb/val\", batch_size=batch_size)\n",
    "test_ds = text_dataset_from_directory(\"aclImdb/test\", batch_size=batch_size)"
   ]
  },
  {
   "cell_type": "code",
   "execution_count": 27,
   "metadata": {},
   "outputs": [],
   "source": [
    "def clean_text(text):\n",
    "    # Convert to lowercase\n",
    "    text = tf.strings.lower(text)\n",
    "    \n",
    "    # Remove non-UTF-8 characters (ignore decoding errors)\n",
    "    text = tf.strings.regex_replace(text, r'[^\\x00-\\x7F]+', '')  \n",
    "    \n",
    "    # Keep only letters, numbers, spaces, and some punctuation\n",
    "    text = tf.strings.regex_replace(text, r\"[^a-zA-Z0-9\\s.,!?']\", \"\")\n",
    "    \n",
    "    return text\n",
    "\n",
    "def preprocess_text(text, label):\n",
    "    text = clean_text(text)  # Apply cleaning function\n",
    "    return text, label"
   ]
  },
  {
   "cell_type": "code",
   "execution_count": 28,
   "metadata": {},
   "outputs": [],
   "source": [
    "train = train_ds.map(preprocess_text)\n",
    "validation = validation_ds.map(preprocess_text)\n",
    "test = test_ds.map(preprocess_text)"
   ]
  },
  {
   "cell_type": "code",
   "execution_count": 29,
   "metadata": {},
   "outputs": [],
   "source": [
    "sequence_length = 600\n",
    "max_tokens = 20000\n",
    "\n",
    "vectorizer = TextVectorization(max_tokens=max_tokens, output_mode=\"int\", output_sequence_length=sequence_length)"
   ]
  },
  {
   "cell_type": "code",
   "execution_count": 30,
   "metadata": {},
   "outputs": [],
   "source": [
    "train_text = train.map(lambda x, y: x)\n",
    "vectorizer.adapt(train_text)"
   ]
  },
  {
   "cell_type": "markdown",
   "metadata": {
    "colab_type": "text"
   },
   "source": [
    "**Parsing the GloVe word-embeddings file**"
   ]
  },
  {
   "cell_type": "code",
   "execution_count": 14,
   "metadata": {
    "colab_type": "code"
   },
   "outputs": [
    {
     "name": "stdout",
     "output_type": "stream",
     "text": [
      "Found 400000 word vectors.\n"
     ]
    }
   ],
   "source": [
    "path_to_glove_file = \"./glove/glove.6B.100d.txt\"\n",
    "\n",
    "embeddings_index = {}\n",
    "\n",
    "with open(path_to_glove_file, encoding=\"utf-8\") as f:\n",
    "    for line in f:\n",
    "        values = line.split()\n",
    "        word = values[0]\n",
    "        coefs = np.asarray(values[1:], dtype='float32')\n",
    "        embeddings_index[word] = coefs\n",
    "\n",
    "print(f\"Found {len(embeddings_index)} word vectors.\")"
   ]
  },
  {
   "cell_type": "code",
   "execution_count": 15,
   "metadata": {
    "colab_type": "code"
   },
   "outputs": [],
   "source": [
    "embedding_dim = 100\n",
    "\n",
    "vocabulary = vectorizer.get_vocabulary()\n",
    "word_index = dict(zip(vocabulary, range(len(vocabulary))))"
   ]
  },
  {
   "cell_type": "code",
   "execution_count": 16,
   "metadata": {},
   "outputs": [],
   "source": [
    "int_train_ds = train.map(lambda x, y: (vectorizer(x), y), num_parallel_calls=4)\n",
    "int_val_ds = validation.map(lambda x, y: (vectorizer(x), y), num_parallel_calls=4)\n",
    "int_test_ds = test.map(lambda x, y: (vectorizer(x), y), num_parallel_calls=4)"
   ]
  },
  {
   "cell_type": "markdown",
   "metadata": {
    "colab_type": "text"
   },
   "source": [
    "**Preparing the GloVe word-embeddings matrix**"
   ]
  },
  {
   "cell_type": "code",
   "execution_count": 17,
   "metadata": {},
   "outputs": [],
   "source": [
    "embedding_matrix = np.zeros((max_tokens, embedding_dim))\n",
    "\n",
    "for word, i in word_index.items():\n",
    "    if i < max_tokens:\n",
    "        embedding_vector = embeddings_index.get(word)\n",
    "        if embedding_vector is not None:\n",
    "            embedding_matrix[i] = embedding_vector"
   ]
  },
  {
   "cell_type": "code",
   "execution_count": 18,
   "metadata": {
    "colab_type": "code"
   },
   "outputs": [],
   "source": [
    "Embedder = Embedding(input_dim=max_tokens, output_dim=embedding_dim, embeddings_initializer=Constant(embedding_matrix), \n",
    "                     trainable=False, mask_zero=True\n",
    ")"
   ]
  },
  {
   "cell_type": "markdown",
   "metadata": {
    "colab_type": "text"
   },
   "source": [
    "**Model that uses a pretrained Embedding layer**"
   ]
  },
  {
   "cell_type": "code",
   "execution_count": 19,
   "metadata": {
    "colab_type": "code"
   },
   "outputs": [
    {
     "name": "stdout",
     "output_type": "stream",
     "text": [
      "Model: \"model\"\n",
      "_________________________________________________________________\n",
      " Layer (type)                Output Shape              Param #   \n",
      "=================================================================\n",
      " input_1 (InputLayer)        [(None, None)]            0         \n",
      "                                                                 \n",
      " embedding (Embedding)       (None, None, 100)         2000000   \n",
      "                                                                 \n",
      " bidirectional (Bidirectiona  (None, 64)               34048     \n",
      " l)                                                              \n",
      "                                                                 \n",
      " dropout (Dropout)           (None, 64)                0         \n",
      "                                                                 \n",
      " dense (Dense)               (None, 1)                 65        \n",
      "                                                                 \n",
      "=================================================================\n",
      "Total params: 2,034,113\n",
      "Trainable params: 34,113\n",
      "Non-trainable params: 2,000,000\n",
      "_________________________________________________________________\n"
     ]
    }
   ],
   "source": [
    "inputs = Input(shape=(None,), dtype=\"int64\")\n",
    "embedder = Embedder(inputs)\n",
    "x = Bidirectional(LSTM(32))(embedder)\n",
    "x = Dropout(0.5)(x)\n",
    "outputs = Dense(1, activation=\"sigmoid\")(x)\n",
    "model = Model(inputs, outputs)\n",
    "model.compile(optimizer=\"rmsprop\", loss=\"binary_crossentropy\", metrics=[\"accuracy\"])\n",
    "model.summary()"
   ]
  },
  {
   "cell_type": "code",
   "execution_count": 20,
   "metadata": {},
   "outputs": [
    {
     "name": "stdout",
     "output_type": "stream",
     "text": [
      "Epoch 1/10\n",
      "4375/4375 [==============================] - 267s 59ms/step - loss: -78.0445 - accuracy: 0.1429 - val_loss: 131.1146 - val_accuracy: 0.5000\n",
      "Epoch 2/10\n",
      "4375/4375 [==============================] - 255s 58ms/step - loss: -221.8966 - accuracy: 0.1429 - val_loss: 256.9736 - val_accuracy: 0.5000\n",
      "Epoch 3/10\n",
      "4375/4375 [==============================] - 255s 58ms/step - loss: -365.5190 - accuracy: 0.1429 - val_loss: 382.6776 - val_accuracy: 0.5000\n",
      "Epoch 4/10\n",
      "4375/4375 [==============================] - 256s 58ms/step - loss: -509.3230 - accuracy: 0.1429 - val_loss: 508.5425 - val_accuracy: 0.5000\n",
      "Epoch 5/10\n",
      "4375/4375 [==============================] - 255s 58ms/step - loss: -653.2645 - accuracy: 0.1429 - val_loss: 634.3755 - val_accuracy: 0.5000\n",
      "Epoch 6/10\n",
      "4375/4375 [==============================] - 259s 59ms/step - loss: -797.2509 - accuracy: 0.1429 - val_loss: 760.0823 - val_accuracy: 0.5000\n",
      "Epoch 7/10\n",
      "4375/4375 [==============================] - 252s 58ms/step - loss: -941.4163 - accuracy: 0.1429 - val_loss: 885.7700 - val_accuracy: 0.5000\n",
      "Epoch 8/10\n",
      "4375/4375 [==============================] - 251s 57ms/step - loss: -1085.9867 - accuracy: 0.1429 - val_loss: 1011.5206 - val_accuracy: 0.5000\n",
      "Epoch 9/10\n",
      "4375/4375 [==============================] - 251s 57ms/step - loss: -1227.6387 - accuracy: 0.1429 - val_loss: 1137.1990 - val_accuracy: 0.5000\n",
      "Epoch 10/10\n",
      "4375/4375 [==============================] - 252s 58ms/step - loss: -1370.0242 - accuracy: 0.1429 - val_loss: 1263.1312 - val_accuracy: 0.5000\n"
     ]
    },
    {
     "data": {
      "text/plain": [
       "<keras.callbacks.History at 0x20e9cce0880>"
      ]
     },
     "execution_count": 20,
     "metadata": {},
     "output_type": "execute_result"
    }
   ],
   "source": [
    "callbacks = [ModelCheckpoint(\"pretrained_embedding_model.keras\", save_best_only=True)]\n",
    "model.fit(int_train_ds, validation_data=int_val_ds, epochs=10, callbacks=callbacks)"
   ]
  },
  {
   "cell_type": "code",
   "execution_count": 22,
   "metadata": {},
   "outputs": [
    {
     "name": "stdout",
     "output_type": "stream",
     "text": [
      "1563/1563 [==============================] - 46s 28ms/step - loss: 131.1110 - accuracy: 0.5000\n",
      "Test acc: 0.500\n"
     ]
    }
   ],
   "source": [
    "model = load_model(\"pretrained_embedding_model.keras\")\n",
    "print(f\"Test acc: {model.evaluate(int_test_ds)[1]:.3f}\")"
   ]
  }
 ],
 "metadata": {
  "colab": {
   "collapsed_sections": [],
   "name": "chapter11_part02_sequence-models.i",
   "private_outputs": false,
   "provenance": [],
   "toc_visible": true
  },
  "kernelspec": {
   "display_name": "Python 3",
   "language": "python",
   "name": "python3"
  },
  "language_info": {
   "codemirror_mode": {
    "name": "ipython",
    "version": 3
   },
   "file_extension": ".py",
   "mimetype": "text/x-python",
   "name": "python",
   "nbconvert_exporter": "python",
   "pygments_lexer": "ipython3",
   "version": "3.8.8"
  }
 },
 "nbformat": 4,
 "nbformat_minor": 1
}
