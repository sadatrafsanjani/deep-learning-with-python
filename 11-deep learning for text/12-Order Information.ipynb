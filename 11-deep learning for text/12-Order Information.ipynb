{
 "cells": [
  {
   "cell_type": "markdown",
   "metadata": {
    "colab_type": "text"
   },
   "source": [
    "## The Transformer architecture"
   ]
  },
  {
   "cell_type": "code",
   "execution_count": 1,
   "metadata": {
    "colab_type": "code"
   },
   "outputs": [],
   "source": [
    "import random\n",
    "import tensorflow as tf\n",
    "from tensorflow.keras import Input, Model, Sequential\n",
    "from tensorflow.keras.utils import text_dataset_from_directory\n",
    "from tensorflow.keras.layers import TextVectorization, Bidirectional, LSTM, Dropout, Dense, Layer, Embedding\n",
    "from tensorflow.keras.layers import MultiHeadAttention, LayerNormalization, GlobalMaxPooling1D\n",
    "from tensorflow.keras.callbacks import ModelCheckpoint\n",
    "from tensorflow.keras.models import load_model\n",
    "from tensorflow.keras.initializers import Constant\n",
    "import numpy as np"
   ]
  },
  {
   "cell_type": "code",
   "execution_count": 2,
   "metadata": {},
   "outputs": [
    {
     "name": "stdout",
     "output_type": "stream",
     "text": [
      "Found 20000 files belonging to 2 classes.\n",
      "Found 5000 files belonging to 2 classes.\n",
      "Found 25000 files belonging to 2 classes.\n"
     ]
    }
   ],
   "source": [
    "batch_size = 32\n",
    "train_ds = text_dataset_from_directory(\"aclImdb/train\", batch_size=batch_size)\n",
    "validation_ds = text_dataset_from_directory(\"aclImdb/val\", batch_size=batch_size)\n",
    "test_ds = text_dataset_from_directory(\"aclImdb/test\", batch_size=batch_size)"
   ]
  },
  {
   "cell_type": "markdown",
   "metadata": {
    "colab_type": "text"
   },
   "source": [
    "**Vectorizing the data**"
   ]
  },
  {
   "cell_type": "code",
   "execution_count": 3,
   "metadata": {},
   "outputs": [],
   "source": [
    "def clean_text(text):\n",
    "\n",
    "    text = tf.strings.lower(text)\n",
    "    text = tf.strings.regex_replace(text, r'[^\\x00-\\x7F]+', '')  \n",
    "    text = tf.strings.regex_replace(text, r\"[^a-zA-Z0-9\\s.,!?']\", \"\")\n",
    "    \n",
    "    return text\n",
    "\n",
    "def preprocess_text(text, label):\n",
    "    \n",
    "    text = clean_text(text)\n",
    "    \n",
    "    return text, label"
   ]
  },
  {
   "cell_type": "code",
   "execution_count": 4,
   "metadata": {
    "colab_type": "code"
   },
   "outputs": [],
   "source": [
    "train = train_ds.map(preprocess_text)\n",
    "validation = validation_ds.map(preprocess_text)\n",
    "test = test_ds.map(preprocess_text)"
   ]
  },
  {
   "cell_type": "code",
   "execution_count": 5,
   "metadata": {},
   "outputs": [],
   "source": [
    "sequence_length = 600\n",
    "max_tokens = 20000\n",
    "vectorizer = TextVectorization(max_tokens=max_tokens, output_mode=\"int\", output_sequence_length=sequence_length)"
   ]
  },
  {
   "cell_type": "code",
   "execution_count": 6,
   "metadata": {},
   "outputs": [],
   "source": [
    "train_text = train.map(lambda x, y: x)\n",
    "vectorizer.adapt(train_text)"
   ]
  },
  {
   "cell_type": "code",
   "execution_count": 7,
   "metadata": {},
   "outputs": [],
   "source": [
    "int_train_ds = train.map(lambda x, y: (vectorizer(x), y), num_parallel_calls=4)\n",
    "int_val_ds = validation.map(lambda x, y: (vectorizer(x), y), num_parallel_calls=4)\n",
    "int_test_ds = test.map(lambda x, y: (vectorizer(x), y), num_parallel_calls=4)"
   ]
  },
  {
   "cell_type": "markdown",
   "metadata": {
    "colab_type": "text"
   },
   "source": [
    "**Transformer**"
   ]
  },
  {
   "cell_type": "code",
   "execution_count": 8,
   "metadata": {
    "colab_type": "code"
   },
   "outputs": [],
   "source": [
    "class TransformerEncoder(Layer):\n",
    "\n",
    "    def __init__(self, embed_dim, dense_dim, num_heads, **kwargs):\n",
    "        super().__init__(**kwargs)\n",
    "        self.embed_dim = embed_dim\n",
    "        self.dense_dim = dense_dim\n",
    "        self.num_heads = num_heads\n",
    "        self.attention = MultiHeadAttention(num_heads=num_heads, key_dim=embed_dim)\n",
    "        self.dense_proj = Sequential([Dense(dense_dim, activation=\"relu\"), Dense(embed_dim)])\n",
    "        self.layernorm_1 = LayerNormalization()\n",
    "        self.layernorm_2 = LayerNormalization()\n",
    "\n",
    "    def call(self, inputs, mask=None):\n",
    "        \n",
    "        if mask is not None:\n",
    "            mask = mask[:, tf.newaxis, :]\n",
    "        \n",
    "        attention_output = self.attention(inputs, inputs, attention_mask=mask)\n",
    "        proj_input = self.layernorm_1(inputs + attention_output)\n",
    "        proj_output = self.dense_proj(proj_input)\n",
    "        \n",
    "        return self.layernorm_2(proj_input + proj_output)\n",
    "\n",
    "    def get_config(self):\n",
    "        \n",
    "        config = super().get_config()\n",
    "        \n",
    "        config.update({\n",
    "            \"embed_dim\": self.embed_dim,\n",
    "            \"num_heads\": self.num_heads,\n",
    "            \"dense_dim\": self.dense_dim\n",
    "        })\n",
    "        \n",
    "        return config"
   ]
  },
  {
   "cell_type": "markdown",
   "metadata": {
    "colab_type": "text"
   },
   "source": [
    "**Implementing positional embedding**"
   ]
  },
  {
   "cell_type": "code",
   "execution_count": 12,
   "metadata": {
    "colab_type": "code"
   },
   "outputs": [],
   "source": [
    "class PositionalEmbedding(Layer):\n",
    "    \n",
    "    def __init__(self, sequence_length, input_dim, output_dim, **kwargs):\n",
    "        super().__init__(**kwargs)\n",
    "        self.token_embeddings = Embedding(input_dim=input_dim, output_dim=output_dim)\n",
    "        self.position_embeddings = Embedding(input_dim=sequence_length, output_dim=output_dim)\n",
    "        self.sequence_length = sequence_length\n",
    "        self.input_dim = input_dim\n",
    "        self.output_dim = output_dim\n",
    "\n",
    "    def call(self, inputs):\n",
    "        length = tf.shape(inputs)[-1]\n",
    "        positions = tf.range(start=0, limit=length, delta=1)\n",
    "        embedded_tokens = self.token_embeddings(inputs)\n",
    "        embedded_positions = self.position_embeddings(positions)\n",
    "        \n",
    "        return embedded_tokens + embedded_positions\n",
    "\n",
    "    def compute_mask(self, inputs, mask=None):\n",
    "        \n",
    "        return tf.math.not_equal(inputs, 0)\n",
    "\n",
    "    def get_config(self):\n",
    "        \n",
    "        config = super().get_config()\n",
    "        config.update({\n",
    "            \"output_dim\": self.output_dim,\n",
    "            \"sequence_length\": self.sequence_length,\n",
    "            \"input_dim\": self.input_dim,\n",
    "        })\n",
    "        \n",
    "        return config"
   ]
  },
  {
   "cell_type": "code",
   "execution_count": 13,
   "metadata": {},
   "outputs": [],
   "source": [
    "vocab_size = 20000\n",
    "sequence_length = 600\n",
    "embed_dim = 256\n",
    "num_heads = 2\n",
    "dense_dim = 32"
   ]
  },
  {
   "cell_type": "markdown",
   "metadata": {
    "colab_type": "text"
   },
   "source": [
    "**Combining the Transformer encoder with positional embedding**"
   ]
  },
  {
   "cell_type": "code",
   "execution_count": 14,
   "metadata": {
    "colab_type": "code"
   },
   "outputs": [
    {
     "name": "stdout",
     "output_type": "stream",
     "text": [
      "Model: \"model\"\n",
      "_________________________________________________________________\n",
      " Layer (type)                Output Shape              Param #   \n",
      "=================================================================\n",
      " input_1 (InputLayer)        [(None, None)]            0         \n",
      "                                                                 \n",
      " positional_embedding (Posit  (None, None, 256)        5273600   \n",
      " ionalEmbedding)                                                 \n",
      "                                                                 \n",
      " transformer_encoder (Transf  (None, None, 256)        543776    \n",
      " ormerEncoder)                                                   \n",
      "                                                                 \n",
      " global_max_pooling1d (Globa  (None, 256)              0         \n",
      " lMaxPooling1D)                                                  \n",
      "                                                                 \n",
      " dropout (Dropout)           (None, 256)               0         \n",
      "                                                                 \n",
      " dense_2 (Dense)             (None, 1)                 257       \n",
      "                                                                 \n",
      "=================================================================\n",
      "Total params: 5,817,633\n",
      "Trainable params: 5,817,633\n",
      "Non-trainable params: 0\n",
      "_________________________________________________________________\n"
     ]
    }
   ],
   "source": [
    "inputs = Input(shape=(None,), dtype=\"int64\")\n",
    "x = PositionalEmbedding(sequence_length, vocab_size, embed_dim)(inputs)\n",
    "x = TransformerEncoder(embed_dim, dense_dim, num_heads)(x)\n",
    "x = GlobalMaxPooling1D()(x)\n",
    "x = Dropout(0.5)(x)\n",
    "outputs = Dense(1, activation=\"sigmoid\")(x)\n",
    "model = Model(inputs, outputs)\n",
    "model.compile(optimizer=\"rmsprop\", loss=\"binary_crossentropy\", metrics=[\"accuracy\"])\n",
    "model.summary()"
   ]
  },
  {
   "cell_type": "code",
   "execution_count": 15,
   "metadata": {},
   "outputs": [
    {
     "name": "stdout",
     "output_type": "stream",
     "text": [
      "Epoch 1/20\n",
      "625/625 [==============================] - 34s 44ms/step - loss: 0.4828 - accuracy: 0.7757 - val_loss: 0.2934 - val_accuracy: 0.8844\n",
      "Epoch 2/20\n",
      "625/625 [==============================] - 27s 44ms/step - loss: 0.2350 - accuracy: 0.9103 - val_loss: 0.2629 - val_accuracy: 0.8894\n",
      "Epoch 3/20\n",
      "625/625 [==============================] - 27s 44ms/step - loss: 0.1802 - accuracy: 0.9315 - val_loss: 0.3094 - val_accuracy: 0.8888\n",
      "Epoch 4/20\n",
      "625/625 [==============================] - 27s 44ms/step - loss: 0.1435 - accuracy: 0.9474 - val_loss: 0.3366 - val_accuracy: 0.8900\n",
      "Epoch 5/20\n",
      "625/625 [==============================] - 27s 44ms/step - loss: 0.1251 - accuracy: 0.9556 - val_loss: 0.3917 - val_accuracy: 0.8798\n",
      "Epoch 6/20\n",
      "625/625 [==============================] - 27s 44ms/step - loss: 0.1087 - accuracy: 0.9613 - val_loss: 0.4582 - val_accuracy: 0.8758\n",
      "Epoch 7/20\n",
      "625/625 [==============================] - 27s 44ms/step - loss: 0.0969 - accuracy: 0.9672 - val_loss: 0.4065 - val_accuracy: 0.8818\n",
      "Epoch 8/20\n",
      "625/625 [==============================] - 27s 43ms/step - loss: 0.0906 - accuracy: 0.9687 - val_loss: 0.5484 - val_accuracy: 0.8558\n",
      "Epoch 9/20\n",
      "625/625 [==============================] - 27s 44ms/step - loss: 0.0803 - accuracy: 0.9729 - val_loss: 0.4178 - val_accuracy: 0.8770\n",
      "Epoch 10/20\n",
      "625/625 [==============================] - 28s 44ms/step - loss: 0.0698 - accuracy: 0.9764 - val_loss: 0.4973 - val_accuracy: 0.8826\n",
      "Epoch 11/20\n",
      "625/625 [==============================] - 27s 44ms/step - loss: 0.0647 - accuracy: 0.9793 - val_loss: 0.5622 - val_accuracy: 0.8778\n",
      "Epoch 12/20\n",
      "625/625 [==============================] - 27s 44ms/step - loss: 0.0605 - accuracy: 0.9809 - val_loss: 0.5702 - val_accuracy: 0.8792\n",
      "Epoch 13/20\n",
      "625/625 [==============================] - 27s 44ms/step - loss: 0.0537 - accuracy: 0.9823 - val_loss: 0.6438 - val_accuracy: 0.8662\n",
      "Epoch 14/20\n",
      "625/625 [==============================] - 27s 44ms/step - loss: 0.0534 - accuracy: 0.9833 - val_loss: 0.5288 - val_accuracy: 0.8744\n",
      "Epoch 15/20\n",
      "625/625 [==============================] - 27s 44ms/step - loss: 0.0491 - accuracy: 0.9837 - val_loss: 0.5980 - val_accuracy: 0.8758\n",
      "Epoch 16/20\n",
      "625/625 [==============================] - 27s 44ms/step - loss: 0.0448 - accuracy: 0.9856 - val_loss: 0.6793 - val_accuracy: 0.8718\n",
      "Epoch 17/20\n",
      "625/625 [==============================] - 27s 44ms/step - loss: 0.0424 - accuracy: 0.9860 - val_loss: 0.6935 - val_accuracy: 0.8704\n",
      "Epoch 18/20\n",
      "625/625 [==============================] - 27s 44ms/step - loss: 0.0368 - accuracy: 0.9877 - val_loss: 0.6084 - val_accuracy: 0.8668\n",
      "Epoch 19/20\n",
      "625/625 [==============================] - 27s 44ms/step - loss: 0.0342 - accuracy: 0.9898 - val_loss: 0.7794 - val_accuracy: 0.8694\n",
      "Epoch 20/20\n",
      "625/625 [==============================] - 27s 44ms/step - loss: 0.0324 - accuracy: 0.9902 - val_loss: 0.7320 - val_accuracy: 0.8680\n"
     ]
    },
    {
     "data": {
      "text/plain": [
       "<keras.callbacks.History at 0x1f22a3cac40>"
      ]
     },
     "execution_count": 15,
     "metadata": {},
     "output_type": "execute_result"
    }
   ],
   "source": [
    "callbacks = [ModelCheckpoint(\"full_transformer_encoder.keras\", save_best_only=True)]\n",
    "model.fit(int_train_ds, validation_data=int_val_ds, epochs=20, callbacks=callbacks)"
   ]
  },
  {
   "cell_type": "code",
   "execution_count": 16,
   "metadata": {},
   "outputs": [],
   "source": [
    "model = load_model(\"full_transformer_encoder.keras\", \n",
    "                   custom_objects={\"TransformerEncoder\": TransformerEncoder, \"PositionalEmbedding\": PositionalEmbedding }\n",
    "                  )"
   ]
  },
  {
   "cell_type": "code",
   "execution_count": 17,
   "metadata": {},
   "outputs": [
    {
     "name": "stdout",
     "output_type": "stream",
     "text": [
      "782/782 [==============================] - 15s 18ms/step - loss: 0.2851 - accuracy: 0.8817\n",
      "Test acc: 0.882\n"
     ]
    }
   ],
   "source": [
    "print(f\"Test acc: {model.evaluate(int_test_ds)[1]:.3f}\")"
   ]
  }
 ],
 "metadata": {
  "colab": {
   "collapsed_sections": [],
   "name": "chapter11_part03_transformer.i",
   "private_outputs": false,
   "provenance": [],
   "toc_visible": true
  },
  "kernelspec": {
   "display_name": "Python 3",
   "language": "python",
   "name": "python3"
  },
  "language_info": {
   "codemirror_mode": {
    "name": "ipython",
    "version": 3
   },
   "file_extension": ".py",
   "mimetype": "text/x-python",
   "name": "python",
   "nbconvert_exporter": "python",
   "pygments_lexer": "ipython3",
   "version": "3.8.8"
  }
 },
 "nbformat": 4,
 "nbformat_minor": 1
}
