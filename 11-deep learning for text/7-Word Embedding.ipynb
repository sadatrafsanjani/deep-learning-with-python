{
 "cells": [
  {
   "cell_type": "markdown",
   "metadata": {
    "colab_type": "text"
   },
   "source": [
    "**Preparing the data**"
   ]
  },
  {
   "cell_type": "code",
   "execution_count": 1,
   "metadata": {
    "colab_type": "code"
   },
   "outputs": [],
   "source": [
    "import random\n",
    "import tensorflow as tf\n",
    "from tensorflow.keras import Input, Model\n",
    "from tensorflow.keras.utils import text_dataset_from_directory\n",
    "from tensorflow.keras.layers import TextVectorization, Bidirectional, LSTM, Dropout, Dense, Embedding\n",
    "from tensorflow.keras.callbacks import ModelCheckpoint\n",
    "from tensorflow.keras.models import load_model"
   ]
  },
  {
   "cell_type": "code",
   "execution_count": 2,
   "metadata": {},
   "outputs": [],
   "source": [
    "batch_size = 8"
   ]
  },
  {
   "cell_type": "code",
   "execution_count": 3,
   "metadata": {},
   "outputs": [
    {
     "name": "stdout",
     "output_type": "stream",
     "text": [
      "Found 70000 files belonging to 3 classes.\n",
      "Found 5000 files belonging to 2 classes.\n",
      "Found 25000 files belonging to 2 classes.\n"
     ]
    }
   ],
   "source": [
    "train = text_dataset_from_directory(\"aclImdb/train\", batch_size=batch_size)\n",
    "validation = text_dataset_from_directory(\"aclImdb/val\", batch_size=batch_size)\n",
    "test = text_dataset_from_directory(\"aclImdb/test\", batch_size=batch_size)\n",
    "text_only_train = train.map(lambda x, y: x)"
   ]
  },
  {
   "cell_type": "code",
   "execution_count": 5,
   "metadata": {
    "colab_type": "code"
   },
   "outputs": [],
   "source": [
    "max_length = 600\n",
    "max_tokens = 20000\n",
    "\n",
    "text_vectorization = TextVectorization(max_tokens=max_tokens, output_mode=\"int\", output_sequence_length=max_length)\n",
    "text_vectorization.adapt(text_only_train)"
   ]
  },
  {
   "cell_type": "code",
   "execution_count": 6,
   "metadata": {},
   "outputs": [],
   "source": [
    "int_train_ds = train.map(lambda x, y: (text_vectorization(x), y), num_parallel_calls=4)\n",
    "int_val_ds = validation.map(lambda x, y: (text_vectorization(x), y), num_parallel_calls=4)\n",
    "int_test_ds = test.map(lambda x, y: (text_vectorization(x), y), num_parallel_calls=4)"
   ]
  },
  {
   "cell_type": "markdown",
   "metadata": {
    "colab_type": "text"
   },
   "source": [
    "**Model that uses an `Embedding` layer trained from scratch**"
   ]
  },
  {
   "cell_type": "code",
   "execution_count": 7,
   "metadata": {
    "colab_type": "code"
   },
   "outputs": [],
   "source": [
    "inputs = Input(shape=(None,), dtype=\"int64\")\n",
    "embedded = Embedding(input_dim=max_tokens, output_dim=256)(inputs)\n",
    "x = Bidirectional(LSTM(32))(embedded)\n",
    "x = Dropout(0.5)(x)\n",
    "outputs = Dense(1, activation=\"sigmoid\")(x)\n",
    "model = Model(inputs, outputs)"
   ]
  },
  {
   "cell_type": "code",
   "execution_count": 8,
   "metadata": {},
   "outputs": [
    {
     "name": "stdout",
     "output_type": "stream",
     "text": [
      "Model: \"model\"\n",
      "_________________________________________________________________\n",
      " Layer (type)                Output Shape              Param #   \n",
      "=================================================================\n",
      " input_1 (InputLayer)        [(None, None)]            0         \n",
      "                                                                 \n",
      " embedding (Embedding)       (None, None, 256)         5120000   \n",
      "                                                                 \n",
      " bidirectional (Bidirectiona  (None, 64)               73984     \n",
      " l)                                                              \n",
      "                                                                 \n",
      " dropout (Dropout)           (None, 64)                0         \n",
      "                                                                 \n",
      " dense (Dense)               (None, 1)                 65        \n",
      "                                                                 \n",
      "=================================================================\n",
      "Total params: 5,194,049\n",
      "Trainable params: 5,194,049\n",
      "Non-trainable params: 0\n",
      "_________________________________________________________________\n"
     ]
    }
   ],
   "source": [
    "model.compile(optimizer=\"rmsprop\", loss=\"binary_crossentropy\", metrics=[\"accuracy\"])\n",
    "model.summary()"
   ]
  },
  {
   "cell_type": "code",
   "execution_count": 9,
   "metadata": {},
   "outputs": [
    {
     "name": "stdout",
     "output_type": "stream",
     "text": [
      "Epoch 1/10\n",
      "8750/8750 [==============================] - 506s 57ms/step - loss: -135.3166 - accuracy: 0.1429 - val_loss: 231.8292 - val_accuracy: 0.5000\n",
      "Epoch 2/10\n",
      "8750/8750 [==============================] - 474s 54ms/step - loss: -395.6154 - accuracy: 0.1429 - val_loss: 459.5353 - val_accuracy: 0.5000\n",
      "Epoch 3/10\n",
      "8750/8750 [==============================] - 463s 53ms/step - loss: -654.5818 - accuracy: 0.1429 - val_loss: 686.8358 - val_accuracy: 0.5000\n",
      "Epoch 4/10\n",
      "8750/8750 [==============================] - 463s 53ms/step - loss: -914.1788 - accuracy: 0.1429 - val_loss: 914.1685 - val_accuracy: 0.5000\n",
      "Epoch 5/10\n",
      "8750/8750 [==============================] - 471s 54ms/step - loss: -1174.4249 - accuracy: 0.1429 - val_loss: 1141.9229 - val_accuracy: 0.5000\n",
      "Epoch 6/10\n",
      "8750/8750 [==============================] - 492s 56ms/step - loss: -1435.1752 - accuracy: 0.1429 - val_loss: 1369.0002 - val_accuracy: 0.5000\n",
      "Epoch 7/10\n",
      "8750/8750 [==============================] - 466s 53ms/step - loss: -1695.8225 - accuracy: 0.1429 - val_loss: 1596.5260 - val_accuracy: 0.5000\n",
      "Epoch 8/10\n",
      "8750/8750 [==============================] - 469s 54ms/step - loss: -1955.7356 - accuracy: 0.1429 - val_loss: 1823.9001 - val_accuracy: 0.5000\n",
      "Epoch 9/10\n",
      "8750/8750 [==============================] - 469s 54ms/step - loss: -2211.4846 - accuracy: 0.1429 - val_loss: 2051.3647 - val_accuracy: 0.5000\n",
      "Epoch 10/10\n",
      "8750/8750 [==============================] - 470s 54ms/step - loss: -2470.6433 - accuracy: 0.1429 - val_loss: 2278.4714 - val_accuracy: 0.5000\n"
     ]
    },
    {
     "data": {
      "text/plain": [
       "<keras.callbacks.History at 0x195cb8251f0>"
      ]
     },
     "execution_count": 9,
     "metadata": {},
     "output_type": "execute_result"
    }
   ],
   "source": [
    "callbacks = [ModelCheckpoint(\"word_embedding_bidir.keras\", save_best_only=True)]\n",
    "model.fit(int_train_ds, validation_data=int_val_ds, epochs=10, callbacks=callbacks)"
   ]
  },
  {
   "cell_type": "code",
   "execution_count": 11,
   "metadata": {},
   "outputs": [
    {
     "name": "stdout",
     "output_type": "stream",
     "text": [
      "3125/3125 [==============================] - 80s 25ms/step - loss: 231.8313 - accuracy: 0.5000\n",
      "Test acc: 0.500\n"
     ]
    }
   ],
   "source": [
    "model = load_model(\"word_embedding_bidir.keras\")\n",
    "print(f\"Test acc: {model.evaluate(int_test_ds)[1]:.3f}\")"
   ]
  }
 ],
 "metadata": {
  "colab": {
   "collapsed_sections": [],
   "name": "chapter11_part02_sequence-models.i",
   "private_outputs": false,
   "provenance": [],
   "toc_visible": true
  },
  "kernelspec": {
   "display_name": "Python 3",
   "language": "python",
   "name": "python3"
  },
  "language_info": {
   "codemirror_mode": {
    "name": "ipython",
    "version": 3
   },
   "file_extension": ".py",
   "mimetype": "text/x-python",
   "name": "python",
   "nbconvert_exporter": "python",
   "pygments_lexer": "ipython3",
   "version": "3.8.8"
  }
 },
 "nbformat": 4,
 "nbformat_minor": 1
}
