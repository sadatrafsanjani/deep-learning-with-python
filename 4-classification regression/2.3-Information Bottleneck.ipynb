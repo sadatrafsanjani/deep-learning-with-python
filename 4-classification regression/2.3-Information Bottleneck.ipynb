{
 "cells": [
  {
   "cell_type": "markdown",
   "metadata": {
    "colab_type": "text"
   },
   "source": [
    "### A different way to handle the labels and the loss"
   ]
  },
  {
   "cell_type": "code",
   "execution_count": 14,
   "metadata": {
    "colab_type": "code"
   },
   "outputs": [],
   "source": [
    "from tensorflow.keras.datasets import reuters\n",
    "from tensorflow.keras import Sequential\n",
    "from tensorflow.keras.layers import Dense\n",
    "from tensorflow.keras.utils import to_categorical\n",
    "import numpy as np"
   ]
  },
  {
   "cell_type": "code",
   "execution_count": 15,
   "metadata": {},
   "outputs": [],
   "source": [
    "(train_data, train_labels), (test_data, test_labels) = reuters.load_data(num_words=10000)"
   ]
  },
  {
   "cell_type": "markdown",
   "metadata": {
    "colab_type": "text"
   },
   "source": [
    "### Preparing the data"
   ]
  },
  {
   "cell_type": "markdown",
   "metadata": {
    "colab_type": "text"
   },
   "source": [
    "**Encoding the input data**"
   ]
  },
  {
   "cell_type": "code",
   "execution_count": 16,
   "metadata": {},
   "outputs": [],
   "source": [
    "def vectorize(data, dimension=10000):\n",
    "    \n",
    "    results = np.zeros((len(data), dimension))\n",
    "    \n",
    "    for i, sequence in enumerate(data):\n",
    "        \n",
    "        for j in sequence:\n",
    "            \n",
    "            results[i, j] = 1.\n",
    "    \n",
    "    return results"
   ]
  },
  {
   "cell_type": "code",
   "execution_count": 17,
   "metadata": {
    "colab_type": "code"
   },
   "outputs": [],
   "source": [
    "x_train = vectorize(train_data)\n",
    "x_test = vectorize(test_data)"
   ]
  },
  {
   "cell_type": "markdown",
   "metadata": {
    "colab_type": "text"
   },
   "source": [
    "**Encoding the labels**"
   ]
  },
  {
   "cell_type": "code",
   "execution_count": 18,
   "metadata": {
    "colab_type": "code"
   },
   "outputs": [],
   "source": [
    "y_train = to_categorical(train_labels)\n",
    "y_test = to_categorical(test_labels)"
   ]
  },
  {
   "cell_type": "markdown",
   "metadata": {
    "colab_type": "text"
   },
   "source": [
    "**Validation set**"
   ]
  },
  {
   "cell_type": "code",
   "execution_count": 19,
   "metadata": {
    "colab_type": "code"
   },
   "outputs": [],
   "source": [
    "partial_x_train = x_train[1000:]\n",
    "partial_y_train = y_train[1000:]\n",
    "\n",
    "x_val = x_train[:1000]\n",
    "y_val = y_train[:1000]"
   ]
  },
  {
   "cell_type": "markdown",
   "metadata": {
    "colab_type": "text"
   },
   "source": [
    "**Model definition**"
   ]
  },
  {
   "cell_type": "code",
   "execution_count": 23,
   "metadata": {},
   "outputs": [],
   "source": [
    "model = Sequential([\n",
    "    Dense(64, activation=\"relu\"),\n",
    "    Dense(4, activation=\"relu\"),\n",
    "    Dense(46, activation=\"softmax\")\n",
    "])"
   ]
  },
  {
   "cell_type": "markdown",
   "metadata": {
    "colab_type": "text"
   },
   "source": [
    "**Compiling the model**"
   ]
  },
  {
   "cell_type": "code",
   "execution_count": 24,
   "metadata": {
    "colab_type": "code"
   },
   "outputs": [],
   "source": [
    "model.compile(optimizer=\"rmsprop\", loss=\"categorical_crossentropy\", metrics=[\"accuracy\"])"
   ]
  },
  {
   "cell_type": "markdown",
   "metadata": {
    "colab_type": "text"
   },
   "source": [
    "**Training the model**"
   ]
  },
  {
   "cell_type": "code",
   "execution_count": 25,
   "metadata": {},
   "outputs": [
    {
     "name": "stdout",
     "output_type": "stream",
     "text": [
      "Epoch 1/10\n",
      "250/250 [==============================] - 1s 3ms/step - loss: 2.1342 - accuracy: 0.4919 - val_loss: 1.4392 - val_accuracy: 0.6390\n",
      "Epoch 2/10\n",
      "250/250 [==============================] - 1s 3ms/step - loss: 1.2721 - accuracy: 0.6872 - val_loss: 1.3242 - val_accuracy: 0.6780\n",
      "Epoch 3/10\n",
      "250/250 [==============================] - 1s 3ms/step - loss: 1.0813 - accuracy: 0.7339 - val_loss: 1.3284 - val_accuracy: 0.6850\n",
      "Epoch 4/10\n",
      "250/250 [==============================] - 1s 3ms/step - loss: 0.9552 - accuracy: 0.7563 - val_loss: 1.3341 - val_accuracy: 0.7050\n",
      "Epoch 5/10\n",
      "250/250 [==============================] - 1s 3ms/step - loss: 0.8615 - accuracy: 0.7772 - val_loss: 1.3859 - val_accuracy: 0.7000\n",
      "Epoch 6/10\n",
      "250/250 [==============================] - 1s 3ms/step - loss: 0.7820 - accuracy: 0.7983 - val_loss: 1.4462 - val_accuracy: 0.7170\n",
      "Epoch 7/10\n",
      "250/250 [==============================] - 1s 3ms/step - loss: 0.7229 - accuracy: 0.8161 - val_loss: 1.5122 - val_accuracy: 0.7090\n",
      "Epoch 8/10\n",
      "250/250 [==============================] - 1s 3ms/step - loss: 0.6692 - accuracy: 0.8274 - val_loss: 1.6241 - val_accuracy: 0.7190\n",
      "Epoch 9/10\n",
      "250/250 [==============================] - 1s 3ms/step - loss: 0.6314 - accuracy: 0.8384 - val_loss: 1.7363 - val_accuracy: 0.7190\n",
      "Epoch 10/10\n",
      "250/250 [==============================] - 1s 3ms/step - loss: 0.5975 - accuracy: 0.8448 - val_loss: 1.8118 - val_accuracy: 0.7170\n"
     ]
    },
    {
     "data": {
      "text/plain": [
       "<keras.callbacks.History at 0x19e4a7c8b80>"
      ]
     },
     "execution_count": 25,
     "metadata": {},
     "output_type": "execute_result"
    }
   ],
   "source": [
    "model.fit(partial_x_train, partial_y_train, epochs=10, batch_size=32, validation_data=(x_val, y_val))"
   ]
  },
  {
   "cell_type": "code",
   "execution_count": 26,
   "metadata": {},
   "outputs": [
    {
     "name": "stdout",
     "output_type": "stream",
     "text": [
      "71/71 [==============================] - 0s 3ms/step - loss: 2.1516 - accuracy: 0.6906\n"
     ]
    },
    {
     "data": {
      "text/plain": [
       "[2.151585102081299, 0.6905609965324402]"
      ]
     },
     "execution_count": 26,
     "metadata": {},
     "output_type": "execute_result"
    }
   ],
   "source": [
    "model.evaluate(x_test, y_test)"
   ]
  }
 ],
 "metadata": {
  "colab": {
   "collapsed_sections": [],
   "name": "chapter04_getting-started-with-neural-networks.i",
   "private_outputs": false,
   "provenance": [],
   "toc_visible": true
  },
  "kernelspec": {
   "display_name": "Python 3",
   "language": "python",
   "name": "python3"
  },
  "language_info": {
   "codemirror_mode": {
    "name": "ipython",
    "version": 3
   },
   "file_extension": ".py",
   "mimetype": "text/x-python",
   "name": "python",
   "nbconvert_exporter": "python",
   "pygments_lexer": "ipython3",
   "version": "3.8.8"
  }
 },
 "nbformat": 4,
 "nbformat_minor": 1
}
