{
 "cells": [
  {
   "cell_type": "markdown",
   "metadata": {
    "colab_type": "text"
   },
   "source": [
    "### 1D convolutional model"
   ]
  },
  {
   "cell_type": "code",
   "execution_count": 1,
   "metadata": {
    "colab_type": "code"
   },
   "outputs": [],
   "source": [
    "import pandas as pd\n",
    "import numpy as np\n",
    "from matplotlib import pyplot as plt\n",
    "from tensorflow.keras.utils import timeseries_dataset_from_array\n",
    "from tensorflow.keras import layers, Input, Model\n",
    "from tensorflow.keras.layers import Flatten, Dense, Conv1D, MaxPooling1D, GlobalAveragePooling1D\n",
    "from tensorflow.keras.callbacks import ModelCheckpoint\n",
    "from tensorflow.keras.models import load_model\n",
    "import matplotlib.pyplot as plt"
   ]
  },
  {
   "cell_type": "code",
   "execution_count": 2,
   "metadata": {},
   "outputs": [],
   "source": [
    "df = pd.read_csv(\"jena_climate_2009_2016.csv\")"
   ]
  },
  {
   "cell_type": "code",
   "execution_count": 3,
   "metadata": {},
   "outputs": [],
   "source": [
    "temperature = df[\"T (degC)\"].values"
   ]
  },
  {
   "cell_type": "code",
   "execution_count": 4,
   "metadata": {},
   "outputs": [],
   "source": [
    "raw_data = df.loc[:, \"p (mbar)\":\"wd (deg)\"].values"
   ]
  },
  {
   "cell_type": "markdown",
   "metadata": {
    "colab_type": "text"
   },
   "source": [
    "**Data split**"
   ]
  },
  {
   "cell_type": "code",
   "execution_count": 5,
   "metadata": {
    "colab_type": "code"
   },
   "outputs": [],
   "source": [
    "num_train_samples = int(0.5 * len(raw_data))\n",
    "num_val_samples = int(0.25 * len(raw_data))\n",
    "num_test_samples = len(raw_data) - num_train_samples - num_val_samples"
   ]
  },
  {
   "cell_type": "markdown",
   "metadata": {
    "colab_type": "text"
   },
   "source": [
    "**Normalizing the data**"
   ]
  },
  {
   "cell_type": "code",
   "execution_count": 6,
   "metadata": {
    "colab_type": "code"
   },
   "outputs": [],
   "source": [
    "mean = raw_data[:num_train_samples].mean(axis=0)\n",
    "raw_data -= mean\n",
    "\n",
    "std = raw_data[:num_train_samples].std(axis=0)\n",
    "raw_data /= std"
   ]
  },
  {
   "cell_type": "markdown",
   "metadata": {
    "colab_type": "text"
   },
   "source": [
    "**Instantiating datasets for training, validation, and testing**"
   ]
  },
  {
   "cell_type": "code",
   "execution_count": 7,
   "metadata": {
    "colab_type": "code"
   },
   "outputs": [],
   "source": [
    "sampling_rate = 6\n",
    "sequence_length = 120\n",
    "delay = sampling_rate * (sequence_length + 24 - 1)\n",
    "batch_size = 256"
   ]
  },
  {
   "cell_type": "code",
   "execution_count": 8,
   "metadata": {},
   "outputs": [],
   "source": [
    "train_dataset = timeseries_dataset_from_array(\n",
    "    raw_data[:-delay],\n",
    "    targets=temperature[delay:],\n",
    "    sampling_rate=sampling_rate,\n",
    "    sequence_length=sequence_length,\n",
    "    shuffle=True,\n",
    "    batch_size=batch_size,\n",
    "    start_index=0,\n",
    "    end_index=num_train_samples)\n",
    "\n",
    "val_dataset = timeseries_dataset_from_array(\n",
    "    raw_data[:-delay],\n",
    "    targets=temperature[delay:],\n",
    "    sampling_rate=sampling_rate,\n",
    "    sequence_length=sequence_length,\n",
    "    shuffle=True,\n",
    "    batch_size=batch_size,\n",
    "    start_index=num_train_samples,\n",
    "    end_index=num_train_samples + num_val_samples)\n",
    "\n",
    "test_dataset = timeseries_dataset_from_array(\n",
    "    raw_data[:-delay],\n",
    "    targets=temperature[delay:],\n",
    "    sampling_rate=sampling_rate,\n",
    "    sequence_length=sequence_length,\n",
    "    shuffle=True,\n",
    "    batch_size=batch_size,\n",
    "    start_index=num_train_samples + num_val_samples)"
   ]
  },
  {
   "cell_type": "code",
   "execution_count": 9,
   "metadata": {
    "colab_type": "code"
   },
   "outputs": [],
   "source": [
    "inputs = Input(shape=(sequence_length, raw_data.shape[-1]))\n",
    "x = Conv1D(8, 24, activation=\"relu\")(inputs)\n",
    "x = MaxPooling1D(2)(x)\n",
    "\n",
    "x = Conv1D(8, 12, activation=\"relu\")(x)\n",
    "x = MaxPooling1D(2)(x)\n",
    "\n",
    "x = Conv1D(8, 6, activation=\"relu\")(x)\n",
    "x = GlobalAveragePooling1D()(x)\n",
    "\n",
    "outputs = Dense(1)(x)\n",
    "\n",
    "model = Model(inputs, outputs)\n",
    "\n",
    "callbacks = [ModelCheckpoint(\"jena_cnn.keras\", save_best_only=True)]"
   ]
  },
  {
   "cell_type": "code",
   "execution_count": 10,
   "metadata": {},
   "outputs": [
    {
     "name": "stdout",
     "output_type": "stream",
     "text": [
      "Epoch 1/10\n",
      "819/819 [==============================] - 17s 11ms/step - loss: 22.1375 - mae: 3.6679 - val_loss: 18.2880 - val_mae: 3.3449\n",
      "Epoch 2/10\n",
      "819/819 [==============================] - 9s 11ms/step - loss: 14.9569 - mae: 3.0761 - val_loss: 14.8291 - val_mae: 3.0176\n",
      "Epoch 3/10\n",
      "819/819 [==============================] - 8s 10ms/step - loss: 13.7745 - mae: 2.9482 - val_loss: 14.3157 - val_mae: 2.9644\n",
      "Epoch 4/10\n",
      "819/819 [==============================] - 9s 10ms/step - loss: 12.9631 - mae: 2.8577 - val_loss: 15.3642 - val_mae: 3.0948\n",
      "Epoch 5/10\n",
      "819/819 [==============================] - 9s 10ms/step - loss: 12.4411 - mae: 2.8002 - val_loss: 14.3185 - val_mae: 2.9920\n",
      "Epoch 6/10\n",
      "819/819 [==============================] - 9s 10ms/step - loss: 11.9878 - mae: 2.7491 - val_loss: 15.6073 - val_mae: 3.0927\n",
      "Epoch 7/10\n",
      "819/819 [==============================] - 9s 11ms/step - loss: 11.6198 - mae: 2.7041 - val_loss: 15.3009 - val_mae: 3.0775\n",
      "Epoch 8/10\n",
      "819/819 [==============================] - 9s 11ms/step - loss: 11.3134 - mae: 2.6687 - val_loss: 14.7447 - val_mae: 3.0036\n",
      "Epoch 9/10\n",
      "819/819 [==============================] - 9s 11ms/step - loss: 11.0105 - mae: 2.6337 - val_loss: 14.5213 - val_mae: 2.9836\n",
      "Epoch 10/10\n",
      "819/819 [==============================] - 9s 10ms/step - loss: 10.7587 - mae: 2.6035 - val_loss: 14.2602 - val_mae: 2.9780\n"
     ]
    }
   ],
   "source": [
    "model.compile(optimizer=\"rmsprop\", loss=\"mse\", metrics=[\"mae\"])\n",
    "history = model.fit(train_dataset, epochs=10, validation_data=val_dataset, callbacks=callbacks)"
   ]
  },
  {
   "cell_type": "code",
   "execution_count": 11,
   "metadata": {},
   "outputs": [
    {
     "name": "stdout",
     "output_type": "stream",
     "text": [
      "405/405 [==============================] - 3s 6ms/step - loss: 15.9365 - mae: 3.1134\n",
      "Test MAE: 3.11\n"
     ]
    }
   ],
   "source": [
    "model = load_model(\"jena_cnn.keras\")\n",
    "print(f\"Test MAE: {model.evaluate(test_dataset)[1]:.2f}\")"
   ]
  },
  {
   "cell_type": "code",
   "execution_count": 12,
   "metadata": {},
   "outputs": [
    {
     "data": {
      "image/png": "[encoded data removed]",
      "text/plain": [
       "<Figure size 432x288 with 1 Axes>"
      ]
     },
     "metadata": {
      "needs_background": "light"
     },
     "output_type": "display_data"
    }
   ],
   "source": [
    "loss = history.history[\"mae\"]\n",
    "val_loss = history.history[\"val_mae\"]\n",
    "epochs = range(1, len(loss) + 1)\n",
    "plt.figure()\n",
    "plt.plot(epochs, loss, \"bo\", label=\"Training MAE\")\n",
    "plt.plot(epochs, val_loss, \"b\", label=\"Validation MAE\")\n",
    "plt.title(\"Training and validation MAE\")\n",
    "plt.legend()\n",
    "plt.show()"
   ]
  }
 ],
 "metadata": {
  "colab": {
   "collapsed_sections": [],
   "name": "chapter10_dl-for-timeseries.i",
   "private_outputs": false,
   "provenance": [],
   "toc_visible": true
  },
  "kernelspec": {
   "display_name": "Python 3",
   "language": "python",
   "name": "python3"
  },
  "language_info": {
   "codemirror_mode": {
    "name": "ipython",
    "version": 3
   },
   "file_extension": ".py",
   "mimetype": "text/x-python",
   "name": "python",
   "nbconvert_exporter": "python",
   "pygments_lexer": "ipython3",
   "version": "3.8.8"
  }
 },
 "nbformat": 4,
 "nbformat_minor": 1
}
