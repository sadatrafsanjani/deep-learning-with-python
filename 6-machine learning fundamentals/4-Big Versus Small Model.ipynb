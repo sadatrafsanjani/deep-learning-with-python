{
 "cells": [
  {
   "cell_type": "markdown",
   "metadata": {
    "colab_type": "text"
   },
   "source": [
    "## Improving model fit"
   ]
  },
  {
   "cell_type": "code",
   "execution_count": 3,
   "metadata": {
    "colab_type": "code"
   },
   "outputs": [],
   "source": [
    "from tensorflow.keras.datasets import mnist\n",
    "from tensorflow.keras import Sequential\n",
    "from tensorflow.keras.optimizers import RMSprop\n",
    "from tensorflow.keras.layers import Dense\n",
    "import numpy as np\n",
    "import matplotlib.pyplot as plt"
   ]
  },
  {
   "cell_type": "code",
   "execution_count": 4,
   "metadata": {},
   "outputs": [],
   "source": [
    "(train_images, train_labels), (test_images, test_labels) = mnist.load_data()"
   ]
  },
  {
   "cell_type": "code",
   "execution_count": 5,
   "metadata": {},
   "outputs": [],
   "source": [
    "train_images = train_images.reshape((60000, 28 * 28)).astype(\"float32\") / 255.0"
   ]
  },
  {
   "cell_type": "markdown",
   "metadata": {
    "colab_type": "text"
   },
   "source": [
    "### Increasing model capacity"
   ]
  },
  {
   "cell_type": "markdown",
   "metadata": {},
   "source": [
    "#### Small Network"
   ]
  },
  {
   "cell_type": "code",
   "execution_count": 6,
   "metadata": {},
   "outputs": [],
   "source": [
    "model = Sequential([Dense(10, activation=\"softmax\")])"
   ]
  },
  {
   "cell_type": "code",
   "execution_count": 19,
   "metadata": {
    "colab_type": "code"
   },
   "outputs": [
    {
     "name": "stdout",
     "output_type": "stream",
     "text": [
      "Epoch 1/20\n",
      "375/375 [==============================] - 1s 3ms/step - loss: 7.1294e-04 - accuracy: 0.9998 - val_loss: 0.3271 - val_accuracy: 0.9736\n",
      "Epoch 2/20\n",
      "375/375 [==============================] - 1s 3ms/step - loss: 6.1276e-04 - accuracy: 0.9999 - val_loss: 0.3144 - val_accuracy: 0.9743\n",
      "Epoch 3/20\n",
      "375/375 [==============================] - 1s 3ms/step - loss: 9.4644e-04 - accuracy: 0.9996 - val_loss: 0.3176 - val_accuracy: 0.9762\n",
      "Epoch 4/20\n",
      "375/375 [==============================] - 1s 3ms/step - loss: 4.0767e-04 - accuracy: 0.9999 - val_loss: 0.3410 - val_accuracy: 0.9752\n",
      "Epoch 5/20\n",
      "375/375 [==============================] - 1s 3ms/step - loss: 2.8556e-04 - accuracy: 0.9999 - val_loss: 0.3236 - val_accuracy: 0.9753\n",
      "Epoch 6/20\n",
      "375/375 [==============================] - 1s 3ms/step - loss: 2.9358e-04 - accuracy: 0.9999 - val_loss: 0.3428 - val_accuracy: 0.9740\n",
      "Epoch 7/20\n",
      "375/375 [==============================] - 1s 3ms/step - loss: 4.6081e-04 - accuracy: 0.9999 - val_loss: 0.3440 - val_accuracy: 0.9749\n",
      "Epoch 8/20\n",
      "375/375 [==============================] - 1s 3ms/step - loss: 0.0015 - accuracy: 0.9996 - val_loss: 0.3519 - val_accuracy: 0.9747\n",
      "Epoch 9/20\n",
      "375/375 [==============================] - 1s 3ms/step - loss: 5.8675e-04 - accuracy: 0.9998 - val_loss: 0.3267 - val_accuracy: 0.9754\n",
      "Epoch 10/20\n",
      "375/375 [==============================] - 1s 3ms/step - loss: 3.2351e-04 - accuracy: 0.9999 - val_loss: 0.3646 - val_accuracy: 0.9730\n",
      "Epoch 11/20\n",
      "375/375 [==============================] - 1s 3ms/step - loss: 5.9819e-04 - accuracy: 0.9999 - val_loss: 0.3460 - val_accuracy: 0.9751\n",
      "Epoch 12/20\n",
      "375/375 [==============================] - 1s 3ms/step - loss: 2.9960e-04 - accuracy: 0.9999 - val_loss: 0.3588 - val_accuracy: 0.9746\n",
      "Epoch 13/20\n",
      "375/375 [==============================] - 1s 3ms/step - loss: 3.5728e-04 - accuracy: 0.9999 - val_loss: 0.3495 - val_accuracy: 0.9752\n",
      "Epoch 14/20\n",
      "375/375 [==============================] - 1s 3ms/step - loss: 1.7992e-04 - accuracy: 0.9999 - val_loss: 0.3620 - val_accuracy: 0.9748\n",
      "Epoch 15/20\n",
      "375/375 [==============================] - 1s 3ms/step - loss: 1.4294e-04 - accuracy: 1.0000 - val_loss: 0.3555 - val_accuracy: 0.9751\n",
      "Epoch 16/20\n",
      "375/375 [==============================] - 1s 3ms/step - loss: 3.3117e-04 - accuracy: 0.9999 - val_loss: 0.3478 - val_accuracy: 0.9744\n",
      "Epoch 17/20\n",
      "375/375 [==============================] - 1s 3ms/step - loss: 7.0211e-04 - accuracy: 0.9998 - val_loss: 0.3541 - val_accuracy: 0.9739\n",
      "Epoch 18/20\n",
      "375/375 [==============================] - 1s 3ms/step - loss: 2.1825e-04 - accuracy: 0.9999 - val_loss: 0.3575 - val_accuracy: 0.9739\n",
      "Epoch 19/20\n",
      "375/375 [==============================] - 1s 3ms/step - loss: 2.7062e-04 - accuracy: 0.9999 - val_loss: 0.3572 - val_accuracy: 0.9743\n",
      "Epoch 20/20\n",
      "375/375 [==============================] - 1s 3ms/step - loss: 3.5441e-04 - accuracy: 0.9999 - val_loss: 0.3896 - val_accuracy: 0.9748\n"
     ]
    }
   ],
   "source": [
    "model.compile(optimizer=\"rmsprop\", loss=\"sparse_categorical_crossentropy\", metrics=[\"accuracy\"])\n",
    "history_small = model.fit(train_images, train_labels, epochs=20, batch_size=128, validation_split=0.2)"
   ]
  },
  {
   "cell_type": "code",
   "execution_count": 27,
   "metadata": {
    "colab_type": "code"
   },
   "outputs": [
    {
     "data": {
      "text/plain": [
       "<matplotlib.legend.Legend at 0x21b56fddca0>"
      ]
     },
     "execution_count": 27,
     "metadata": {},
     "output_type": "execute_result"
    },
    {
     "data": {
      "image/png": "[encoded data removed]",
      "text/plain": [
       "<Figure size 432x288 with 1 Axes>"
      ]
     },
     "metadata": {
      "needs_background": "light"
     },
     "output_type": "display_data"
    }
   ],
   "source": [
    "plt.plot(range(1, 21), history_small.history[\"val_loss\"], \"b--\", label=\"Validation loss\")\n",
    "plt.title(\"Effect of insufficient model capacity on validation loss\")\n",
    "plt.xlabel(\"Epochs\")\n",
    "plt.ylabel(\"Loss\")\n",
    "plt.legend()"
   ]
  },
  {
   "cell_type": "markdown",
   "metadata": {},
   "source": [
    "#### Big Network"
   ]
  },
  {
   "cell_type": "code",
   "execution_count": 28,
   "metadata": {},
   "outputs": [],
   "source": [
    "model = Sequential([\n",
    "    Dense(96, activation=\"relu\"),\n",
    "    Dense(96, activation=\"relu\"),\n",
    "    Dense(10, activation=\"softmax\"),\n",
    "])"
   ]
  },
  {
   "cell_type": "code",
   "execution_count": 29,
   "metadata": {},
   "outputs": [
    {
     "name": "stdout",
     "output_type": "stream",
     "text": [
      "Epoch 1/20\n",
      "375/375 [==============================] - 2s 3ms/step - loss: 0.3564 - accuracy: 0.8999 - val_loss: 0.1901 - val_accuracy: 0.9473\n",
      "Epoch 2/20\n",
      "375/375 [==============================] - 1s 3ms/step - loss: 0.1598 - accuracy: 0.9527 - val_loss: 0.1308 - val_accuracy: 0.9598\n",
      "Epoch 3/20\n",
      "375/375 [==============================] - 1s 3ms/step - loss: 0.1131 - accuracy: 0.9664 - val_loss: 0.1360 - val_accuracy: 0.9578\n",
      "Epoch 4/20\n",
      "375/375 [==============================] - 1s 3ms/step - loss: 0.0883 - accuracy: 0.9734 - val_loss: 0.1086 - val_accuracy: 0.9668\n",
      "Epoch 5/20\n",
      "375/375 [==============================] - 1s 3ms/step - loss: 0.0707 - accuracy: 0.9788 - val_loss: 0.1025 - val_accuracy: 0.9711\n",
      "Epoch 6/20\n",
      "375/375 [==============================] - 1s 3ms/step - loss: 0.0588 - accuracy: 0.9819 - val_loss: 0.0931 - val_accuracy: 0.9729\n",
      "Epoch 7/20\n",
      "375/375 [==============================] - 1s 3ms/step - loss: 0.0493 - accuracy: 0.9847 - val_loss: 0.0981 - val_accuracy: 0.9719\n",
      "Epoch 8/20\n",
      "375/375 [==============================] - 1s 3ms/step - loss: 0.0405 - accuracy: 0.9878 - val_loss: 0.0946 - val_accuracy: 0.9745\n",
      "Epoch 9/20\n",
      "375/375 [==============================] - 1s 3ms/step - loss: 0.0345 - accuracy: 0.9893 - val_loss: 0.1059 - val_accuracy: 0.9737\n",
      "Epoch 10/20\n",
      "375/375 [==============================] - 1s 3ms/step - loss: 0.0298 - accuracy: 0.9910 - val_loss: 0.0992 - val_accuracy: 0.9757\n",
      "Epoch 11/20\n",
      "375/375 [==============================] - 1s 3ms/step - loss: 0.0245 - accuracy: 0.9927 - val_loss: 0.0995 - val_accuracy: 0.9758\n",
      "Epoch 12/20\n",
      "375/375 [==============================] - 1s 3ms/step - loss: 0.0212 - accuracy: 0.9932 - val_loss: 0.0994 - val_accuracy: 0.9776\n",
      "Epoch 13/20\n",
      "375/375 [==============================] - 1s 3ms/step - loss: 0.0177 - accuracy: 0.9945 - val_loss: 0.1126 - val_accuracy: 0.9758\n",
      "Epoch 14/20\n",
      "375/375 [==============================] - 1s 3ms/step - loss: 0.0148 - accuracy: 0.9958 - val_loss: 0.1126 - val_accuracy: 0.9748\n",
      "Epoch 15/20\n",
      "375/375 [==============================] - 1s 3ms/step - loss: 0.0124 - accuracy: 0.9963 - val_loss: 0.1406 - val_accuracy: 0.9731\n",
      "Epoch 16/20\n",
      "375/375 [==============================] - 1s 3ms/step - loss: 0.0110 - accuracy: 0.9965 - val_loss: 0.1251 - val_accuracy: 0.9770\n",
      "Epoch 17/20\n",
      "375/375 [==============================] - 1s 3ms/step - loss: 0.0088 - accuracy: 0.9973 - val_loss: 0.1295 - val_accuracy: 0.9756\n",
      "Epoch 18/20\n",
      "375/375 [==============================] - 1s 3ms/step - loss: 0.0083 - accuracy: 0.9976 - val_loss: 0.1373 - val_accuracy: 0.9767\n",
      "Epoch 19/20\n",
      "375/375 [==============================] - 1s 3ms/step - loss: 0.0062 - accuracy: 0.9980 - val_loss: 0.1436 - val_accuracy: 0.9758\n",
      "Epoch 20/20\n",
      "375/375 [==============================] - 1s 3ms/step - loss: 0.0058 - accuracy: 0.9980 - val_loss: 0.1602 - val_accuracy: 0.9722\n"
     ]
    }
   ],
   "source": [
    "model.compile(optimizer=\"rmsprop\", loss=\"sparse_categorical_crossentropy\", metrics=[\"accuracy\"])\n",
    "history_big = model.fit(train_images, train_labels, epochs=20, batch_size=128, validation_split=0.2)"
   ]
  },
  {
   "cell_type": "code",
   "execution_count": 30,
   "metadata": {
    "colab_type": "code"
   },
   "outputs": [
    {
     "data": {
      "text/plain": [
       "<matplotlib.legend.Legend at 0x21b3baa0cd0>"
      ]
     },
     "execution_count": 30,
     "metadata": {},
     "output_type": "execute_result"
    },
    {
     "data": {
      "image/png": "[encoded data removed]",
      "text/plain": [
       "<Figure size 432x288 with 1 Axes>"
      ]
     },
     "metadata": {
      "needs_background": "light"
     },
     "output_type": "display_data"
    }
   ],
   "source": [
    "plt.plot(range(1, 21), history_big.history[\"val_loss\"], \"b--\", label=\"Validation loss\")\n",
    "plt.title(\"Effect of insufficient model capacity on validation loss\")\n",
    "plt.xlabel(\"Epochs\")\n",
    "plt.ylabel(\"Loss\")\n",
    "plt.legend()"
   ]
  }
 ],
 "metadata": {
  "colab": {
   "collapsed_sections": [],
   "name": "chapter05_fundamentals-of-ml.i",
   "private_outputs": false,
   "provenance": [],
   "toc_visible": true
  },
  "kernelspec": {
   "display_name": "Python 3",
   "language": "python",
   "name": "python3"
  },
  "language_info": {
   "codemirror_mode": {
    "name": "ipython",
    "version": 3
   },
   "file_extension": ".py",
   "mimetype": "text/x-python",
   "name": "python",
   "nbconvert_exporter": "python",
   "pygments_lexer": "ipython3",
   "version": "3.8.8"
  }
 },
 "nbformat": 4,
 "nbformat_minor": 1
}
