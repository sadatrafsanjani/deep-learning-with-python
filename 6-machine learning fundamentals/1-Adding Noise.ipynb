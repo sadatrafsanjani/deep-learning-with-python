{
 "cells": [
  {
   "cell_type": "markdown",
   "metadata": {
    "colab_type": "text"
   },
   "source": [
    "## Generalization: The goal of machine learning"
   ]
  },
  {
   "cell_type": "code",
   "execution_count": 11,
   "metadata": {
    "colab_type": "code"
   },
   "outputs": [],
   "source": [
    "from tensorflow.keras.datasets import mnist\n",
    "from tensorflow.keras import Sequential\n",
    "from tensorflow.keras.layers import Dense\n",
    "import numpy as np\n",
    "import matplotlib.pyplot as plt"
   ]
  },
  {
   "cell_type": "code",
   "execution_count": 2,
   "metadata": {},
   "outputs": [],
   "source": [
    "(train_images, train_labels), (test_images, test_labels) = mnist.load_data()"
   ]
  },
  {
   "cell_type": "code",
   "execution_count": 4,
   "metadata": {},
   "outputs": [],
   "source": [
    "train_images = train_images.reshape((60000, 28 * 28)).astype(\"float32\") / 255.0"
   ]
  },
  {
   "cell_type": "markdown",
   "metadata": {
    "colab_type": "text"
   },
   "source": [
    "**Adding white-noise channels or all-zeros channels to MNIST**"
   ]
  },
  {
   "cell_type": "code",
   "execution_count": 21,
   "metadata": {},
   "outputs": [],
   "source": [
    "train_images_with_noise_channels = np.concatenate([train_images, np.random.random((len(train_images), 784))], axis=1)\n",
    "train_images_with_zeros_channels = np.concatenate([train_images, np.zeros((len(train_images), 784))], axis=1)"
   ]
  },
  {
   "cell_type": "markdown",
   "metadata": {
    "colab_type": "text"
   },
   "source": [
    "**Training the same model on MNIST data with noise channels or all-zero channels**"
   ]
  },
  {
   "cell_type": "code",
   "execution_count": 12,
   "metadata": {
    "colab_type": "code"
   },
   "outputs": [],
   "source": [
    "def get_model():\n",
    "    \n",
    "    model = Sequential([\n",
    "        Dense(512, activation=\"relu\"),\n",
    "        Dense(10, activation=\"softmax\")\n",
    "    ])\n",
    "    \n",
    "    model.compile(optimizer=\"rmsprop\", loss=\"sparse_categorical_crossentropy\", metrics=[\"accuracy\"])\n",
    "    \n",
    "    return model"
   ]
  },
  {
   "cell_type": "code",
   "execution_count": 22,
   "metadata": {},
   "outputs": [
    {
     "name": "stdout",
     "output_type": "stream",
     "text": [
      "Epoch 1/10\n",
      "375/375 [==============================] - 1s 3ms/step - loss: 2.3525 - accuracy: 0.1141 - val_loss: 2.2912 - val_accuracy: 0.1070\n",
      "Epoch 2/10\n",
      "375/375 [==============================] - 1s 2ms/step - loss: 2.2647 - accuracy: 0.1528 - val_loss: 2.2241 - val_accuracy: 0.2062\n",
      "Epoch 3/10\n",
      "375/375 [==============================] - 1s 2ms/step - loss: 2.1843 - accuracy: 0.2129 - val_loss: 2.1516 - val_accuracy: 0.2118\n",
      "Epoch 4/10\n",
      "375/375 [==============================] - 1s 3ms/step - loss: 2.0715 - accuracy: 0.2731 - val_loss: 2.0638 - val_accuracy: 0.2631\n",
      "Epoch 5/10\n",
      "375/375 [==============================] - 1s 2ms/step - loss: 1.9496 - accuracy: 0.3259 - val_loss: 1.9460 - val_accuracy: 0.3191\n",
      "Epoch 6/10\n",
      "375/375 [==============================] - 1s 3ms/step - loss: 1.8175 - accuracy: 0.3830 - val_loss: 1.8636 - val_accuracy: 0.3492\n",
      "Epoch 7/10\n",
      "375/375 [==============================] - 1s 3ms/step - loss: 1.6982 - accuracy: 0.4290 - val_loss: 1.7538 - val_accuracy: 0.3905\n",
      "Epoch 8/10\n",
      "375/375 [==============================] - 1s 2ms/step - loss: 1.5838 - accuracy: 0.4703 - val_loss: 1.4961 - val_accuracy: 0.4901\n",
      "Epoch 9/10\n",
      "375/375 [==============================] - 1s 2ms/step - loss: 1.4893 - accuracy: 0.4981 - val_loss: 1.4467 - val_accuracy: 0.5107\n",
      "Epoch 10/10\n",
      "375/375 [==============================] - 1s 2ms/step - loss: 1.3969 - accuracy: 0.5342 - val_loss: 1.5971 - val_accuracy: 0.4623\n"
     ]
    }
   ],
   "source": [
    "model = get_model()\n",
    "history_noise = model.fit(train_images_with_noise_channels, train_labels, epochs=10, batch_size=128, validation_split=0.2)"
   ]
  },
  {
   "cell_type": "code",
   "execution_count": 23,
   "metadata": {},
   "outputs": [
    {
     "name": "stdout",
     "output_type": "stream",
     "text": [
      "Epoch 1/10\n",
      "375/375 [==============================] - 2s 3ms/step - loss: 1.6837 - accuracy: 0.6181 - val_loss: 1.0270 - val_accuracy: 0.7753\n",
      "Epoch 2/10\n",
      "375/375 [==============================] - 1s 2ms/step - loss: 0.7641 - accuracy: 0.8181 - val_loss: 0.5549 - val_accuracy: 0.8668\n",
      "Epoch 3/10\n",
      "375/375 [==============================] - 1s 2ms/step - loss: 0.5015 - accuracy: 0.8708 - val_loss: 0.4155 - val_accuracy: 0.8917\n",
      "Epoch 4/10\n",
      "375/375 [==============================] - 1s 2ms/step - loss: 0.4093 - accuracy: 0.8888 - val_loss: 0.3611 - val_accuracy: 0.9004\n",
      "Epoch 5/10\n",
      "375/375 [==============================] - 1s 2ms/step - loss: 0.3663 - accuracy: 0.8977 - val_loss: 0.3309 - val_accuracy: 0.9066\n",
      "Epoch 6/10\n",
      "375/375 [==============================] - 1s 2ms/step - loss: 0.3404 - accuracy: 0.9036 - val_loss: 0.3091 - val_accuracy: 0.9122\n",
      "Epoch 7/10\n",
      "375/375 [==============================] - 1s 3ms/step - loss: 0.3226 - accuracy: 0.9077 - val_loss: 0.2956 - val_accuracy: 0.9151\n",
      "Epoch 8/10\n",
      "375/375 [==============================] - 1s 3ms/step - loss: 0.3095 - accuracy: 0.9108 - val_loss: 0.2862 - val_accuracy: 0.9188\n",
      "Epoch 9/10\n",
      "375/375 [==============================] - 1s 3ms/step - loss: 0.2984 - accuracy: 0.9136 - val_loss: 0.2773 - val_accuracy: 0.9189\n",
      "Epoch 10/10\n",
      "375/375 [==============================] - 1s 3ms/step - loss: 0.2888 - accuracy: 0.9166 - val_loss: 0.2675 - val_accuracy: 0.9224\n"
     ]
    }
   ],
   "source": [
    "model = get_model()\n",
    "history_zeros = model.fit(train_images_with_zeros_channels, train_labels, epochs=10, batch_size=128, validation_split=0.2)"
   ]
  },
  {
   "cell_type": "markdown",
   "metadata": {
    "colab_type": "text"
   },
   "source": [
    "**Plotting a validation accuracy comparison**"
   ]
  },
  {
   "cell_type": "code",
   "execution_count": 24,
   "metadata": {
    "colab_type": "code"
   },
   "outputs": [
    {
     "data": {
      "text/plain": [
       "<matplotlib.legend.Legend at 0x2285785fc10>"
      ]
     },
     "execution_count": 24,
     "metadata": {},
     "output_type": "execute_result"
    },
    {
     "data": {
      "image/png": "[encoded data removed]",
      "text/plain": [
       "<Figure size 432x288 with 1 Axes>"
      ]
     },
     "metadata": {
      "needs_background": "light"
     },
     "output_type": "display_data"
    }
   ],
   "source": [
    "val_acc_noise = history_noise.history[\"val_accuracy\"]\n",
    "val_acc_zeros = history_zeros.history[\"val_accuracy\"]\n",
    "epochs = range(1, 11)\n",
    "plt.plot(epochs, val_acc_noise, \"b-\", label=\"Validation accuracy with noise channels\")\n",
    "plt.plot(epochs, val_acc_zeros, \"b--\", label=\"Validation accuracy with zeros channels\")\n",
    "plt.title(\"Effect of noise channels on validation accuracy\")\n",
    "plt.xlabel(\"Epochs\")\n",
    "plt.ylabel(\"Accuracy\")\n",
    "plt.legend()"
   ]
  }
 ],
 "metadata": {
  "colab": {
   "collapsed_sections": [],
   "name": "chapter05_fundamentals-of-ml.i",
   "private_outputs": false,
   "provenance": [],
   "toc_visible": true
  },
  "kernelspec": {
   "display_name": "Python 3",
   "language": "python",
   "name": "python3"
  },
  "language_info": {
   "codemirror_mode": {
    "name": "ipython",
    "version": 3
   },
   "file_extension": ".py",
   "mimetype": "text/x-python",
   "name": "python",
   "nbconvert_exporter": "python",
   "pygments_lexer": "ipython3",
   "version": "3.8.8"
  }
 },
 "nbformat": 4,
 "nbformat_minor": 1
}
