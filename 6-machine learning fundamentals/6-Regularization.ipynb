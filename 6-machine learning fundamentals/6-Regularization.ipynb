{
 "cells": [
  {
   "cell_type": "markdown",
   "metadata": {
    "colab_type": "text"
   },
   "source": [
    "## Improving generalization"
   ]
  },
  {
   "cell_type": "code",
   "execution_count": 14,
   "metadata": {
    "colab_type": "code"
   },
   "outputs": [],
   "source": [
    "from tensorflow.keras.datasets import imdb\n",
    "from tensorflow.keras import Sequential\n",
    "from tensorflow.keras.optimizers import RMSprop\n",
    "from tensorflow.keras.layers import Dense, Dropout\n",
    "from tensorflow.keras import regularizers\n",
    "import numpy as np\n",
    "import matplotlib.pyplot as plt"
   ]
  },
  {
   "cell_type": "code",
   "execution_count": 2,
   "metadata": {},
   "outputs": [],
   "source": [
    "(train_data, train_labels), (test_images, test_labels) = imdb.load_data(num_words=10000)"
   ]
  },
  {
   "cell_type": "code",
   "execution_count": 4,
   "metadata": {},
   "outputs": [],
   "source": [
    "def vectorize(sequences, dimension=10000):\n",
    "    \n",
    "    results = np.zeros((len(sequences), dimension))\n",
    "    \n",
    "    for i, sequence in enumerate(sequences):\n",
    "        results[i, sequence] = 1.\n",
    "\n",
    "    return results"
   ]
  },
  {
   "cell_type": "code",
   "execution_count": 5,
   "metadata": {},
   "outputs": [],
   "source": [
    "train_data = vectorize(train_data)"
   ]
  },
  {
   "cell_type": "markdown",
   "metadata": {
    "colab_type": "text"
   },
   "source": [
    "**Adding L2 weight regularization to the model**"
   ]
  },
  {
   "cell_type": "code",
   "execution_count": 7,
   "metadata": {
    "colab_type": "code"
   },
   "outputs": [],
   "source": [
    "model = Sequential([\n",
    "    Dense(16, kernel_regularizer=regularizers.l2(0.002), activation=\"relu\"),\n",
    "    Dense(16, kernel_regularizer=regularizers.l2(0.002), activation=\"relu\"),\n",
    "    Dense(1, activation=\"sigmoid\")\n",
    "])"
   ]
  },
  {
   "cell_type": "code",
   "execution_count": 8,
   "metadata": {},
   "outputs": [
    {
     "name": "stdout",
     "output_type": "stream",
     "text": [
      "Epoch 1/20\n",
      "30/30 [==============================] - 2s 29ms/step - loss: 0.6102 - accuracy: 0.7859 - val_loss: 0.4854 - val_accuracy: 0.8653\n",
      "Epoch 2/20\n",
      "30/30 [==============================] - 0s 14ms/step - loss: 0.4227 - accuracy: 0.8897 - val_loss: 0.4144 - val_accuracy: 0.8744\n",
      "Epoch 3/20\n",
      "30/30 [==============================] - 0s 13ms/step - loss: 0.3535 - accuracy: 0.9063 - val_loss: 0.3927 - val_accuracy: 0.8767\n",
      "Epoch 4/20\n",
      "30/30 [==============================] - 0s 14ms/step - loss: 0.3239 - accuracy: 0.9143 - val_loss: 0.3653 - val_accuracy: 0.8880\n",
      "Epoch 5/20\n",
      "30/30 [==============================] - 0s 13ms/step - loss: 0.2988 - accuracy: 0.9250 - val_loss: 0.3644 - val_accuracy: 0.8854\n",
      "Epoch 6/20\n",
      "30/30 [==============================] - 0s 14ms/step - loss: 0.2856 - accuracy: 0.9299 - val_loss: 0.3626 - val_accuracy: 0.8860\n",
      "Epoch 7/20\n",
      "30/30 [==============================] - 0s 13ms/step - loss: 0.2756 - accuracy: 0.9335 - val_loss: 0.3675 - val_accuracy: 0.8835\n",
      "Epoch 8/20\n",
      "30/30 [==============================] - 0s 13ms/step - loss: 0.2664 - accuracy: 0.9367 - val_loss: 0.3978 - val_accuracy: 0.8710\n",
      "Epoch 9/20\n",
      "30/30 [==============================] - 0s 13ms/step - loss: 0.2603 - accuracy: 0.9386 - val_loss: 0.3693 - val_accuracy: 0.8822\n",
      "Epoch 10/20\n",
      "30/30 [==============================] - 0s 13ms/step - loss: 0.2544 - accuracy: 0.9417 - val_loss: 0.3918 - val_accuracy: 0.8759\n",
      "Epoch 11/20\n",
      "30/30 [==============================] - 0s 15ms/step - loss: 0.2461 - accuracy: 0.9447 - val_loss: 0.3981 - val_accuracy: 0.8721\n",
      "Epoch 12/20\n",
      "30/30 [==============================] - 0s 14ms/step - loss: 0.2440 - accuracy: 0.9458 - val_loss: 0.3966 - val_accuracy: 0.8771\n",
      "Epoch 13/20\n",
      "30/30 [==============================] - 0s 13ms/step - loss: 0.2418 - accuracy: 0.9441 - val_loss: 0.4166 - val_accuracy: 0.8713\n",
      "Epoch 14/20\n",
      "30/30 [==============================] - 0s 13ms/step - loss: 0.2379 - accuracy: 0.9474 - val_loss: 0.4150 - val_accuracy: 0.8693\n",
      "Epoch 15/20\n",
      "30/30 [==============================] - 0s 13ms/step - loss: 0.2344 - accuracy: 0.9477 - val_loss: 0.3925 - val_accuracy: 0.8780\n",
      "Epoch 16/20\n",
      "30/30 [==============================] - 0s 13ms/step - loss: 0.2275 - accuracy: 0.9517 - val_loss: 0.3959 - val_accuracy: 0.8770\n",
      "Epoch 17/20\n",
      "30/30 [==============================] - 0s 13ms/step - loss: 0.2270 - accuracy: 0.9513 - val_loss: 0.4324 - val_accuracy: 0.8666\n",
      "Epoch 18/20\n",
      "30/30 [==============================] - 0s 13ms/step - loss: 0.2342 - accuracy: 0.9473 - val_loss: 0.3962 - val_accuracy: 0.8762\n",
      "Epoch 19/20\n",
      "30/30 [==============================] - 0s 14ms/step - loss: 0.2213 - accuracy: 0.9533 - val_loss: 0.4490 - val_accuracy: 0.8611\n",
      "Epoch 20/20\n",
      "30/30 [==============================] - 0s 13ms/step - loss: 0.2178 - accuracy: 0.9555 - val_loss: 0.4175 - val_accuracy: 0.8755\n"
     ]
    }
   ],
   "source": [
    "model.compile(optimizer=\"rmsprop\", loss=\"binary_crossentropy\", metrics=[\"accuracy\"])\n",
    "history_l2_reg = model.fit(train_data, train_labels, epochs=20, batch_size=512, validation_split=0.4)"
   ]
  },
  {
   "cell_type": "markdown",
   "metadata": {
    "colab_type": "text"
   },
   "source": [
    "**Adding L1 weight regularizers**"
   ]
  },
  {
   "cell_type": "code",
   "execution_count": 10,
   "metadata": {
    "colab_type": "code"
   },
   "outputs": [
    {
     "data": {
      "text/plain": [
       "<keras.regularizers.L1L2 at 0x2340f47d3a0>"
      ]
     },
     "execution_count": 10,
     "metadata": {},
     "output_type": "execute_result"
    }
   ],
   "source": [
    "regularizers.l1(0.001)\n",
    "regularizers.l1_l2(l1=0.001, l2=0.001)"
   ]
  },
  {
   "cell_type": "code",
   "execution_count": 11,
   "metadata": {},
   "outputs": [
    {
     "name": "stdout",
     "output_type": "stream",
     "text": [
      "Epoch 1/20\n",
      "30/30 [==============================] - 1s 28ms/step - loss: 0.2471 - accuracy: 0.9385 - val_loss: 0.4003 - val_accuracy: 0.8770\n",
      "Epoch 2/20\n",
      "30/30 [==============================] - 0s 14ms/step - loss: 0.2232 - accuracy: 0.9490 - val_loss: 0.4340 - val_accuracy: 0.8690\n",
      "Epoch 3/20\n",
      "30/30 [==============================] - 0s 14ms/step - loss: 0.2140 - accuracy: 0.9543 - val_loss: 0.4875 - val_accuracy: 0.8527\n",
      "Epoch 4/20\n",
      "30/30 [==============================] - 0s 14ms/step - loss: 0.2166 - accuracy: 0.9531 - val_loss: 0.4271 - val_accuracy: 0.8707\n",
      "Epoch 5/20\n",
      "30/30 [==============================] - 0s 14ms/step - loss: 0.2101 - accuracy: 0.9581 - val_loss: 0.5089 - val_accuracy: 0.8462\n",
      "Epoch 6/20\n",
      "30/30 [==============================] - 0s 14ms/step - loss: 0.2133 - accuracy: 0.9559 - val_loss: 0.4131 - val_accuracy: 0.8773\n",
      "Epoch 7/20\n",
      "30/30 [==============================] - 0s 14ms/step - loss: 0.2112 - accuracy: 0.9553 - val_loss: 0.4164 - val_accuracy: 0.8755\n",
      "Epoch 8/20\n",
      "30/30 [==============================] - 0s 13ms/step - loss: 0.2056 - accuracy: 0.9601 - val_loss: 0.4293 - val_accuracy: 0.8728\n",
      "Epoch 9/20\n",
      "30/30 [==============================] - 0s 13ms/step - loss: 0.2018 - accuracy: 0.9617 - val_loss: 0.4194 - val_accuracy: 0.8744\n",
      "Epoch 10/20\n",
      "30/30 [==============================] - 0s 14ms/step - loss: 0.2149 - accuracy: 0.9527 - val_loss: 0.4189 - val_accuracy: 0.8764\n",
      "Epoch 11/20\n",
      "30/30 [==============================] - 0s 15ms/step - loss: 0.1970 - accuracy: 0.9629 - val_loss: 0.4241 - val_accuracy: 0.8747\n",
      "Epoch 12/20\n",
      "30/30 [==============================] - 0s 13ms/step - loss: 0.1994 - accuracy: 0.9609 - val_loss: 0.5010 - val_accuracy: 0.8512\n",
      "Epoch 13/20\n",
      "30/30 [==============================] - 0s 13ms/step - loss: 0.1944 - accuracy: 0.9635 - val_loss: 0.4539 - val_accuracy: 0.8680\n",
      "Epoch 14/20\n",
      "30/30 [==============================] - 0s 14ms/step - loss: 0.2055 - accuracy: 0.9577 - val_loss: 0.4380 - val_accuracy: 0.8725\n",
      "Epoch 15/20\n",
      "30/30 [==============================] - 0s 13ms/step - loss: 0.1912 - accuracy: 0.9653 - val_loss: 0.5766 - val_accuracy: 0.8340\n",
      "Epoch 16/20\n",
      "30/30 [==============================] - 0s 14ms/step - loss: 0.1946 - accuracy: 0.9636 - val_loss: 0.4478 - val_accuracy: 0.8694\n",
      "Epoch 17/20\n",
      "30/30 [==============================] - 0s 13ms/step - loss: 0.1885 - accuracy: 0.9663 - val_loss: 0.4374 - val_accuracy: 0.8717\n",
      "Epoch 18/20\n",
      "30/30 [==============================] - 0s 14ms/step - loss: 0.1907 - accuracy: 0.9640 - val_loss: 0.4375 - val_accuracy: 0.8725\n",
      "Epoch 19/20\n",
      "30/30 [==============================] - 0s 13ms/step - loss: 0.1888 - accuracy: 0.9639 - val_loss: 0.5057 - val_accuracy: 0.8586\n",
      "Epoch 20/20\n",
      "30/30 [==============================] - 0s 13ms/step - loss: 0.1855 - accuracy: 0.9655 - val_loss: 0.5444 - val_accuracy: 0.8459\n"
     ]
    }
   ],
   "source": [
    "model.compile(optimizer=\"rmsprop\", loss=\"binary_crossentropy\", metrics=[\"accuracy\"])\n",
    "history_l1_reg = model.fit(train_data, train_labels, epochs=20, batch_size=512, validation_split=0.4)"
   ]
  },
  {
   "cell_type": "markdown",
   "metadata": {
    "colab_type": "text"
   },
   "source": [
    "#### Adding dropout"
   ]
  },
  {
   "cell_type": "code",
   "execution_count": 15,
   "metadata": {},
   "outputs": [],
   "source": [
    "model = Sequential([\n",
    "    Dense(16, activation=\"relu\"),\n",
    "    Dropout(0.5),\n",
    "    Dense(16, activation=\"relu\"),\n",
    "    Dropout(0.5),\n",
    "    Dense(1, activation=\"sigmoid\")\n",
    "])"
   ]
  },
  {
   "cell_type": "code",
   "execution_count": 16,
   "metadata": {
    "colab_type": "code"
   },
   "outputs": [
    {
     "name": "stdout",
     "output_type": "stream",
     "text": [
      "Epoch 1/20\n",
      "30/30 [==============================] - 1s 30ms/step - loss: 0.6059 - accuracy: 0.6780 - val_loss: 0.4735 - val_accuracy: 0.8564\n",
      "Epoch 2/20\n",
      "30/30 [==============================] - 0s 14ms/step - loss: 0.4724 - accuracy: 0.7937 - val_loss: 0.3829 - val_accuracy: 0.8782\n",
      "Epoch 3/20\n",
      "30/30 [==============================] - 0s 13ms/step - loss: 0.3967 - accuracy: 0.8401 - val_loss: 0.3301 - val_accuracy: 0.8834\n",
      "Epoch 4/20\n",
      "30/30 [==============================] - 0s 14ms/step - loss: 0.3428 - accuracy: 0.8675 - val_loss: 0.3046 - val_accuracy: 0.8849\n",
      "Epoch 5/20\n",
      "30/30 [==============================] - 0s 14ms/step - loss: 0.2969 - accuracy: 0.8886 - val_loss: 0.2832 - val_accuracy: 0.8883\n",
      "Epoch 6/20\n",
      "30/30 [==============================] - 0s 13ms/step - loss: 0.2602 - accuracy: 0.9084 - val_loss: 0.2735 - val_accuracy: 0.8939\n",
      "Epoch 7/20\n",
      "30/30 [==============================] - 0s 13ms/step - loss: 0.2341 - accuracy: 0.9179 - val_loss: 0.2782 - val_accuracy: 0.8929\n",
      "Epoch 8/20\n",
      "30/30 [==============================] - 0s 13ms/step - loss: 0.2053 - accuracy: 0.9311 - val_loss: 0.2989 - val_accuracy: 0.8907\n",
      "Epoch 9/20\n",
      "30/30 [==============================] - 0s 15ms/step - loss: 0.1907 - accuracy: 0.9362 - val_loss: 0.3041 - val_accuracy: 0.8917\n",
      "Epoch 10/20\n",
      "30/30 [==============================] - 0s 15ms/step - loss: 0.1763 - accuracy: 0.9435 - val_loss: 0.3233 - val_accuracy: 0.8906\n",
      "Epoch 11/20\n",
      "30/30 [==============================] - 0s 14ms/step - loss: 0.1588 - accuracy: 0.9507 - val_loss: 0.3357 - val_accuracy: 0.8902\n",
      "Epoch 12/20\n",
      "30/30 [==============================] - 0s 14ms/step - loss: 0.1478 - accuracy: 0.9526 - val_loss: 0.3520 - val_accuracy: 0.8868\n",
      "Epoch 13/20\n",
      "30/30 [==============================] - 0s 13ms/step - loss: 0.1339 - accuracy: 0.9586 - val_loss: 0.4252 - val_accuracy: 0.8844\n",
      "Epoch 14/20\n",
      "30/30 [==============================] - 0s 13ms/step - loss: 0.1278 - accuracy: 0.9597 - val_loss: 0.4147 - val_accuracy: 0.8844\n",
      "Epoch 15/20\n",
      "30/30 [==============================] - 0s 13ms/step - loss: 0.1195 - accuracy: 0.9625 - val_loss: 0.4441 - val_accuracy: 0.8868\n",
      "Epoch 16/20\n",
      "30/30 [==============================] - 0s 14ms/step - loss: 0.1094 - accuracy: 0.9661 - val_loss: 0.4697 - val_accuracy: 0.8861\n",
      "Epoch 17/20\n",
      "30/30 [==============================] - 0s 14ms/step - loss: 0.1054 - accuracy: 0.9673 - val_loss: 0.4673 - val_accuracy: 0.8807\n",
      "Epoch 18/20\n",
      "30/30 [==============================] - 0s 14ms/step - loss: 0.1004 - accuracy: 0.9680 - val_loss: 0.5099 - val_accuracy: 0.8848\n",
      "Epoch 19/20\n",
      "30/30 [==============================] - 0s 14ms/step - loss: 0.0958 - accuracy: 0.9690 - val_loss: 0.5584 - val_accuracy: 0.8832\n",
      "Epoch 20/20\n",
      "30/30 [==============================] - 0s 13ms/step - loss: 0.0958 - accuracy: 0.9699 - val_loss: 0.5632 - val_accuracy: 0.8811\n"
     ]
    }
   ],
   "source": [
    "model.compile(optimizer=\"rmsprop\", loss=\"binary_crossentropy\", metrics=[\"accuracy\"])\n",
    "history_dropout = model.fit(train_data, train_labels, epochs=20, batch_size=512, validation_split=0.4)"
   ]
  },
  {
   "cell_type": "code",
   "execution_count": 17,
   "metadata": {},
   "outputs": [
    {
     "data": {
      "text/plain": [
       "<matplotlib.legend.Legend at 0x23401c2d760>"
      ]
     },
     "execution_count": 17,
     "metadata": {},
     "output_type": "execute_result"
    },
    {
     "data": {
      "image/png": "[encoded data removed]",
      "text/plain": [
       "<Figure size 432x288 with 1 Axes>"
      ]
     },
     "metadata": {
      "needs_background": "light"
     },
     "output_type": "display_data"
    }
   ],
   "source": [
    "plt.plot(range(1, 21), history_l1_reg.history[\"val_loss\"], \"r\", label=\"L1 Regularization\")\n",
    "plt.plot(range(1, 21), history_l2_reg.history[\"val_loss\"], \"g\", label=\"L2 Regularization\")\n",
    "plt.plot(range(1, 21), history_dropout.history[\"val_loss\"], \"b\", label=\"Dropout\")\n",
    "plt.title(\"Effect of regularization on validation loss\")\n",
    "plt.xlabel(\"Epochs\")\n",
    "plt.ylabel(\"Loss\")\n",
    "plt.legend()"
   ]
  }
 ],
 "metadata": {
  "colab": {
   "collapsed_sections": [],
   "name": "chapter05_fundamentals-of-ml.i",
   "private_outputs": false,
   "provenance": [],
   "toc_visible": true
  },
  "kernelspec": {
   "display_name": "Python 3",
   "language": "python",
   "name": "python3"
  },
  "language_info": {
   "codemirror_mode": {
    "name": "ipython",
    "version": 3
   },
   "file_extension": ".py",
   "mimetype": "text/x-python",
   "name": "python",
   "nbconvert_exporter": "python",
   "pygments_lexer": "ipython3",
   "version": "3.8.8"
  }
 },
 "nbformat": 4,
 "nbformat_minor": 1
}
