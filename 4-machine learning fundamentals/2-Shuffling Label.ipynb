{
 "cells": [
  {
   "cell_type": "markdown",
   "metadata": {
    "colab_type": "text"
   },
   "source": [
    "## Deep learning models can be trained to fit anything"
   ]
  },
  {
   "cell_type": "code",
   "execution_count": 1,
   "metadata": {
    "colab_type": "code"
   },
   "outputs": [],
   "source": [
    "from tensorflow.keras.datasets import mnist\n",
    "from tensorflow.keras import Sequential\n",
    "from tensorflow.keras.layers import Dense\n",
    "import numpy as np\n",
    "import matplotlib.pyplot as plt"
   ]
  },
  {
   "cell_type": "code",
   "execution_count": 2,
   "metadata": {},
   "outputs": [],
   "source": [
    "(train_images, train_labels), (test_images, test_labels) = mnist.load_data()"
   ]
  },
  {
   "cell_type": "code",
   "execution_count": 4,
   "metadata": {},
   "outputs": [],
   "source": [
    "train_images = train_images.reshape((60000, 28 * 28)).astype(\"float32\") / 255.0"
   ]
  },
  {
   "cell_type": "markdown",
   "metadata": {
    "colab_type": "text"
   },
   "source": [
    "**Fitting a MNIST model with randomly shuffled labels**"
   ]
  },
  {
   "cell_type": "code",
   "execution_count": 6,
   "metadata": {},
   "outputs": [],
   "source": [
    "random_train_labels = train_labels[:]\n",
    "np.random.shuffle(random_train_labels)"
   ]
  },
  {
   "cell_type": "code",
   "execution_count": 7,
   "metadata": {},
   "outputs": [],
   "source": [
    "model = Sequential([\n",
    "    Dense(512, activation=\"relu\"),\n",
    "    Dense(10, activation=\"softmax\")\n",
    "])"
   ]
  },
  {
   "cell_type": "code",
   "execution_count": 11,
   "metadata": {
    "colab_type": "code"
   },
   "outputs": [
    {
     "name": "stdout",
     "output_type": "stream",
     "text": [
      "Epoch 1/100\n",
      "375/375 [==============================] - 2s 3ms/step - loss: 2.2586 - accuracy: 0.1559 - val_loss: 2.3278 - val_accuracy: 0.1035\n",
      "Epoch 2/100\n",
      "375/375 [==============================] - 1s 3ms/step - loss: 2.2577 - accuracy: 0.1576 - val_loss: 2.3302 - val_accuracy: 0.1015\n",
      "Epoch 3/100\n",
      "375/375 [==============================] - 1s 3ms/step - loss: 2.2575 - accuracy: 0.1581 - val_loss: 2.3303 - val_accuracy: 0.1032\n",
      "Epoch 4/100\n",
      "375/375 [==============================] - 1s 2ms/step - loss: 2.2572 - accuracy: 0.1581 - val_loss: 2.3281 - val_accuracy: 0.1039\n",
      "Epoch 5/100\n",
      "375/375 [==============================] - 1s 2ms/step - loss: 2.2560 - accuracy: 0.1586 - val_loss: 2.3300 - val_accuracy: 0.1018\n",
      "Epoch 6/100\n",
      "375/375 [==============================] - 1s 3ms/step - loss: 2.2557 - accuracy: 0.1592 - val_loss: 2.3278 - val_accuracy: 0.0998\n",
      "Epoch 7/100\n",
      "375/375 [==============================] - 1s 2ms/step - loss: 2.2551 - accuracy: 0.1604 - val_loss: 2.3308 - val_accuracy: 0.1023\n",
      "Epoch 8/100\n",
      "375/375 [==============================] - 1s 2ms/step - loss: 2.2548 - accuracy: 0.1603 - val_loss: 2.3299 - val_accuracy: 0.0984\n",
      "Epoch 9/100\n",
      "375/375 [==============================] - 1s 3ms/step - loss: 2.2538 - accuracy: 0.1614 - val_loss: 2.3316 - val_accuracy: 0.1023\n",
      "Epoch 10/100\n",
      "375/375 [==============================] - 1s 2ms/step - loss: 2.2535 - accuracy: 0.1597 - val_loss: 2.3292 - val_accuracy: 0.1012\n",
      "Epoch 11/100\n",
      "375/375 [==============================] - 1s 2ms/step - loss: 2.2529 - accuracy: 0.1610 - val_loss: 2.3324 - val_accuracy: 0.0997\n",
      "Epoch 12/100\n",
      "375/375 [==============================] - 1s 2ms/step - loss: 2.2527 - accuracy: 0.1624 - val_loss: 2.3294 - val_accuracy: 0.1029\n",
      "Epoch 13/100\n",
      "375/375 [==============================] - 1s 3ms/step - loss: 2.2522 - accuracy: 0.1616 - val_loss: 2.3336 - val_accuracy: 0.1035\n",
      "Epoch 14/100\n",
      "375/375 [==============================] - 1s 3ms/step - loss: 2.2519 - accuracy: 0.1617 - val_loss: 2.3320 - val_accuracy: 0.1013\n",
      "Epoch 15/100\n",
      "375/375 [==============================] - 1s 3ms/step - loss: 2.2510 - accuracy: 0.1640 - val_loss: 2.3306 - val_accuracy: 0.1028\n",
      "Epoch 16/100\n",
      "375/375 [==============================] - 1s 3ms/step - loss: 2.2505 - accuracy: 0.1643 - val_loss: 2.3327 - val_accuracy: 0.1003\n",
      "Epoch 17/100\n",
      "375/375 [==============================] - 1s 2ms/step - loss: 2.2496 - accuracy: 0.1642 - val_loss: 2.3313 - val_accuracy: 0.1022\n",
      "Epoch 18/100\n",
      "375/375 [==============================] - 1s 2ms/step - loss: 2.2494 - accuracy: 0.1650 - val_loss: 2.3334 - val_accuracy: 0.1032\n",
      "Epoch 19/100\n",
      "375/375 [==============================] - 1s 3ms/step - loss: 2.2487 - accuracy: 0.1657 - val_loss: 2.3361 - val_accuracy: 0.1058\n",
      "Epoch 20/100\n",
      "375/375 [==============================] - 1s 2ms/step - loss: 2.2481 - accuracy: 0.1664 - val_loss: 2.3325 - val_accuracy: 0.1023\n",
      "Epoch 21/100\n",
      "375/375 [==============================] - 1s 2ms/step - loss: 2.2479 - accuracy: 0.1652 - val_loss: 2.3343 - val_accuracy: 0.1010\n",
      "Epoch 22/100\n",
      "375/375 [==============================] - 1s 2ms/step - loss: 2.2472 - accuracy: 0.1637 - val_loss: 2.3323 - val_accuracy: 0.0997\n",
      "Epoch 23/100\n",
      "375/375 [==============================] - 1s 3ms/step - loss: 2.2463 - accuracy: 0.1666 - val_loss: 2.3361 - val_accuracy: 0.1055\n",
      "Epoch 24/100\n",
      "375/375 [==============================] - 1s 2ms/step - loss: 2.2457 - accuracy: 0.1669 - val_loss: 2.3358 - val_accuracy: 0.0985\n",
      "Epoch 25/100\n",
      "375/375 [==============================] - 1s 3ms/step - loss: 2.2452 - accuracy: 0.1667 - val_loss: 2.3359 - val_accuracy: 0.1028\n",
      "Epoch 26/100\n",
      "375/375 [==============================] - 1s 3ms/step - loss: 2.2448 - accuracy: 0.1679 - val_loss: 2.3338 - val_accuracy: 0.1047\n",
      "Epoch 27/100\n",
      "375/375 [==============================] - 1s 3ms/step - loss: 2.2442 - accuracy: 0.1675 - val_loss: 2.3406 - val_accuracy: 0.1069\n",
      "Epoch 28/100\n",
      "375/375 [==============================] - 1s 2ms/step - loss: 2.2441 - accuracy: 0.1664 - val_loss: 2.3349 - val_accuracy: 0.0992\n",
      "Epoch 29/100\n",
      "375/375 [==============================] - 1s 2ms/step - loss: 2.2434 - accuracy: 0.1686 - val_loss: 2.3383 - val_accuracy: 0.0980\n",
      "Epoch 30/100\n",
      "375/375 [==============================] - 1s 2ms/step - loss: 2.2429 - accuracy: 0.1694 - val_loss: 2.3370 - val_accuracy: 0.1027\n",
      "Epoch 31/100\n",
      "375/375 [==============================] - 1s 3ms/step - loss: 2.2420 - accuracy: 0.1688 - val_loss: 2.3364 - val_accuracy: 0.1037\n",
      "Epoch 32/100\n",
      "375/375 [==============================] - 1s 2ms/step - loss: 2.2416 - accuracy: 0.1699 - val_loss: 2.3361 - val_accuracy: 0.1042\n",
      "Epoch 33/100\n",
      "375/375 [==============================] - 1s 2ms/step - loss: 2.2411 - accuracy: 0.1708 - val_loss: 2.3375 - val_accuracy: 0.0990\n",
      "Epoch 34/100\n",
      "375/375 [==============================] - 1s 2ms/step - loss: 2.2405 - accuracy: 0.1708 - val_loss: 2.3387 - val_accuracy: 0.1060\n",
      "Epoch 35/100\n",
      "375/375 [==============================] - 1s 3ms/step - loss: 2.2399 - accuracy: 0.1697 - val_loss: 2.3395 - val_accuracy: 0.1042\n",
      "Epoch 36/100\n",
      "375/375 [==============================] - 1s 3ms/step - loss: 2.2395 - accuracy: 0.1713 - val_loss: 2.3379 - val_accuracy: 0.1001\n",
      "Epoch 37/100\n",
      "375/375 [==============================] - 1s 2ms/step - loss: 2.2389 - accuracy: 0.1724 - val_loss: 2.3409 - val_accuracy: 0.1003\n",
      "Epoch 38/100\n",
      "375/375 [==============================] - 1s 3ms/step - loss: 2.2383 - accuracy: 0.1717 - val_loss: 2.3401 - val_accuracy: 0.1002\n",
      "Epoch 39/100\n",
      "375/375 [==============================] - 1s 3ms/step - loss: 2.2379 - accuracy: 0.1717 - val_loss: 2.3421 - val_accuracy: 0.0997\n",
      "Epoch 40/100\n",
      "375/375 [==============================] - 1s 2ms/step - loss: 2.2373 - accuracy: 0.1735 - val_loss: 2.3440 - val_accuracy: 0.1015\n",
      "Epoch 41/100\n",
      "375/375 [==============================] - 1s 2ms/step - loss: 2.2369 - accuracy: 0.1746 - val_loss: 2.3398 - val_accuracy: 0.1007\n",
      "Epoch 42/100\n",
      "375/375 [==============================] - 1s 3ms/step - loss: 2.2364 - accuracy: 0.1716 - val_loss: 2.3399 - val_accuracy: 0.1042\n",
      "Epoch 43/100\n",
      "375/375 [==============================] - 1s 2ms/step - loss: 2.2358 - accuracy: 0.1724 - val_loss: 2.3427 - val_accuracy: 0.1058\n",
      "Epoch 44/100\n",
      "375/375 [==============================] - 1s 2ms/step - loss: 2.2352 - accuracy: 0.1762 - val_loss: 2.3407 - val_accuracy: 0.1013\n",
      "Epoch 45/100\n",
      "375/375 [==============================] - 1s 2ms/step - loss: 2.2347 - accuracy: 0.1737 - val_loss: 2.3415 - val_accuracy: 0.1004\n",
      "Epoch 46/100\n",
      "375/375 [==============================] - 1s 3ms/step - loss: 2.2341 - accuracy: 0.1745 - val_loss: 2.3431 - val_accuracy: 0.1051\n",
      "Epoch 47/100\n",
      "375/375 [==============================] - 1s 3ms/step - loss: 2.2336 - accuracy: 0.1748 - val_loss: 2.3435 - val_accuracy: 0.1011\n",
      "Epoch 48/100\n",
      "375/375 [==============================] - 1s 3ms/step - loss: 2.2331 - accuracy: 0.1760 - val_loss: 2.3420 - val_accuracy: 0.1015\n",
      "Epoch 49/100\n",
      "375/375 [==============================] - 1s 3ms/step - loss: 2.2325 - accuracy: 0.1779 - val_loss: 2.3449 - val_accuracy: 0.1037\n",
      "Epoch 50/100\n",
      "375/375 [==============================] - 1s 3ms/step - loss: 2.2314 - accuracy: 0.1766 - val_loss: 2.3420 - val_accuracy: 0.1006\n",
      "Epoch 51/100\n",
      "375/375 [==============================] - 1s 3ms/step - loss: 2.2315 - accuracy: 0.1766 - val_loss: 2.3435 - val_accuracy: 0.0998\n",
      "Epoch 52/100\n",
      "375/375 [==============================] - 1s 3ms/step - loss: 2.2307 - accuracy: 0.1770 - val_loss: 2.3435 - val_accuracy: 0.1023\n",
      "Epoch 53/100\n",
      "375/375 [==============================] - 1s 3ms/step - loss: 2.2299 - accuracy: 0.1788 - val_loss: 2.3472 - val_accuracy: 0.1020\n",
      "Epoch 54/100\n",
      "375/375 [==============================] - 1s 3ms/step - loss: 2.2296 - accuracy: 0.1775 - val_loss: 2.3495 - val_accuracy: 0.1020\n",
      "Epoch 55/100\n",
      "375/375 [==============================] - 1s 3ms/step - loss: 2.2289 - accuracy: 0.1794 - val_loss: 2.3463 - val_accuracy: 0.1014\n",
      "Epoch 56/100\n",
      "375/375 [==============================] - 1s 3ms/step - loss: 2.2288 - accuracy: 0.1789 - val_loss: 2.3468 - val_accuracy: 0.1008\n",
      "Epoch 57/100\n",
      "375/375 [==============================] - 1s 3ms/step - loss: 2.2278 - accuracy: 0.1773 - val_loss: 2.3470 - val_accuracy: 0.1023\n"
     ]
    },
    {
     "name": "stdout",
     "output_type": "stream",
     "text": [
      "Epoch 58/100\n",
      "375/375 [==============================] - 1s 3ms/step - loss: 2.2274 - accuracy: 0.1788 - val_loss: 2.3490 - val_accuracy: 0.1057\n",
      "Epoch 59/100\n",
      "375/375 [==============================] - 1s 3ms/step - loss: 2.2267 - accuracy: 0.1796 - val_loss: 2.3459 - val_accuracy: 0.0984\n",
      "Epoch 60/100\n",
      "375/375 [==============================] - 1s 3ms/step - loss: 2.2263 - accuracy: 0.1789 - val_loss: 2.3479 - val_accuracy: 0.0962\n",
      "Epoch 61/100\n",
      "375/375 [==============================] - 1s 3ms/step - loss: 2.2257 - accuracy: 0.1803 - val_loss: 2.3489 - val_accuracy: 0.1025\n",
      "Epoch 62/100\n",
      "375/375 [==============================] - 1s 3ms/step - loss: 2.2253 - accuracy: 0.1797 - val_loss: 2.3467 - val_accuracy: 0.1000\n",
      "Epoch 63/100\n",
      "375/375 [==============================] - 1s 2ms/step - loss: 2.2244 - accuracy: 0.1824 - val_loss: 2.3479 - val_accuracy: 0.1053\n",
      "Epoch 64/100\n",
      "375/375 [==============================] - 1s 2ms/step - loss: 2.2241 - accuracy: 0.1816 - val_loss: 2.3474 - val_accuracy: 0.1055\n",
      "Epoch 65/100\n",
      "375/375 [==============================] - 1s 3ms/step - loss: 2.2235 - accuracy: 0.1807 - val_loss: 2.3473 - val_accuracy: 0.1016\n",
      "Epoch 66/100\n",
      "375/375 [==============================] - 1s 3ms/step - loss: 2.2226 - accuracy: 0.1830 - val_loss: 2.3526 - val_accuracy: 0.0989\n",
      "Epoch 67/100\n",
      "375/375 [==============================] - 1s 3ms/step - loss: 2.2227 - accuracy: 0.1828 - val_loss: 2.3512 - val_accuracy: 0.0980\n",
      "Epoch 68/100\n",
      "375/375 [==============================] - 1s 3ms/step - loss: 2.2214 - accuracy: 0.1835 - val_loss: 2.3508 - val_accuracy: 0.1053\n",
      "Epoch 69/100\n",
      "375/375 [==============================] - 1s 3ms/step - loss: 2.2215 - accuracy: 0.1829 - val_loss: 2.3542 - val_accuracy: 0.1022\n",
      "Epoch 70/100\n",
      "375/375 [==============================] - 1s 3ms/step - loss: 2.2210 - accuracy: 0.1843 - val_loss: 2.3539 - val_accuracy: 0.1032\n",
      "Epoch 71/100\n",
      "375/375 [==============================] - 1s 2ms/step - loss: 2.2196 - accuracy: 0.1845 - val_loss: 2.3542 - val_accuracy: 0.1037\n",
      "Epoch 72/100\n",
      "375/375 [==============================] - 1s 2ms/step - loss: 2.2196 - accuracy: 0.1852 - val_loss: 2.3544 - val_accuracy: 0.0997\n",
      "Epoch 73/100\n",
      "375/375 [==============================] - 1s 3ms/step - loss: 2.2190 - accuracy: 0.1822 - val_loss: 2.3515 - val_accuracy: 0.1001\n",
      "Epoch 74/100\n",
      "375/375 [==============================] - 1s 2ms/step - loss: 2.2185 - accuracy: 0.1847 - val_loss: 2.3513 - val_accuracy: 0.1019\n",
      "Epoch 75/100\n",
      "375/375 [==============================] - 1s 2ms/step - loss: 2.2179 - accuracy: 0.1857 - val_loss: 2.3508 - val_accuracy: 0.1019\n",
      "Epoch 76/100\n",
      "375/375 [==============================] - 1s 2ms/step - loss: 2.2175 - accuracy: 0.1844 - val_loss: 2.3548 - val_accuracy: 0.1023\n",
      "Epoch 77/100\n",
      "375/375 [==============================] - 1s 3ms/step - loss: 2.2167 - accuracy: 0.1864 - val_loss: 2.3561 - val_accuracy: 0.1015\n",
      "Epoch 78/100\n",
      "375/375 [==============================] - 1s 3ms/step - loss: 2.2161 - accuracy: 0.1856 - val_loss: 2.3579 - val_accuracy: 0.1024\n",
      "Epoch 79/100\n",
      "375/375 [==============================] - 1s 3ms/step - loss: 2.2153 - accuracy: 0.1870 - val_loss: 2.3564 - val_accuracy: 0.1020\n",
      "Epoch 80/100\n",
      "375/375 [==============================] - 1s 3ms/step - loss: 2.2149 - accuracy: 0.1855 - val_loss: 2.3555 - val_accuracy: 0.1022\n",
      "Epoch 81/100\n",
      "375/375 [==============================] - 1s 2ms/step - loss: 2.2145 - accuracy: 0.1878 - val_loss: 2.3581 - val_accuracy: 0.1027\n",
      "Epoch 82/100\n",
      "375/375 [==============================] - 1s 2ms/step - loss: 2.2139 - accuracy: 0.1871 - val_loss: 2.3579 - val_accuracy: 0.0993\n",
      "Epoch 83/100\n",
      "375/375 [==============================] - 1s 2ms/step - loss: 2.2137 - accuracy: 0.1886 - val_loss: 2.3563 - val_accuracy: 0.0997\n",
      "Epoch 84/100\n",
      "375/375 [==============================] - 1s 3ms/step - loss: 2.2127 - accuracy: 0.1895 - val_loss: 2.3581 - val_accuracy: 0.1010\n",
      "Epoch 85/100\n",
      "375/375 [==============================] - 1s 3ms/step - loss: 2.2123 - accuracy: 0.1896 - val_loss: 2.3609 - val_accuracy: 0.1001\n",
      "Epoch 86/100\n",
      "375/375 [==============================] - 1s 3ms/step - loss: 2.2114 - accuracy: 0.1889 - val_loss: 2.3559 - val_accuracy: 0.1028\n",
      "Epoch 87/100\n",
      "375/375 [==============================] - 1s 3ms/step - loss: 2.2109 - accuracy: 0.1880 - val_loss: 2.3571 - val_accuracy: 0.1028\n",
      "Epoch 88/100\n",
      "375/375 [==============================] - 1s 3ms/step - loss: 2.2108 - accuracy: 0.1883 - val_loss: 2.3612 - val_accuracy: 0.0988\n",
      "Epoch 89/100\n",
      "375/375 [==============================] - 1s 3ms/step - loss: 2.2097 - accuracy: 0.1928 - val_loss: 2.3589 - val_accuracy: 0.0986\n",
      "Epoch 90/100\n",
      "375/375 [==============================] - 1s 3ms/step - loss: 2.2094 - accuracy: 0.1898 - val_loss: 2.3594 - val_accuracy: 0.1005\n",
      "Epoch 91/100\n",
      "375/375 [==============================] - 1s 3ms/step - loss: 2.2088 - accuracy: 0.1904 - val_loss: 2.3621 - val_accuracy: 0.0993\n",
      "Epoch 92/100\n",
      "375/375 [==============================] - 1s 2ms/step - loss: 2.2082 - accuracy: 0.1903 - val_loss: 2.3594 - val_accuracy: 0.1035\n",
      "Epoch 93/100\n",
      "375/375 [==============================] - 1s 2ms/step - loss: 2.2077 - accuracy: 0.1902 - val_loss: 2.3582 - val_accuracy: 0.1008\n",
      "Epoch 94/100\n",
      "375/375 [==============================] - 1s 2ms/step - loss: 2.2072 - accuracy: 0.1913 - val_loss: 2.3612 - val_accuracy: 0.1045\n",
      "Epoch 95/100\n",
      "375/375 [==============================] - 1s 3ms/step - loss: 2.2064 - accuracy: 0.1934 - val_loss: 2.3620 - val_accuracy: 0.1017\n",
      "Epoch 96/100\n",
      "375/375 [==============================] - 1s 2ms/step - loss: 2.2061 - accuracy: 0.1919 - val_loss: 2.3611 - val_accuracy: 0.0993\n",
      "Epoch 97/100\n",
      "375/375 [==============================] - 1s 2ms/step - loss: 2.2057 - accuracy: 0.1951 - val_loss: 2.3628 - val_accuracy: 0.1001\n",
      "Epoch 98/100\n",
      "375/375 [==============================] - 1s 3ms/step - loss: 2.2050 - accuracy: 0.1933 - val_loss: 2.3638 - val_accuracy: 0.0983\n",
      "Epoch 99/100\n",
      "375/375 [==============================] - 1s 3ms/step - loss: 2.2039 - accuracy: 0.1950 - val_loss: 2.3630 - val_accuracy: 0.1017\n",
      "Epoch 100/100\n",
      "375/375 [==============================] - 1s 3ms/step - loss: 2.2037 - accuracy: 0.1936 - val_loss: 2.3668 - val_accuracy: 0.1002\n"
     ]
    }
   ],
   "source": [
    "model.compile(optimizer=\"rmsprop\", loss=\"sparse_categorical_crossentropy\", metrics=[\"accuracy\"])\n",
    "history = model.fit(train_images, random_train_labels, epochs=100, batch_size=128, validation_split=0.2)"
   ]
  },
  {
   "cell_type": "code",
   "execution_count": 13,
   "metadata": {
    "colab_type": "code"
   },
   "outputs": [
    {
     "data": {
      "text/plain": [
       "<matplotlib.legend.Legend at 0x1885a373fd0>"
      ]
     },
     "execution_count": 13,
     "metadata": {},
     "output_type": "execute_result"
    },
    {
     "data": {
      "image/png": "[encoded data removed]",
      "text/plain": [
       "<Figure size 432x288 with 1 Axes>"
      ]
     },
     "metadata": {
      "needs_background": "light"
     },
     "output_type": "display_data"
    }
   ],
   "source": [
    "epochs = range(1, 101)\n",
    "plt.plot(epochs, history.history[\"val_accuracy\"], \"b-\", label=\"Validation accuracy with noise channels\")\n",
    "plt.title(\"Effect of noise channels on validation accuracy\")\n",
    "plt.xlabel(\"Epochs\")\n",
    "plt.ylabel(\"Accuracy\")\n",
    "plt.legend()"
   ]
  }
 ],
 "metadata": {
  "colab": {
   "collapsed_sections": [],
   "name": "chapter05_fundamentals-of-ml.i",
   "private_outputs": false,
   "provenance": [],
   "toc_visible": true
  },
  "kernelspec": {
   "display_name": "Python 3",
   "language": "python",
   "name": "python3"
  },
  "language_info": {
   "codemirror_mode": {
    "name": "ipython",
    "version": 3
   },
   "file_extension": ".py",
   "mimetype": "text/x-python",
   "name": "python",
   "nbconvert_exporter": "python",
   "pygments_lexer": "ipython3",
   "version": "3.8.8"
  }
 },
 "nbformat": 4,
 "nbformat_minor": 1
}
