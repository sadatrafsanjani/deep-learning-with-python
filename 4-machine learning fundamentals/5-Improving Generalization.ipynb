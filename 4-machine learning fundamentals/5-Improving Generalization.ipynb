{
 "cells": [
  {
   "cell_type": "markdown",
   "metadata": {
    "colab_type": "text"
   },
   "source": [
    "## Improving generalization"
   ]
  },
  {
   "cell_type": "code",
   "execution_count": 24,
   "metadata": {
    "colab_type": "code"
   },
   "outputs": [],
   "source": [
    "from tensorflow.keras.datasets import imdb\n",
    "from tensorflow.keras import Sequential\n",
    "from tensorflow.keras.optimizers import RMSprop\n",
    "from tensorflow.keras.layers import Dense\n",
    "import numpy as np\n",
    "import matplotlib.pyplot as plt"
   ]
  },
  {
   "cell_type": "code",
   "execution_count": 25,
   "metadata": {},
   "outputs": [],
   "source": [
    "(train_data, train_labels), (test_images, test_labels) = imdb.load_data(num_words=10000)"
   ]
  },
  {
   "cell_type": "code",
   "execution_count": 26,
   "metadata": {},
   "outputs": [],
   "source": [
    "def vectorize(sequences, dimension=10000):\n",
    "    \n",
    "    results = np.zeros((len(sequences), dimension))\n",
    "    \n",
    "    for i, sequence in enumerate(sequences):\n",
    "        results[i, sequence] = 1.\n",
    "\n",
    "    return results"
   ]
  },
  {
   "cell_type": "code",
   "execution_count": 27,
   "metadata": {},
   "outputs": [],
   "source": [
    "train_data = vectorize(train_data)"
   ]
  },
  {
   "cell_type": "markdown",
   "metadata": {
    "colab_type": "text"
   },
   "source": [
    "**Original model**"
   ]
  },
  {
   "cell_type": "code",
   "execution_count": 28,
   "metadata": {},
   "outputs": [],
   "source": [
    "model = Sequential([\n",
    "    Dense(16, activation=\"relu\"),\n",
    "    Dense(16, activation=\"relu\"),\n",
    "    Dense(1, activation=\"sigmoid\")\n",
    "])"
   ]
  },
  {
   "cell_type": "code",
   "execution_count": 29,
   "metadata": {
    "colab_type": "code"
   },
   "outputs": [
    {
     "name": "stdout",
     "output_type": "stream",
     "text": [
      "Epoch 1/20\n",
      "30/30 [==============================] - 1s 27ms/step - loss: 0.5137 - accuracy: 0.7965 - val_loss: 0.3811 - val_accuracy: 0.8706\n",
      "Epoch 2/20\n",
      "30/30 [==============================] - 0s 15ms/step - loss: 0.3056 - accuracy: 0.9002 - val_loss: 0.3360 - val_accuracy: 0.8675\n",
      "Epoch 3/20\n",
      "30/30 [==============================] - 0s 15ms/step - loss: 0.2243 - accuracy: 0.9280 - val_loss: 0.2912 - val_accuracy: 0.8847\n",
      "Epoch 4/20\n",
      "30/30 [==============================] - 0s 14ms/step - loss: 0.1784 - accuracy: 0.9426 - val_loss: 0.2875 - val_accuracy: 0.8828\n",
      "Epoch 5/20\n",
      "30/30 [==============================] - 0s 14ms/step - loss: 0.1472 - accuracy: 0.9521 - val_loss: 0.2809 - val_accuracy: 0.8883\n",
      "Epoch 6/20\n",
      "30/30 [==============================] - 0s 14ms/step - loss: 0.1185 - accuracy: 0.9645 - val_loss: 0.2948 - val_accuracy: 0.8860\n",
      "Epoch 7/20\n",
      "30/30 [==============================] - 0s 17ms/step - loss: 0.1020 - accuracy: 0.9685 - val_loss: 0.3138 - val_accuracy: 0.8842\n",
      "Epoch 8/20\n",
      "30/30 [==============================] - 0s 13ms/step - loss: 0.0830 - accuracy: 0.9757 - val_loss: 0.3337 - val_accuracy: 0.8821\n",
      "Epoch 9/20\n",
      "30/30 [==============================] - 0s 13ms/step - loss: 0.0722 - accuracy: 0.9797 - val_loss: 0.3570 - val_accuracy: 0.8813\n",
      "Epoch 10/20\n",
      "30/30 [==============================] - 0s 13ms/step - loss: 0.0578 - accuracy: 0.9849 - val_loss: 0.3922 - val_accuracy: 0.8769\n",
      "Epoch 11/20\n",
      "30/30 [==============================] - 0s 13ms/step - loss: 0.0514 - accuracy: 0.9861 - val_loss: 0.4198 - val_accuracy: 0.8725\n",
      "Epoch 12/20\n",
      "30/30 [==============================] - 0s 13ms/step - loss: 0.0417 - accuracy: 0.9901 - val_loss: 0.4843 - val_accuracy: 0.8676\n",
      "Epoch 13/20\n",
      "30/30 [==============================] - 0s 13ms/step - loss: 0.0327 - accuracy: 0.9929 - val_loss: 0.4836 - val_accuracy: 0.8713\n",
      "Epoch 14/20\n",
      "30/30 [==============================] - 0s 13ms/step - loss: 0.0285 - accuracy: 0.9938 - val_loss: 0.5071 - val_accuracy: 0.8713\n",
      "Epoch 15/20\n",
      "30/30 [==============================] - 0s 14ms/step - loss: 0.0238 - accuracy: 0.9952 - val_loss: 0.5431 - val_accuracy: 0.8689\n",
      "Epoch 16/20\n",
      "30/30 [==============================] - 0s 13ms/step - loss: 0.0207 - accuracy: 0.9955 - val_loss: 0.5744 - val_accuracy: 0.8680\n",
      "Epoch 17/20\n",
      "30/30 [==============================] - 0s 16ms/step - loss: 0.0156 - accuracy: 0.9971 - val_loss: 0.6253 - val_accuracy: 0.8651\n",
      "Epoch 18/20\n",
      "30/30 [==============================] - 0s 13ms/step - loss: 0.0138 - accuracy: 0.9972 - val_loss: 0.6565 - val_accuracy: 0.8651\n",
      "Epoch 19/20\n",
      "30/30 [==============================] - 0s 13ms/step - loss: 0.0116 - accuracy: 0.9977 - val_loss: 0.6762 - val_accuracy: 0.8654\n",
      "Epoch 20/20\n",
      "30/30 [==============================] - 0s 13ms/step - loss: 0.0061 - accuracy: 0.9996 - val_loss: 0.7167 - val_accuracy: 0.8646\n"
     ]
    }
   ],
   "source": [
    "model.compile(optimizer=\"rmsprop\", loss=\"binary_crossentropy\", metrics=[\"accuracy\"])\n",
    "history = model.fit(train_data, train_labels, epochs=20, batch_size=512, validation_split=0.4)"
   ]
  },
  {
   "cell_type": "markdown",
   "metadata": {
    "colab_type": "text"
   },
   "source": [
    "**Version of the model with lower capacity**"
   ]
  },
  {
   "cell_type": "code",
   "execution_count": 30,
   "metadata": {
    "colab_type": "code"
   },
   "outputs": [],
   "source": [
    "model = Sequential([\n",
    "    Dense(4, activation=\"relu\"),\n",
    "    Dense(4, activation=\"relu\"),\n",
    "    Dense(1, activation=\"sigmoid\")\n",
    "])"
   ]
  },
  {
   "cell_type": "code",
   "execution_count": 31,
   "metadata": {},
   "outputs": [
    {
     "name": "stdout",
     "output_type": "stream",
     "text": [
      "Epoch 1/20\n",
      "30/30 [==============================] - 1s 27ms/step - loss: 0.6157 - accuracy: 0.7587 - val_loss: 0.5425 - val_accuracy: 0.8341\n",
      "Epoch 2/20\n",
      "30/30 [==============================] - 0s 14ms/step - loss: 0.4824 - accuracy: 0.8633 - val_loss: 0.4460 - val_accuracy: 0.8533\n",
      "Epoch 3/20\n",
      "30/30 [==============================] - 0s 13ms/step - loss: 0.3871 - accuracy: 0.8866 - val_loss: 0.3785 - val_accuracy: 0.8727\n",
      "Epoch 4/20\n",
      "30/30 [==============================] - 0s 13ms/step - loss: 0.3182 - accuracy: 0.9030 - val_loss: 0.3335 - val_accuracy: 0.8776\n",
      "Epoch 5/20\n",
      "30/30 [==============================] - 0s 13ms/step - loss: 0.2688 - accuracy: 0.9155 - val_loss: 0.3063 - val_accuracy: 0.8843\n",
      "Epoch 6/20\n",
      "30/30 [==============================] - 0s 13ms/step - loss: 0.2316 - accuracy: 0.9255 - val_loss: 0.2900 - val_accuracy: 0.8863\n",
      "Epoch 7/20\n",
      "30/30 [==============================] - 0s 13ms/step - loss: 0.2028 - accuracy: 0.9359 - val_loss: 0.2775 - val_accuracy: 0.8909\n",
      "Epoch 8/20\n",
      "30/30 [==============================] - 0s 14ms/step - loss: 0.1794 - accuracy: 0.9427 - val_loss: 0.2833 - val_accuracy: 0.8853\n",
      "Epoch 9/20\n",
      "30/30 [==============================] - 0s 14ms/step - loss: 0.1598 - accuracy: 0.9500 - val_loss: 0.2721 - val_accuracy: 0.8925\n",
      "Epoch 10/20\n",
      "30/30 [==============================] - 0s 14ms/step - loss: 0.1440 - accuracy: 0.9552 - val_loss: 0.2734 - val_accuracy: 0.8923\n",
      "Epoch 11/20\n",
      "30/30 [==============================] - 0s 15ms/step - loss: 0.1291 - accuracy: 0.9604 - val_loss: 0.2837 - val_accuracy: 0.8898\n",
      "Epoch 12/20\n",
      "30/30 [==============================] - 0s 15ms/step - loss: 0.1167 - accuracy: 0.9654 - val_loss: 0.2859 - val_accuracy: 0.8870\n",
      "Epoch 13/20\n",
      "30/30 [==============================] - 0s 14ms/step - loss: 0.1054 - accuracy: 0.9691 - val_loss: 0.2927 - val_accuracy: 0.8896\n",
      "Epoch 14/20\n",
      "30/30 [==============================] - 1s 17ms/step - loss: 0.0954 - accuracy: 0.9722 - val_loss: 0.3094 - val_accuracy: 0.8828\n",
      "Epoch 15/20\n",
      "30/30 [==============================] - 0s 16ms/step - loss: 0.0859 - accuracy: 0.9759 - val_loss: 0.3130 - val_accuracy: 0.8845\n",
      "Epoch 16/20\n",
      "30/30 [==============================] - 0s 15ms/step - loss: 0.0776 - accuracy: 0.9782 - val_loss: 0.3281 - val_accuracy: 0.8840\n",
      "Epoch 17/20\n",
      "30/30 [==============================] - 0s 15ms/step - loss: 0.0702 - accuracy: 0.9813 - val_loss: 0.3386 - val_accuracy: 0.8841\n",
      "Epoch 18/20\n",
      "30/30 [==============================] - 0s 15ms/step - loss: 0.0629 - accuracy: 0.9846 - val_loss: 0.3604 - val_accuracy: 0.8811\n",
      "Epoch 19/20\n",
      "30/30 [==============================] - 0s 14ms/step - loss: 0.0562 - accuracy: 0.9861 - val_loss: 0.3710 - val_accuracy: 0.8794\n",
      "Epoch 20/20\n",
      "30/30 [==============================] - 0s 14ms/step - loss: 0.0507 - accuracy: 0.9877 - val_loss: 0.3849 - val_accuracy: 0.8805\n"
     ]
    }
   ],
   "source": [
    "model.compile(optimizer=\"rmsprop\", loss=\"binary_crossentropy\", metrics=[\"accuracy\"])\n",
    "history_smaller_model = model.fit(train_data, train_labels, epochs=20, batch_size=512, validation_split=0.4)"
   ]
  },
  {
   "cell_type": "markdown",
   "metadata": {
    "colab_type": "text"
   },
   "source": [
    "**Version of the model with higher capacity**"
   ]
  },
  {
   "cell_type": "code",
   "execution_count": 32,
   "metadata": {
    "colab_type": "code"
   },
   "outputs": [],
   "source": [
    "model = Sequential([\n",
    "    Dense(512, activation=\"relu\"),\n",
    "    Dense(512, activation=\"relu\"),\n",
    "    Dense(1, activation=\"sigmoid\")\n",
    "])"
   ]
  },
  {
   "cell_type": "code",
   "execution_count": 33,
   "metadata": {},
   "outputs": [
    {
     "name": "stdout",
     "output_type": "stream",
     "text": [
      "Epoch 1/20\n",
      "30/30 [==============================] - 1s 28ms/step - loss: 0.5463 - accuracy: 0.7543 - val_loss: 0.2994 - val_accuracy: 0.8815\n",
      "Epoch 2/20\n",
      "30/30 [==============================] - 0s 16ms/step - loss: 0.2685 - accuracy: 0.8959 - val_loss: 0.2659 - val_accuracy: 0.8923\n",
      "Epoch 3/20\n",
      "30/30 [==============================] - 0s 15ms/step - loss: 0.1410 - accuracy: 0.9471 - val_loss: 0.3527 - val_accuracy: 0.8797\n",
      "Epoch 4/20\n",
      "30/30 [==============================] - 0s 15ms/step - loss: 0.0672 - accuracy: 0.9765 - val_loss: 0.8259 - val_accuracy: 0.7737\n",
      "Epoch 5/20\n",
      "30/30 [==============================] - 0s 15ms/step - loss: 0.0504 - accuracy: 0.9864 - val_loss: 0.6327 - val_accuracy: 0.8085\n",
      "Epoch 6/20\n",
      "30/30 [==============================] - 0s 15ms/step - loss: 0.0088 - accuracy: 0.9982 - val_loss: 0.5237 - val_accuracy: 0.8881\n",
      "Epoch 7/20\n",
      "30/30 [==============================] - 0s 15ms/step - loss: 7.5419e-04 - accuracy: 0.9999 - val_loss: 0.6289 - val_accuracy: 0.8865\n",
      "Epoch 8/20\n",
      "30/30 [==============================] - 0s 15ms/step - loss: 1.1679e-04 - accuracy: 1.0000 - val_loss: 0.7499 - val_accuracy: 0.8859\n",
      "Epoch 9/20\n",
      "30/30 [==============================] - 0s 16ms/step - loss: 1.8365e-05 - accuracy: 1.0000 - val_loss: 0.8595 - val_accuracy: 0.8854\n",
      "Epoch 10/20\n",
      "30/30 [==============================] - 0s 16ms/step - loss: 3.9050e-06 - accuracy: 1.0000 - val_loss: 0.9490 - val_accuracy: 0.8851\n",
      "Epoch 11/20\n",
      "30/30 [==============================] - 0s 15ms/step - loss: 1.0269e-06 - accuracy: 1.0000 - val_loss: 1.0308 - val_accuracy: 0.8851\n",
      "Epoch 12/20\n",
      "30/30 [==============================] - 0s 15ms/step - loss: 3.2492e-07 - accuracy: 1.0000 - val_loss: 1.1111 - val_accuracy: 0.8852\n",
      "Epoch 13/20\n",
      "30/30 [==============================] - 0s 15ms/step - loss: 1.1679e-07 - accuracy: 1.0000 - val_loss: 1.1787 - val_accuracy: 0.8857\n",
      "Epoch 14/20\n",
      "30/30 [==============================] - 0s 15ms/step - loss: 5.0429e-08 - accuracy: 1.0000 - val_loss: 1.2265 - val_accuracy: 0.8856\n",
      "Epoch 15/20\n",
      "30/30 [==============================] - 0s 15ms/step - loss: 2.8832e-08 - accuracy: 1.0000 - val_loss: 1.2599 - val_accuracy: 0.8857\n",
      "Epoch 16/20\n",
      "30/30 [==============================] - 0s 16ms/step - loss: 1.9435e-08 - accuracy: 1.0000 - val_loss: 1.2828 - val_accuracy: 0.8854\n",
      "Epoch 17/20\n",
      "30/30 [==============================] - 0s 15ms/step - loss: 1.4649e-08 - accuracy: 1.0000 - val_loss: 1.2998 - val_accuracy: 0.8855\n",
      "Epoch 18/20\n",
      "30/30 [==============================] - 0s 15ms/step - loss: 1.1744e-08 - accuracy: 1.0000 - val_loss: 1.3136 - val_accuracy: 0.8853\n",
      "Epoch 19/20\n",
      "30/30 [==============================] - 0s 15ms/step - loss: 9.7867e-09 - accuracy: 1.0000 - val_loss: 1.3243 - val_accuracy: 0.8855\n",
      "Epoch 20/20\n",
      "30/30 [==============================] - 0s 16ms/step - loss: 8.4180e-09 - accuracy: 1.0000 - val_loss: 1.3341 - val_accuracy: 0.8854\n"
     ]
    }
   ],
   "source": [
    "model.compile(optimizer=\"rmsprop\", loss=\"binary_crossentropy\", metrics=[\"accuracy\"])\n",
    "history_big_model = model.fit(train_data, train_labels, epochs=20, batch_size=512, validation_split=0.4)"
   ]
  },
  {
   "cell_type": "code",
   "execution_count": 34,
   "metadata": {},
   "outputs": [
    {
     "data": {
      "text/plain": [
       "<matplotlib.legend.Legend at 0x1c09b79d7f0>"
      ]
     },
     "execution_count": 34,
     "metadata": {},
     "output_type": "execute_result"
    },
    {
     "data": {
      "image/png": "[encoded data removed]",
      "text/plain": [
       "<Figure size 432x288 with 1 Axes>"
      ]
     },
     "metadata": {
      "needs_background": "light"
     },
     "output_type": "display_data"
    }
   ],
   "source": [
    "plt.plot(range(1, 21), history.history[\"val_loss\"], \"b--\", label=\"Original Model\")\n",
    "plt.plot(range(1, 21), history_smaller_model.history[\"val_loss\"], \"r\", label=\"Small Model\")\n",
    "plt.plot(range(1, 21), history_big_model.history[\"val_loss\"], \"g\", label=\"Big Model\")\n",
    "plt.title(\"Effect of model capacity on validation loss\")\n",
    "plt.xlabel(\"Epochs\")\n",
    "plt.ylabel(\"Loss\")\n",
    "plt.legend()"
   ]
  }
 ],
 "metadata": {
  "colab": {
   "collapsed_sections": [],
   "name": "chapter05_fundamentals-of-ml.i",
   "private_outputs": false,
   "provenance": [],
   "toc_visible": true
  },
  "kernelspec": {
   "display_name": "Python 3",
   "language": "python",
   "name": "python3"
  },
  "language_info": {
   "codemirror_mode": {
    "name": "ipython",
    "version": 3
   },
   "file_extension": ".py",
   "mimetype": "text/x-python",
   "name": "python",
   "nbconvert_exporter": "python",
   "pygments_lexer": "ipython3",
   "version": "3.8.8"
  }
 },
 "nbformat": 4,
 "nbformat_minor": 1
}
