{
 "cells": [
  {
   "cell_type": "markdown",
   "metadata": {
    "colab_type": "text"
   },
   "source": [
    "## Modern convnet architecture patterns"
   ]
  },
  {
   "cell_type": "markdown",
   "metadata": {
    "colab_type": "text"
   },
   "source": [
    "### Residual connections"
   ]
  },
  {
   "cell_type": "code",
   "execution_count": 22,
   "metadata": {
    "colab_type": "code"
   },
   "outputs": [],
   "source": [
    "from tensorflow.keras.layers import Conv2D, MaxPooling2D, Dense, Rescaling, GlobalAveragePooling2D, add\n",
    "from tensorflow.keras import Input, Model"
   ]
  },
  {
   "cell_type": "markdown",
   "metadata": {
    "colab_type": "text"
   },
   "source": [
    "**Residual block with number of filters changes**"
   ]
  },
  {
   "cell_type": "code",
   "execution_count": 14,
   "metadata": {},
   "outputs": [],
   "source": [
    "inputs = Input(shape=(32, 32, 3))\n",
    "x = Conv2D(32, 3, activation=\"relu\")(inputs)\n",
    "\n",
    "residual = x\n",
    "\n",
    "x = Conv2D(64, 3, activation=\"relu\", padding=\"same\")(x) # Target block filter changed from 32 to 64\n",
    "\n",
    "residual = Conv2D(64, 1)(residual)\n",
    "\n",
    "x = add([x, residual])"
   ]
  },
  {
   "cell_type": "markdown",
   "metadata": {
    "colab_type": "text"
   },
   "source": [
    "**Residual block with target block having a max pooling layer**"
   ]
  },
  {
   "cell_type": "code",
   "execution_count": 13,
   "metadata": {
    "colab_type": "code"
   },
   "outputs": [],
   "source": [
    "inputs = Input(shape=(32, 32, 3))\n",
    "x = Conv2D(32, 3, activation=\"relu\")(inputs)\n",
    "\n",
    "residual = x\n",
    "\n",
    "x = Conv2D(64, 3, activation=\"relu\", padding=\"same\")(x)\n",
    "x = MaxPooling2D(2, padding=\"same\")(x) # Target block\n",
    "\n",
    "residual = Conv2D(64, 1, strides=2)(residual)\n",
    "\n",
    "x = add([x, residual])"
   ]
  },
  {
   "cell_type": "markdown",
   "metadata": {},
   "source": [
    "**Utility function with residual connection**"
   ]
  },
  {
   "cell_type": "code",
   "execution_count": 24,
   "metadata": {
    "colab_type": "code"
   },
   "outputs": [
    {
     "name": "stdout",
     "output_type": "stream",
     "text": [
      "Model: \"model_1\"\n",
      "__________________________________________________________________________________________________\n",
      " Layer (type)                   Output Shape         Param #     Connected to                     \n",
      "==================================================================================================\n",
      " input_15 (InputLayer)          [(None, 32, 32, 3)]  0           []                               \n",
      "                                                                                                  \n",
      " rescaling_6 (Rescaling)        (None, 32, 32, 3)    0           ['input_15[0][0]']               \n",
      "                                                                                                  \n",
      " conv2d_77 (Conv2D)             (None, 32, 32, 32)   896         ['rescaling_6[0][0]']            \n",
      "                                                                                                  \n",
      " conv2d_78 (Conv2D)             (None, 32, 32, 32)   9248        ['conv2d_77[0][0]']              \n",
      "                                                                                                  \n",
      " max_pooling2d_14 (MaxPooling2D  (None, 16, 16, 32)  0           ['conv2d_78[0][0]']              \n",
      " )                                                                                                \n",
      "                                                                                                  \n",
      " conv2d_79 (Conv2D)             (None, 16, 16, 32)   128         ['rescaling_6[0][0]']            \n",
      "                                                                                                  \n",
      " add_25 (Add)                   (None, 16, 16, 32)   0           ['max_pooling2d_14[0][0]',       \n",
      "                                                                  'conv2d_79[0][0]']              \n",
      "                                                                                                  \n",
      " conv2d_80 (Conv2D)             (None, 16, 16, 64)   18496       ['add_25[0][0]']                 \n",
      "                                                                                                  \n",
      " conv2d_81 (Conv2D)             (None, 16, 16, 64)   36928       ['conv2d_80[0][0]']              \n",
      "                                                                                                  \n",
      " max_pooling2d_15 (MaxPooling2D  (None, 8, 8, 64)    0           ['conv2d_81[0][0]']              \n",
      " )                                                                                                \n",
      "                                                                                                  \n",
      " conv2d_82 (Conv2D)             (None, 8, 8, 64)     2112        ['add_25[0][0]']                 \n",
      "                                                                                                  \n",
      " add_26 (Add)                   (None, 8, 8, 64)     0           ['max_pooling2d_15[0][0]',       \n",
      "                                                                  'conv2d_82[0][0]']              \n",
      "                                                                                                  \n",
      " conv2d_83 (Conv2D)             (None, 8, 8, 128)    73856       ['add_26[0][0]']                 \n",
      "                                                                                                  \n",
      " conv2d_84 (Conv2D)             (None, 8, 8, 128)    147584      ['conv2d_83[0][0]']              \n",
      "                                                                                                  \n",
      " conv2d_85 (Conv2D)             (None, 8, 8, 128)    8320        ['add_26[0][0]']                 \n",
      "                                                                                                  \n",
      " add_27 (Add)                   (None, 8, 8, 128)    0           ['conv2d_84[0][0]',              \n",
      "                                                                  'conv2d_85[0][0]']              \n",
      "                                                                                                  \n",
      " global_average_pooling2d_5 (Gl  (None, 128)         0           ['add_27[0][0]']                 \n",
      " obalAveragePooling2D)                                                                            \n",
      "                                                                                                  \n",
      " dense_2 (Dense)                (None, 1)            129         ['global_average_pooling2d_5[0][0\n",
      "                                                                 ]']                              \n",
      "                                                                                                  \n",
      "==================================================================================================\n",
      "Total params: 297,697\n",
      "Trainable params: 297,697\n",
      "Non-trainable params: 0\n",
      "__________________________________________________________________________________________________\n"
     ]
    }
   ],
   "source": [
    "inputs = Input(shape=(32, 32, 3))\n",
    "x = Rescaling(1./255)(inputs)\n",
    "\n",
    "def residual_block(x, filters, pooling=False):\n",
    "    \n",
    "    residual = x\n",
    "    x = Conv2D(filters, 3, activation=\"relu\", padding=\"same\")(x)\n",
    "    x = Conv2D(filters, 3, activation=\"relu\", padding=\"same\")(x)\n",
    "    \n",
    "    if pooling:\n",
    "        x = MaxPooling2D(2, padding=\"same\")(x)\n",
    "        residual = layers.Conv2D(filters, 1, strides=2)(residual)\n",
    "    \n",
    "    elif filters != residual.shape[-1]:\n",
    "        residual = Conv2D(filters, 1)(residual)\n",
    "    x = add([x, residual])\n",
    "    \n",
    "    return x\n",
    "\n",
    "x = residual_block(x, filters=32, pooling=True)\n",
    "x = residual_block(x, filters=64, pooling=True)\n",
    "x = residual_block(x, filters=128, pooling=False)\n",
    "\n",
    "x = GlobalAveragePooling2D()(x)\n",
    "outputs = Dense(1, activation=\"sigmoid\")(x)\n",
    "model = Model(inputs=inputs, outputs=outputs)\n",
    "model.summary()"
   ]
  }
 ],
 "metadata": {
  "colab": {
   "collapsed_sections": [],
   "name": "chapter09_part02_modern-convnet-architecture-patterns.i",
   "private_outputs": false,
   "provenance": [],
   "toc_visible": true
  },
  "kernelspec": {
   "display_name": "Python 3",
   "language": "python",
   "name": "python3"
  },
  "language_info": {
   "codemirror_mode": {
    "name": "ipython",
    "version": 3
   },
   "file_extension": ".py",
   "mimetype": "text/x-python",
   "name": "python",
   "nbconvert_exporter": "python",
   "pygments_lexer": "ipython3",
   "version": "3.8.8"
  }
 },
 "nbformat": 4,
 "nbformat_minor": 1
}
