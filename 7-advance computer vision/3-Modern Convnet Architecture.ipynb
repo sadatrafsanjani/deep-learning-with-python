{
 "cells": [
  {
   "cell_type": "markdown",
   "metadata": {},
   "source": [
    "##### Residual Connection"
   ]
  },
  {
   "cell_type": "markdown",
   "metadata": {},
   "source": [
    "##### Batch Normalization"
   ]
  },
  {
   "cell_type": "markdown",
   "metadata": {},
   "source": [
    "#### Depthwise separable convolutions"
   ]
  },
  {
   "cell_type": "markdown",
   "metadata": {
    "colab_type": "text"
   },
   "source": [
    "### mini Xception"
   ]
  },
  {
   "cell_type": "code",
   "execution_count": 1,
   "metadata": {
    "colab_type": "code"
   },
   "outputs": [],
   "source": [
    "import os, shutil, pathlib\n",
    "from tensorflow.keras import Sequential\n",
    "from tensorflow.keras.layers import Conv2D, SeparableConv2D, MaxPooling2D, GlobalAveragePooling2D\n",
    "from tensorflow.keras.layers import BatchNormalization, Activation, Dropout, add, Dense\n",
    "from tensorflow.keras.layers import RandomFlip, RandomRotation, RandomZoom, Rescaling\n",
    "from tensorflow.keras import Input, Model\n",
    "from tensorflow.keras.utils import image_dataset_from_directory\n",
    "import matplotlib.pyplot as plt"
   ]
  },
  {
   "cell_type": "code",
   "execution_count": 2,
   "metadata": {},
   "outputs": [],
   "source": [
    "new_base_dir = pathlib.Path(\"cats_vs_dogs_small\")"
   ]
  },
  {
   "cell_type": "code",
   "execution_count": 3,
   "metadata": {},
   "outputs": [
    {
     "name": "stdout",
     "output_type": "stream",
     "text": [
      "Found 2000 files belonging to 2 classes.\n",
      "Found 1000 files belonging to 2 classes.\n",
      "Found 2000 files belonging to 2 classes.\n"
     ]
    }
   ],
   "source": [
    "train_dataset = image_dataset_from_directory(new_base_dir / \"train\", image_size=(180, 180), batch_size=32)\n",
    "validation_dataset = image_dataset_from_directory(new_base_dir / \"validation\", image_size=(180, 180), batch_size=32)\n",
    "test_dataset = image_dataset_from_directory(new_base_dir / \"test\", image_size=(180, 180), batch_size=32)"
   ]
  },
  {
   "cell_type": "code",
   "execution_count": 5,
   "metadata": {
    "colab_type": "code"
   },
   "outputs": [],
   "source": [
    "augmentation = Sequential([RandomFlip(\"horizontal\"), RandomRotation(0.1), RandomZoom(0.2)])"
   ]
  },
  {
   "cell_type": "code",
   "execution_count": 7,
   "metadata": {
    "colab_type": "code"
   },
   "outputs": [],
   "source": [
    "inputs = Input(shape=(180, 180, 3))\n",
    "\n",
    "x = augmentation(inputs)\n",
    "\n",
    "x = Rescaling(1./255)(x)\n",
    "\n",
    "x = Conv2D(filters=32, kernel_size=5, use_bias=False)(x)\n",
    "\n",
    "for size in [32, 64, 128, 256, 512]:\n",
    "    \n",
    "    residual = x\n",
    "\n",
    "    x = BatchNormalization()(x)\n",
    "    x = Activation(\"relu\")(x)\n",
    "    x = SeparableConv2D(size, 3, padding=\"same\", use_bias=False)(x)\n",
    "\n",
    "    x = BatchNormalization()(x)\n",
    "    x = Activation(\"relu\")(x)\n",
    "    x = SeparableConv2D(size, 3, padding=\"same\", use_bias=False)(x)\n",
    "\n",
    "    x = MaxPooling2D(3, strides=2, padding=\"same\")(x)\n",
    "\n",
    "    residual = Conv2D(size, 1, strides=2, padding=\"same\", use_bias=False)(residual)\n",
    "    \n",
    "    x = add([x, residual])\n",
    "\n",
    "x = GlobalAveragePooling2D()(x)\n",
    "x = Dropout(0.5)(x)\n",
    "\n",
    "outputs = Dense(1, activation=\"sigmoid\")(x)\n",
    "model = Model(inputs=inputs, outputs=outputs)"
   ]
  },
  {
   "cell_type": "code",
   "execution_count": 15,
   "metadata": {
    "colab_type": "code"
   },
   "outputs": [],
   "source": [
    "model.compile(loss=\"binary_crossentropy\", optimizer=\"rmsprop\", metrics=[\"accuracy\"])"
   ]
  },
  {
   "cell_type": "code",
   "execution_count": 16,
   "metadata": {},
   "outputs": [
    {
     "name": "stdout",
     "output_type": "stream",
     "text": [
      "Epoch 1/100\n",
      "WARNING:tensorflow:Using a while_loop for converting RngReadAndSkip cause there is no registered converter for this op.\n",
      "WARNING:tensorflow:Using a while_loop for converting Bitcast cause there is no registered converter for this op.\n",
      "WARNING:tensorflow:Using a while_loop for converting Bitcast cause there is no registered converter for this op.\n",
      "WARNING:tensorflow:Using a while_loop for converting StatelessRandomUniformV2 cause there is no registered converter for this op.\n",
      "WARNING:tensorflow:Using a while_loop for converting ImageProjectiveTransformV3 cause there is no registered converter for this op.\n",
      "WARNING:tensorflow:Using a while_loop for converting RngReadAndSkip cause there is no registered converter for this op.\n",
      "WARNING:tensorflow:Using a while_loop for converting Bitcast cause there is no registered converter for this op.\n",
      "WARNING:tensorflow:Using a while_loop for converting Bitcast cause there is no registered converter for this op.\n",
      "WARNING:tensorflow:Using a while_loop for converting StatelessRandomUniformV2 cause there is no registered converter for this op.\n",
      "WARNING:tensorflow:Using a while_loop for converting ImageProjectiveTransformV3 cause there is no registered converter for this op.\n",
      "WARNING:tensorflow:Using a while_loop for converting RngReadAndSkip cause there is no registered converter for this op.\n",
      "WARNING:tensorflow:Using a while_loop for converting Bitcast cause there is no registered converter for this op.\n",
      "WARNING:tensorflow:Using a while_loop for converting Bitcast cause there is no registered converter for this op.\n",
      "WARNING:tensorflow:Using a while_loop for converting StatelessRandomUniformV2 cause there is no registered converter for this op.\n",
      "WARNING:tensorflow:Using a while_loop for converting ImageProjectiveTransformV3 cause there is no registered converter for this op.\n",
      "WARNING:tensorflow:Using a while_loop for converting RngReadAndSkip cause there is no registered converter for this op.\n",
      "WARNING:tensorflow:Using a while_loop for converting Bitcast cause there is no registered converter for this op.\n",
      "WARNING:tensorflow:Using a while_loop for converting Bitcast cause there is no registered converter for this op.\n",
      "WARNING:tensorflow:Using a while_loop for converting StatelessRandomUniformV2 cause there is no registered converter for this op.\n",
      "WARNING:tensorflow:Using a while_loop for converting ImageProjectiveTransformV3 cause there is no registered converter for this op.\n",
      "63/63 [==============================] - 23s 233ms/step - loss: 0.7253 - accuracy: 0.5640 - val_loss: 0.7030 - val_accuracy: 0.5000\n",
      "Epoch 2/100\n",
      "63/63 [==============================] - 14s 227ms/step - loss: 0.6655 - accuracy: 0.5985 - val_loss: 0.6925 - val_accuracy: 0.5040\n",
      "Epoch 3/100\n",
      "63/63 [==============================] - 14s 224ms/step - loss: 0.6586 - accuracy: 0.6115 - val_loss: 0.7052 - val_accuracy: 0.5000\n",
      "Epoch 4/100\n",
      "63/63 [==============================] - 14s 226ms/step - loss: 0.6262 - accuracy: 0.6430 - val_loss: 0.7025 - val_accuracy: 0.5000\n",
      "Epoch 5/100\n",
      "63/63 [==============================] - 14s 225ms/step - loss: 0.6025 - accuracy: 0.6830 - val_loss: 0.7437 - val_accuracy: 0.5000\n",
      "Epoch 6/100\n",
      "63/63 [==============================] - 14s 225ms/step - loss: 0.5756 - accuracy: 0.7020 - val_loss: 0.7535 - val_accuracy: 0.5000\n",
      "Epoch 7/100\n",
      "63/63 [==============================] - 14s 225ms/step - loss: 0.5482 - accuracy: 0.7285 - val_loss: 1.0439 - val_accuracy: 0.5000\n",
      "Epoch 8/100\n",
      "63/63 [==============================] - 14s 224ms/step - loss: 0.5421 - accuracy: 0.7265 - val_loss: 0.7153 - val_accuracy: 0.5590\n",
      "Epoch 9/100\n",
      "63/63 [==============================] - 14s 225ms/step - loss: 0.5203 - accuracy: 0.7395 - val_loss: 1.1708 - val_accuracy: 0.5430\n",
      "Epoch 10/100\n",
      "63/63 [==============================] - 14s 224ms/step - loss: 0.5232 - accuracy: 0.7445 - val_loss: 0.5885 - val_accuracy: 0.6980\n",
      "Epoch 11/100\n",
      "63/63 [==============================] - 14s 225ms/step - loss: 0.4981 - accuracy: 0.7600 - val_loss: 0.5903 - val_accuracy: 0.7020\n",
      "Epoch 12/100\n",
      "63/63 [==============================] - 14s 224ms/step - loss: 0.4851 - accuracy: 0.7835 - val_loss: 0.6873 - val_accuracy: 0.6860\n",
      "Epoch 13/100\n",
      "63/63 [==============================] - 14s 226ms/step - loss: 0.4599 - accuracy: 0.7855 - val_loss: 3.2621 - val_accuracy: 0.5210\n",
      "Epoch 14/100\n",
      "63/63 [==============================] - 15s 230ms/step - loss: 0.4460 - accuracy: 0.7830 - val_loss: 0.4929 - val_accuracy: 0.7440\n",
      "Epoch 15/100\n",
      "63/63 [==============================] - 15s 234ms/step - loss: 0.4529 - accuracy: 0.7985 - val_loss: 0.7137 - val_accuracy: 0.6150\n",
      "Epoch 16/100\n",
      "63/63 [==============================] - 15s 233ms/step - loss: 0.4260 - accuracy: 0.8040 - val_loss: 0.6156 - val_accuracy: 0.6860\n",
      "Epoch 17/100\n",
      "63/63 [==============================] - 15s 232ms/step - loss: 0.4099 - accuracy: 0.8240 - val_loss: 0.6689 - val_accuracy: 0.7220\n",
      "Epoch 18/100\n",
      "63/63 [==============================] - 15s 230ms/step - loss: 0.3986 - accuracy: 0.8255 - val_loss: 1.1411 - val_accuracy: 0.5500\n",
      "Epoch 19/100\n",
      "63/63 [==============================] - 15s 232ms/step - loss: 0.3928 - accuracy: 0.8210 - val_loss: 0.4664 - val_accuracy: 0.7850\n",
      "Epoch 20/100\n",
      "63/63 [==============================] - 15s 230ms/step - loss: 0.3893 - accuracy: 0.8230 - val_loss: 0.4402 - val_accuracy: 0.7860\n",
      "Epoch 21/100\n",
      "63/63 [==============================] - 15s 230ms/step - loss: 0.3747 - accuracy: 0.8230 - val_loss: 0.4514 - val_accuracy: 0.7950\n",
      "Epoch 22/100\n",
      "63/63 [==============================] - 15s 230ms/step - loss: 0.3563 - accuracy: 0.8375 - val_loss: 0.5367 - val_accuracy: 0.7960\n",
      "Epoch 23/100\n",
      "63/63 [==============================] - 15s 234ms/step - loss: 0.3600 - accuracy: 0.8410 - val_loss: 0.6276 - val_accuracy: 0.7050\n",
      "Epoch 24/100\n",
      "63/63 [==============================] - 14s 229ms/step - loss: 0.3494 - accuracy: 0.8485 - val_loss: 0.4444 - val_accuracy: 0.7800\n",
      "Epoch 25/100\n",
      "63/63 [==============================] - 15s 231ms/step - loss: 0.3248 - accuracy: 0.8565 - val_loss: 0.6723 - val_accuracy: 0.7510\n",
      "Epoch 26/100\n",
      "63/63 [==============================] - 14s 229ms/step - loss: 0.3134 - accuracy: 0.8585 - val_loss: 0.4858 - val_accuracy: 0.7880\n",
      "Epoch 27/100\n",
      "63/63 [==============================] - 15s 233ms/step - loss: 0.3058 - accuracy: 0.8665 - val_loss: 0.6306 - val_accuracy: 0.7360\n",
      "Epoch 28/100\n",
      "63/63 [==============================] - 15s 233ms/step - loss: 0.2889 - accuracy: 0.8795 - val_loss: 1.0201 - val_accuracy: 0.6400\n",
      "Epoch 29/100\n",
      "63/63 [==============================] - 15s 230ms/step - loss: 0.2925 - accuracy: 0.8850 - val_loss: 0.6419 - val_accuracy: 0.7410\n",
      "Epoch 30/100\n",
      "63/63 [==============================] - 14s 229ms/step - loss: 0.2689 - accuracy: 0.8885 - val_loss: 1.0867 - val_accuracy: 0.6030\n",
      "Epoch 31/100\n",
      "63/63 [==============================] - 15s 230ms/step - loss: 0.2820 - accuracy: 0.8805 - val_loss: 0.4906 - val_accuracy: 0.7750\n",
      "Epoch 32/100\n",
      "63/63 [==============================] - 15s 229ms/step - loss: 0.2659 - accuracy: 0.8865 - val_loss: 0.4188 - val_accuracy: 0.8150\n",
      "Epoch 33/100\n",
      "63/63 [==============================] - 15s 230ms/step - loss: 0.2680 - accuracy: 0.8905 - val_loss: 0.4337 - val_accuracy: 0.8180\n",
      "Epoch 34/100\n",
      "63/63 [==============================] - 15s 231ms/step - loss: 0.2425 - accuracy: 0.8935 - val_loss: 0.7573 - val_accuracy: 0.7380\n",
      "Epoch 35/100\n",
      "63/63 [==============================] - 14s 229ms/step - loss: 0.2416 - accuracy: 0.9010 - val_loss: 0.5598 - val_accuracy: 0.7660\n",
      "Epoch 36/100\n",
      "63/63 [==============================] - 15s 230ms/step - loss: 0.2504 - accuracy: 0.8940 - val_loss: 1.3867 - val_accuracy: 0.6550\n",
      "Epoch 37/100\n",
      "63/63 [==============================] - 14s 229ms/step - loss: 0.2219 - accuracy: 0.9055 - val_loss: 0.5936 - val_accuracy: 0.7820\n",
      "Epoch 38/100\n",
      "63/63 [==============================] - 14s 229ms/step - loss: 0.2221 - accuracy: 0.9095 - val_loss: 0.3940 - val_accuracy: 0.8390\n",
      "Epoch 39/100\n",
      "63/63 [==============================] - 14s 229ms/step - loss: 0.2185 - accuracy: 0.9175 - val_loss: 0.7769 - val_accuracy: 0.7530\n",
      "Epoch 40/100\n",
      "63/63 [==============================] - 15s 230ms/step - loss: 0.2050 - accuracy: 0.9180 - val_loss: 0.9461 - val_accuracy: 0.6850\n"
     ]
    },
    {
     "name": "stdout",
     "output_type": "stream",
     "text": [
      "Epoch 41/100\n",
      "63/63 [==============================] - 15s 230ms/step - loss: 0.2141 - accuracy: 0.9020 - val_loss: 0.3775 - val_accuracy: 0.8300\n",
      "Epoch 42/100\n",
      "63/63 [==============================] - 14s 229ms/step - loss: 0.1869 - accuracy: 0.9250 - val_loss: 1.0252 - val_accuracy: 0.7230\n",
      "Epoch 43/100\n",
      "63/63 [==============================] - 14s 229ms/step - loss: 0.1908 - accuracy: 0.9225 - val_loss: 1.0199 - val_accuracy: 0.6630\n",
      "Epoch 44/100\n",
      "63/63 [==============================] - 14s 228ms/step - loss: 0.2075 - accuracy: 0.9160 - val_loss: 0.3573 - val_accuracy: 0.8550\n",
      "Epoch 45/100\n",
      "63/63 [==============================] - 15s 230ms/step - loss: 0.2004 - accuracy: 0.9185 - val_loss: 0.6700 - val_accuracy: 0.7510\n",
      "Epoch 46/100\n",
      "63/63 [==============================] - 14s 229ms/step - loss: 0.1795 - accuracy: 0.9235 - val_loss: 0.7944 - val_accuracy: 0.7860\n",
      "Epoch 47/100\n",
      "63/63 [==============================] - 14s 229ms/step - loss: 0.1875 - accuracy: 0.9235 - val_loss: 0.4206 - val_accuracy: 0.8460\n",
      "Epoch 48/100\n",
      "63/63 [==============================] - 15s 230ms/step - loss: 0.1709 - accuracy: 0.9315 - val_loss: 0.8226 - val_accuracy: 0.6900\n",
      "Epoch 49/100\n",
      "63/63 [==============================] - 15s 229ms/step - loss: 0.1773 - accuracy: 0.9325 - val_loss: 0.5067 - val_accuracy: 0.8230\n",
      "Epoch 50/100\n",
      "63/63 [==============================] - 14s 229ms/step - loss: 0.1665 - accuracy: 0.9395 - val_loss: 0.4932 - val_accuracy: 0.8340\n",
      "Epoch 51/100\n",
      "63/63 [==============================] - 14s 228ms/step - loss: 0.1669 - accuracy: 0.9255 - val_loss: 0.5549 - val_accuracy: 0.8100\n",
      "Epoch 52/100\n",
      "63/63 [==============================] - 14s 229ms/step - loss: 0.1838 - accuracy: 0.9200 - val_loss: 0.3850 - val_accuracy: 0.8340\n",
      "Epoch 53/100\n",
      "63/63 [==============================] - 14s 229ms/step - loss: 0.1730 - accuracy: 0.9325 - val_loss: 0.7034 - val_accuracy: 0.7730\n",
      "Epoch 54/100\n",
      "63/63 [==============================] - 15s 229ms/step - loss: 0.1466 - accuracy: 0.9360 - val_loss: 0.3792 - val_accuracy: 0.8610\n",
      "Epoch 55/100\n",
      "63/63 [==============================] - 15s 229ms/step - loss: 0.1605 - accuracy: 0.9380 - val_loss: 0.4895 - val_accuracy: 0.7970\n",
      "Epoch 56/100\n",
      "63/63 [==============================] - 15s 229ms/step - loss: 0.1539 - accuracy: 0.9410 - val_loss: 0.3733 - val_accuracy: 0.8600\n",
      "Epoch 57/100\n",
      "63/63 [==============================] - 15s 230ms/step - loss: 0.1621 - accuracy: 0.9360 - val_loss: 0.5812 - val_accuracy: 0.8060\n",
      "Epoch 58/100\n",
      "63/63 [==============================] - 15s 230ms/step - loss: 0.1625 - accuracy: 0.9365 - val_loss: 0.6350 - val_accuracy: 0.8090\n",
      "Epoch 59/100\n",
      "63/63 [==============================] - 14s 229ms/step - loss: 0.1312 - accuracy: 0.9425 - val_loss: 0.9226 - val_accuracy: 0.7870\n",
      "Epoch 60/100\n",
      "63/63 [==============================] - 15s 229ms/step - loss: 0.1454 - accuracy: 0.9440 - val_loss: 0.4549 - val_accuracy: 0.8540\n",
      "Epoch 61/100\n",
      "63/63 [==============================] - 14s 229ms/step - loss: 0.1210 - accuracy: 0.9525 - val_loss: 0.4174 - val_accuracy: 0.8430\n",
      "Epoch 62/100\n",
      "63/63 [==============================] - 14s 228ms/step - loss: 0.1474 - accuracy: 0.9405 - val_loss: 0.5690 - val_accuracy: 0.7880\n",
      "Epoch 63/100\n",
      "63/63 [==============================] - 15s 229ms/step - loss: 0.1343 - accuracy: 0.9435 - val_loss: 1.4778 - val_accuracy: 0.7160\n",
      "Epoch 64/100\n",
      "63/63 [==============================] - 14s 228ms/step - loss: 0.1352 - accuracy: 0.9450 - val_loss: 0.7756 - val_accuracy: 0.7700\n",
      "Epoch 65/100\n",
      "63/63 [==============================] - 15s 231ms/step - loss: 0.1132 - accuracy: 0.9550 - val_loss: 0.3430 - val_accuracy: 0.8680\n",
      "Epoch 66/100\n",
      "63/63 [==============================] - 15s 231ms/step - loss: 0.1336 - accuracy: 0.9470 - val_loss: 0.3863 - val_accuracy: 0.8630\n",
      "Epoch 67/100\n",
      "63/63 [==============================] - 15s 232ms/step - loss: 0.1021 - accuracy: 0.9585 - val_loss: 1.0564 - val_accuracy: 0.7830\n",
      "Epoch 68/100\n",
      "63/63 [==============================] - 15s 233ms/step - loss: 0.1130 - accuracy: 0.9570 - val_loss: 0.4213 - val_accuracy: 0.8670\n",
      "Epoch 69/100\n",
      "63/63 [==============================] - 15s 233ms/step - loss: 0.1347 - accuracy: 0.9495 - val_loss: 0.4469 - val_accuracy: 0.8660\n",
      "Epoch 70/100\n",
      "63/63 [==============================] - 15s 232ms/step - loss: 0.1183 - accuracy: 0.9540 - val_loss: 1.0425 - val_accuracy: 0.7550\n",
      "Epoch 71/100\n",
      "63/63 [==============================] - 15s 234ms/step - loss: 0.1079 - accuracy: 0.9575 - val_loss: 0.3515 - val_accuracy: 0.8700\n",
      "Epoch 72/100\n",
      "63/63 [==============================] - 15s 233ms/step - loss: 0.1136 - accuracy: 0.9585 - val_loss: 0.4299 - val_accuracy: 0.8590\n",
      "Epoch 73/100\n",
      "63/63 [==============================] - 15s 233ms/step - loss: 0.1246 - accuracy: 0.9475 - val_loss: 0.7656 - val_accuracy: 0.7740\n",
      "Epoch 74/100\n",
      "63/63 [==============================] - 15s 232ms/step - loss: 0.0864 - accuracy: 0.9670 - val_loss: 0.4240 - val_accuracy: 0.8610\n",
      "Epoch 75/100\n",
      "63/63 [==============================] - 15s 233ms/step - loss: 0.1307 - accuracy: 0.9530 - val_loss: 0.8629 - val_accuracy: 0.7890\n",
      "Epoch 76/100\n",
      "63/63 [==============================] - 15s 233ms/step - loss: 0.1279 - accuracy: 0.9525 - val_loss: 0.4377 - val_accuracy: 0.8550\n",
      "Epoch 77/100\n",
      "63/63 [==============================] - 15s 234ms/step - loss: 0.0977 - accuracy: 0.9590 - val_loss: 1.4004 - val_accuracy: 0.6900\n",
      "Epoch 78/100\n",
      "63/63 [==============================] - 15s 234ms/step - loss: 0.1149 - accuracy: 0.9535 - val_loss: 0.3576 - val_accuracy: 0.8820\n",
      "Epoch 79/100\n",
      "63/63 [==============================] - 15s 233ms/step - loss: 0.1004 - accuracy: 0.9615 - val_loss: 0.4783 - val_accuracy: 0.8600\n",
      "Epoch 80/100\n",
      "63/63 [==============================] - 15s 235ms/step - loss: 0.0955 - accuracy: 0.9660 - val_loss: 0.5386 - val_accuracy: 0.8480\n",
      "Epoch 81/100\n",
      "63/63 [==============================] - 15s 235ms/step - loss: 0.1122 - accuracy: 0.9635 - val_loss: 1.4181 - val_accuracy: 0.7370\n",
      "Epoch 82/100\n",
      "63/63 [==============================] - 15s 235ms/step - loss: 0.0802 - accuracy: 0.9705 - val_loss: 0.5303 - val_accuracy: 0.8550\n",
      "Epoch 83/100\n",
      "63/63 [==============================] - 15s 233ms/step - loss: 0.0997 - accuracy: 0.9570 - val_loss: 0.6174 - val_accuracy: 0.8300\n",
      "Epoch 84/100\n",
      "63/63 [==============================] - 15s 233ms/step - loss: 0.0927 - accuracy: 0.9655 - val_loss: 0.7044 - val_accuracy: 0.8070\n",
      "Epoch 85/100\n",
      "63/63 [==============================] - 15s 233ms/step - loss: 0.0754 - accuracy: 0.9740 - val_loss: 0.6074 - val_accuracy: 0.8550\n",
      "Epoch 86/100\n",
      "63/63 [==============================] - 15s 233ms/step - loss: 0.1158 - accuracy: 0.9590 - val_loss: 0.5202 - val_accuracy: 0.8440\n",
      "Epoch 87/100\n",
      "63/63 [==============================] - 15s 233ms/step - loss: 0.1098 - accuracy: 0.9600 - val_loss: 0.5068 - val_accuracy: 0.8350\n",
      "Epoch 88/100\n",
      "63/63 [==============================] - 15s 233ms/step - loss: 0.0937 - accuracy: 0.9610 - val_loss: 1.1785 - val_accuracy: 0.7260\n",
      "Epoch 89/100\n",
      "63/63 [==============================] - 15s 230ms/step - loss: 0.0855 - accuracy: 0.9735 - val_loss: 0.7651 - val_accuracy: 0.8100\n",
      "Epoch 90/100\n",
      "63/63 [==============================] - 15s 233ms/step - loss: 0.1041 - accuracy: 0.9615 - val_loss: 0.4785 - val_accuracy: 0.8640\n",
      "Epoch 91/100\n",
      "63/63 [==============================] - 15s 233ms/step - loss: 0.0713 - accuracy: 0.9710 - val_loss: 0.5886 - val_accuracy: 0.8650\n",
      "Epoch 92/100\n",
      "63/63 [==============================] - 15s 234ms/step - loss: 0.0820 - accuracy: 0.9695 - val_loss: 0.4120 - val_accuracy: 0.8710\n",
      "Epoch 93/100\n",
      "63/63 [==============================] - 15s 234ms/step - loss: 0.0842 - accuracy: 0.9690 - val_loss: 0.5277 - val_accuracy: 0.8580\n",
      "Epoch 94/100\n",
      "63/63 [==============================] - 15s 235ms/step - loss: 0.1169 - accuracy: 0.9555 - val_loss: 0.4081 - val_accuracy: 0.8800\n",
      "Epoch 95/100\n",
      "63/63 [==============================] - 15s 232ms/step - loss: 0.0836 - accuracy: 0.9695 - val_loss: 0.4240 - val_accuracy: 0.8720\n",
      "Epoch 96/100\n",
      "63/63 [==============================] - 15s 233ms/step - loss: 0.0789 - accuracy: 0.9675 - val_loss: 0.8906 - val_accuracy: 0.8070\n",
      "Epoch 97/100\n",
      "63/63 [==============================] - 15s 232ms/step - loss: 0.0874 - accuracy: 0.9660 - val_loss: 2.6143 - val_accuracy: 0.6780\n",
      "Epoch 98/100\n",
      "63/63 [==============================] - 15s 232ms/step - loss: 0.0728 - accuracy: 0.9730 - val_loss: 0.8008 - val_accuracy: 0.8050\n",
      "Epoch 99/100\n",
      "63/63 [==============================] - 15s 233ms/step - loss: 0.0942 - accuracy: 0.9670 - val_loss: 3.3245 - val_accuracy: 0.5760\n",
      "Epoch 100/100\n",
      "63/63 [==============================] - 15s 233ms/step - loss: 0.0916 - accuracy: 0.9700 - val_loss: 0.3983 - val_accuracy: 0.8880\n"
     ]
    }
   ],
   "source": [
    "history = model.fit(train_dataset, epochs=100, validation_data=validation_dataset)"
   ]
  },
  {
   "cell_type": "code",
   "execution_count": 22,
   "metadata": {},
   "outputs": [
    {
     "data": {
      "text/plain": [
       "<matplotlib.legend.Legend at 0x1e96b8d9f10>"
      ]
     },
     "execution_count": 22,
     "metadata": {},
     "output_type": "execute_result"
    },
    {
     "data": {
      "image/png": "[encoded data removed]",
      "text/plain": [
       "<Figure size 432x288 with 1 Axes>"
      ]
     },
     "metadata": {
      "needs_background": "light"
     },
     "output_type": "display_data"
    }
   ],
   "source": [
    "epochs = range(1, len(history.history[\"accuracy\"]) + 1)\n",
    "accuracy = history.history[\"accuracy\"]\n",
    "val_accuracy = history.history[\"val_accuracy\"]\n",
    "plt.figure()\n",
    "plt.plot(epochs, accuracy, \"bo\", label=\"Training accuracy\")\n",
    "plt.plot(epochs, val_accuracy, \"b\", label=\"Validation accuracy\")\n",
    "plt.title(\"Training and validation accuracy\")\n",
    "plt.legend()"
   ]
  },
  {
   "cell_type": "code",
   "execution_count": 21,
   "metadata": {},
   "outputs": [
    {
     "data": {
      "text/plain": [
       "<matplotlib.legend.Legend at 0x1e961d03700>"
      ]
     },
     "execution_count": 21,
     "metadata": {},
     "output_type": "execute_result"
    },
    {
     "data": {
      "image/png": "[encoded data removed]",
      "text/plain": [
       "<Figure size 432x288 with 1 Axes>"
      ]
     },
     "metadata": {
      "needs_background": "light"
     },
     "output_type": "display_data"
    }
   ],
   "source": [
    "epochs = range(1, len(history.history[\"loss\"]) + 1)\n",
    "loss = history.history[\"loss\"]\n",
    "val_loss = history.history[\"val_loss\"]\n",
    "plt.figure()\n",
    "plt.plot(epochs, loss, \"bo\", label=\"Training loss\")\n",
    "plt.plot(epochs, val_loss, \"b\", label=\"Validation loss\")\n",
    "plt.title(\"Training and validation loss\")\n",
    "plt.legend()"
   ]
  }
 ],
 "metadata": {
  "colab": {
   "collapsed_sections": [],
   "name": "chapter09_part02_modern-convnet-architecture-patterns.i",
   "private_outputs": false,
   "provenance": [],
   "toc_visible": true
  },
  "kernelspec": {
   "display_name": "Python 3",
   "language": "python",
   "name": "python3"
  },
  "language_info": {
   "codemirror_mode": {
    "name": "ipython",
    "version": 3
   },
   "file_extension": ".py",
   "mimetype": "text/x-python",
   "name": "python",
   "nbconvert_exporter": "python",
   "pygments_lexer": "ipython3",
   "version": "3.8.8"
  }
 },
 "nbformat": 4,
 "nbformat_minor": 1
}
